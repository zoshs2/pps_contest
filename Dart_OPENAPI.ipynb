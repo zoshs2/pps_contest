{
 "cells": [
  {
   "cell_type": "code",
   "execution_count": 1,
   "metadata": {},
   "outputs": [],
   "source": [
    "import requests\n",
    "from io import BytesIO\n",
    "import zipfile\n",
    "import xmltodict\n",
    "import json\n",
    "import numpy as np\n",
    "import pandas as pd\n",
    "from collections import defaultdict\n",
    "from tqdm import tqdm\n",
    "import warnings\n",
    "import seaborn as sns\n",
    "import matplotlib.pyplot as plt\n",
    "import matplotlib\n",
    "from config import *\n",
    "warnings.filterwarnings(action='ignore')\n",
    "\n",
    "BasePath = '/Users/yungi/Documents/Dataset/'\n",
    "crtfc_key = DART_PRIVATE['API_KEY']\n",
    "api = 'https://opendart.fss.or.kr/api/corpCode.xml'\n",
    "res = requests.get(api, params={'crtfc_key': crtfc_key})\n",
    "data_xml = zipfile.ZipFile(BytesIO(res.content))"
   ]
  },
  {
   "cell_type": "code",
   "execution_count": 2,
   "metadata": {},
   "outputs": [],
   "source": [
    "data_xml = data_xml.read('CORPCODE.xml').decode('utf-8')\n",
    "data_odict = xmltodict.parse(data_xml)\n",
    "data_dict = json.loads(json.dumps(data_odict))\n",
    "data = data_dict.get('result', {}).get('list')"
   ]
  },
  {
   "cell_type": "code",
   "execution_count": 3,
   "metadata": {},
   "outputs": [],
   "source": [
    "data = pd.DataFrame(data)"
   ]
  },
  {
   "cell_type": "code",
   "execution_count": 27,
   "metadata": {},
   "outputs": [],
   "source": [
    "GpassComp = pd.read_csv(\"/Users/yungi/Documents/Dataset/20220213기준_GPASS기업목록_업체명+사업자번호+시작일자+종료일자.csv\")"
   ]
  },
  {
   "cell_type": "code",
   "execution_count": 28,
   "metadata": {},
   "outputs": [
    {
     "data": {
      "text/plain": "0           (주)우드메탈\n1          주식회사 토페스\n2       주식회사 케이에스아이\n3         주식회사 다빈워텍\n4         주식회사 디에스엘\n           ...     \n1016      주식회사 효신테크\n1017      호평중공업주식회사\n1018       (주)케이에스피\n1019      주식회사 대경산전\n1020     주식회사 대명콘스텍\nName: 업체명, Length: 1021, dtype: object"
     },
     "execution_count": 28,
     "metadata": {},
     "output_type": "execute_result"
    }
   ],
   "source": [
    "GpassComp['업체명']"
   ]
  },
  {
   "cell_type": "code",
   "execution_count": 6,
   "metadata": {},
   "outputs": [],
   "source": [
    "GpassComp['업체명'] = GpassComp['업체명'].agg(lambda x: x.split('(주)')[1] if x.startswith('(주)') else x.split('주식회사')[1] if x.startswith('주식회사') else x)"
   ]
  },
  {
   "cell_type": "code",
   "execution_count": 7,
   "metadata": {},
   "outputs": [],
   "source": [
    "GpassComp['업체명'] = GpassComp['업체명'].agg(lambda x: x.split(' 주식회사')[0] if x.endswith(' 주식회사') else x.split('주식회사')[0] if x.endswith('주식회사') else x)"
   ]
  },
  {
   "cell_type": "code",
   "execution_count": 8,
   "metadata": {},
   "outputs": [
    {
     "data": {
      "text/html": "<div>\n<style scoped>\n    .dataframe tbody tr th:only-of-type {\n        vertical-align: middle;\n    }\n\n    .dataframe tbody tr th {\n        vertical-align: top;\n    }\n\n    .dataframe thead th {\n        text-align: right;\n    }\n</style>\n<table border=\"1\" class=\"dataframe\">\n  <thead>\n    <tr style=\"text-align: right;\">\n      <th></th>\n      <th>업체명</th>\n      <th>사업자번호</th>\n      <th>시작일자</th>\n      <th>종료일자</th>\n    </tr>\n  </thead>\n  <tbody>\n    <tr>\n      <th>0</th>\n      <td>우드메탈</td>\n      <td>1328128395</td>\n      <td>2014-03-27</td>\n      <td>2022-03-26</td>\n    </tr>\n    <tr>\n      <th>1</th>\n      <td>토페스</td>\n      <td>2078115520</td>\n      <td>2014-03-27</td>\n      <td>2022-03-26</td>\n    </tr>\n    <tr>\n      <th>2</th>\n      <td>케이에스아이</td>\n      <td>4078102931</td>\n      <td>2014-03-27</td>\n      <td>2022-03-26</td>\n    </tr>\n    <tr>\n      <th>3</th>\n      <td>다빈워텍</td>\n      <td>1328179142</td>\n      <td>2014-03-27</td>\n      <td>2022-03-26</td>\n    </tr>\n    <tr>\n      <th>4</th>\n      <td>디에스엘</td>\n      <td>1378141582</td>\n      <td>2014-03-27</td>\n      <td>2022-03-26</td>\n    </tr>\n    <tr>\n      <th>...</th>\n      <td>...</td>\n      <td>...</td>\n      <td>...</td>\n      <td>...</td>\n    </tr>\n    <tr>\n      <th>1016</th>\n      <td>효신테크</td>\n      <td>1378155581</td>\n      <td>2021-12-17</td>\n      <td>2026-12-16</td>\n    </tr>\n    <tr>\n      <th>1017</th>\n      <td>호평중공업</td>\n      <td>4058104758</td>\n      <td>2021-12-17</td>\n      <td>2026-12-16</td>\n    </tr>\n    <tr>\n      <th>1018</th>\n      <td>케이에스피</td>\n      <td>1288174527</td>\n      <td>2021-12-17</td>\n      <td>2026-12-16</td>\n    </tr>\n    <tr>\n      <th>1019</th>\n      <td>대경산전</td>\n      <td>4028164121</td>\n      <td>2021-12-17</td>\n      <td>2026-12-16</td>\n    </tr>\n    <tr>\n      <th>1020</th>\n      <td>대명콘스텍</td>\n      <td>1198662546</td>\n      <td>2021-12-17</td>\n      <td>2026-12-16</td>\n    </tr>\n  </tbody>\n</table>\n<p>1021 rows × 4 columns</p>\n</div>",
      "text/plain": "          업체명       사업자번호        시작일자        종료일자\n0        우드메탈  1328128395  2014-03-27  2022-03-26\n1         토페스  2078115520  2014-03-27  2022-03-26\n2      케이에스아이  4078102931  2014-03-27  2022-03-26\n3        다빈워텍  1328179142  2014-03-27  2022-03-26\n4        디에스엘  1378141582  2014-03-27  2022-03-26\n...       ...         ...         ...         ...\n1016     효신테크  1378155581  2021-12-17  2026-12-16\n1017    호평중공업  4058104758  2021-12-17  2026-12-16\n1018    케이에스피  1288174527  2021-12-17  2026-12-16\n1019     대경산전  4028164121  2021-12-17  2026-12-16\n1020    대명콘스텍  1198662546  2021-12-17  2026-12-16\n\n[1021 rows x 4 columns]"
     },
     "execution_count": 8,
     "metadata": {},
     "output_type": "execute_result"
    }
   ],
   "source": [
    "GpassComp"
   ]
  },
  {
   "cell_type": "code",
   "execution_count": 9,
   "metadata": {},
   "outputs": [],
   "source": [
    "# TEST - feel free to remove\n",
    "BasePath = '/Users/yungi/Documents/Dataset/'\n",
    "pps_data = pd.read_csv(os.path.join(BasePath, '조달기업별_실적_202111.csv'))"
   ]
  },
  {
   "cell_type": "code",
   "execution_count": 10,
   "metadata": {},
   "outputs": [],
   "source": [
    "# TEST2\n",
    "NotGpass = pps_data[~pps_data['업체명'].isin(GpassComp['업체명'])].drop(0).reset_index(drop=True)"
   ]
  },
  {
   "cell_type": "code",
   "execution_count": 12,
   "metadata": {},
   "outputs": [
    {
     "data": {
      "text/html": "<div>\n<style scoped>\n    .dataframe tbody tr th:only-of-type {\n        vertical-align: middle;\n    }\n\n    .dataframe tbody tr th {\n        vertical-align: top;\n    }\n\n    .dataframe thead th {\n        text-align: right;\n    }\n</style>\n<table border=\"1\" class=\"dataframe\">\n  <thead>\n    <tr style=\"text-align: right;\">\n      <th></th>\n      <th>corp_code</th>\n      <th>corp_name</th>\n      <th>stock_code</th>\n      <th>modify_date</th>\n      <th>전년총건수</th>\n      <th>전년총금액</th>\n      <th>당년총건수</th>\n      <th>당년총금액</th>\n      <th>증감건수</th>\n      <th>증감금액</th>\n    </tr>\n  </thead>\n  <tbody>\n    <tr>\n      <th>0</th>\n      <td>00305297</td>\n      <td>코텍</td>\n      <td>052330</td>\n      <td>20211214</td>\n      <td>0</td>\n      <td>0.0</td>\n      <td>2</td>\n      <td>116930000.0</td>\n      <td>_</td>\n      <td>_</td>\n    </tr>\n    <tr>\n      <th>1</th>\n      <td>00106313</td>\n      <td>금호건설</td>\n      <td>002990</td>\n      <td>20210413</td>\n      <td>3</td>\n      <td>3001990.0</td>\n      <td>1</td>\n      <td>530200.0</td>\n      <td>-66.67</td>\n      <td>-82.34</td>\n    </tr>\n    <tr>\n      <th>2</th>\n      <td>00173351</td>\n      <td>삼진</td>\n      <td>032750</td>\n      <td>20211125</td>\n      <td>1</td>\n      <td>374000.0</td>\n      <td>0</td>\n      <td>0.0</td>\n      <td>_</td>\n      <td>_</td>\n    </tr>\n    <tr>\n      <th>3</th>\n      <td>00190321</td>\n      <td>케이티</td>\n      <td>030200</td>\n      <td>20220128</td>\n      <td>1</td>\n      <td>17240.0</td>\n      <td>0</td>\n      <td>0.0</td>\n      <td>_</td>\n      <td>_</td>\n    </tr>\n    <tr>\n      <th>4</th>\n      <td>00300548</td>\n      <td>현대리바트</td>\n      <td>079430</td>\n      <td>20211203</td>\n      <td>2</td>\n      <td>983400.0</td>\n      <td>1</td>\n      <td>4979700.0</td>\n      <td>-50.00</td>\n      <td>406.38</td>\n    </tr>\n    <tr>\n      <th>...</th>\n      <td>...</td>\n      <td>...</td>\n      <td>...</td>\n      <td>...</td>\n      <td>...</td>\n      <td>...</td>\n      <td>...</td>\n      <td>...</td>\n      <td>...</td>\n      <td>...</td>\n    </tr>\n    <tr>\n      <th>226</th>\n      <td>00152260</td>\n      <td>카스</td>\n      <td>016920</td>\n      <td>20211203</td>\n      <td>0</td>\n      <td>0.0</td>\n      <td>1</td>\n      <td>1430000.0</td>\n      <td>_</td>\n      <td>_</td>\n    </tr>\n    <tr>\n      <th>227</th>\n      <td>00131939</td>\n      <td>선도전기</td>\n      <td>007610</td>\n      <td>20211203</td>\n      <td>0</td>\n      <td>0.0</td>\n      <td>3</td>\n      <td>815300.0</td>\n      <td>_</td>\n      <td>_</td>\n    </tr>\n    <tr>\n      <th>228</th>\n      <td>00180795</td>\n      <td>인팩</td>\n      <td>023810</td>\n      <td>20211203</td>\n      <td>2</td>\n      <td>49940000.0</td>\n      <td>0</td>\n      <td>0.0</td>\n      <td>_</td>\n      <td>_</td>\n    </tr>\n    <tr>\n      <th>229</th>\n      <td>00423690</td>\n      <td>삼성출판사</td>\n      <td>068290</td>\n      <td>20211203</td>\n      <td>1</td>\n      <td>332640.0</td>\n      <td>0</td>\n      <td>0.0</td>\n      <td>_</td>\n      <td>_</td>\n    </tr>\n    <tr>\n      <th>230</th>\n      <td>00110875</td>\n      <td>대신정보통신</td>\n      <td>020180</td>\n      <td>20210901</td>\n      <td>3</td>\n      <td>3850000.0</td>\n      <td>1</td>\n      <td>4180000.0</td>\n      <td>-66.67</td>\n      <td>8.57</td>\n    </tr>\n  </tbody>\n</table>\n<p>231 rows × 10 columns</p>\n</div>",
      "text/plain": "    corp_code corp_name stock_code modify_date  전년총건수       전년총금액  당년총건수  \\\n0    00305297        코텍     052330    20211214      0         0.0      2   \n1    00106313      금호건설     002990    20210413      3   3001990.0      1   \n2    00173351        삼진     032750    20211125      1    374000.0      0   \n3    00190321       케이티     030200    20220128      1     17240.0      0   \n4    00300548     현대리바트     079430    20211203      2    983400.0      1   \n..        ...       ...        ...         ...    ...         ...    ...   \n226  00152260        카스     016920    20211203      0         0.0      1   \n227  00131939      선도전기     007610    20211203      0         0.0      3   \n228  00180795        인팩     023810    20211203      2  49940000.0      0   \n229  00423690     삼성출판사     068290    20211203      1    332640.0      0   \n230  00110875    대신정보통신     020180    20210901      3   3850000.0      1   \n\n           당년총금액    증감건수    증감금액  \n0    116930000.0       _       _  \n1       530200.0  -66.67  -82.34  \n2            0.0       _       _  \n3            0.0       _       _  \n4      4979700.0  -50.00  406.38  \n..           ...     ...     ...  \n226    1430000.0       _       _  \n227     815300.0       _       _  \n228          0.0       _       _  \n229          0.0       _       _  \n230    4180000.0  -66.67    8.57  \n\n[231 rows x 10 columns]"
     },
     "execution_count": 12,
     "metadata": {},
     "output_type": "execute_result"
    }
   ],
   "source": [
    "# NonGPASS 중 DART 등록 회사들만 추려내기\n",
    "Dart_NonGpass = pd.merge(data, NotGpass.rename(columns={'업체명':'corp_name'}), on=['corp_name'], how='inner')\n",
    "# NonGPASS기업 + DART 공시대상 + 상장회사 필터링\n",
    "Dart_NonGpass = Dart_NonGpass[~Dart_NonGpass['stock_code'].isna()].reset_index(drop=True)\n",
    "# 동일한 이름가진 회사들 걸러내기\n",
    "SpecCorp = pd.DataFrame(Dart_NonGpass['corp_name'].value_counts())\n",
    "Dart_NonGpass = Dart_NonGpass[Dart_NonGpass['corp_name'].isin(SpecCorp[SpecCorp['corp_name']==1].index)].reset_index(drop=True)\n",
    "Dart_NonGpass\n"
   ]
  },
  {
   "cell_type": "code",
   "execution_count": null,
   "metadata": {},
   "outputs": [],
   "source": []
  },
  {
   "cell_type": "code",
   "execution_count": 13,
   "metadata": {},
   "outputs": [
    {
     "data": {
      "text/html": "<div>\n<style scoped>\n    .dataframe tbody tr th:only-of-type {\n        vertical-align: middle;\n    }\n\n    .dataframe tbody tr th {\n        vertical-align: top;\n    }\n\n    .dataframe thead th {\n        text-align: right;\n    }\n</style>\n<table border=\"1\" class=\"dataframe\">\n  <thead>\n    <tr style=\"text-align: right;\">\n      <th></th>\n      <th>corp_code</th>\n      <th>corp_name</th>\n      <th>stock_code</th>\n      <th>modify_date</th>\n    </tr>\n  </thead>\n  <tbody>\n    <tr>\n      <th>492</th>\n      <td>00255372</td>\n      <td>센텍</td>\n      <td>None</td>\n      <td>20170630</td>\n    </tr>\n    <tr>\n      <th>1989</th>\n      <td>00110325</td>\n      <td>대성</td>\n      <td>None</td>\n      <td>20170630</td>\n    </tr>\n    <tr>\n      <th>2324</th>\n      <td>00192365</td>\n      <td>대원산업</td>\n      <td>None</td>\n      <td>20170630</td>\n    </tr>\n    <tr>\n      <th>2786</th>\n      <td>00172033</td>\n      <td>경동산업</td>\n      <td>None</td>\n      <td>20170630</td>\n    </tr>\n    <tr>\n      <th>4065</th>\n      <td>00818047</td>\n      <td>대성</td>\n      <td>None</td>\n      <td>20170630</td>\n    </tr>\n    <tr>\n      <th>...</th>\n      <td>...</td>\n      <td>...</td>\n      <td>...</td>\n      <td>...</td>\n    </tr>\n    <tr>\n      <th>88107</th>\n      <td>00234722</td>\n      <td>유천엔바이로</td>\n      <td>None</td>\n      <td>20220211</td>\n    </tr>\n    <tr>\n      <th>88436</th>\n      <td>00102353</td>\n      <td>경창산업</td>\n      <td>024910</td>\n      <td>20210709</td>\n    </tr>\n    <tr>\n      <th>88622</th>\n      <td>00667443</td>\n      <td>동양이앤씨</td>\n      <td>None</td>\n      <td>20210510</td>\n    </tr>\n    <tr>\n      <th>89149</th>\n      <td>00226538</td>\n      <td>대왕철강</td>\n      <td>None</td>\n      <td>20211203</td>\n    </tr>\n    <tr>\n      <th>89178</th>\n      <td>01288632</td>\n      <td>국보싸이언스</td>\n      <td>None</td>\n      <td>20210503</td>\n    </tr>\n  </tbody>\n</table>\n<p>246 rows × 4 columns</p>\n</div>",
      "text/plain": "      corp_code corp_name stock_code modify_date\n492    00255372        센텍       None    20170630\n1989   00110325        대성       None    20170630\n2324   00192365      대원산업       None    20170630\n2786   00172033      경동산업       None    20170630\n4065   00818047        대성       None    20170630\n...         ...       ...        ...         ...\n88107  00234722    유천엔바이로       None    20220211\n88436  00102353      경창산업     024910    20210709\n88622  00667443     동양이앤씨       None    20210510\n89149  00226538      대왕철강       None    20211203\n89178  01288632    국보싸이언스       None    20210503\n\n[246 rows x 4 columns]"
     },
     "execution_count": 13,
     "metadata": {},
     "output_type": "execute_result"
    }
   ],
   "source": [
    "# DART에 등록되어 있는 공시대상회사 목록에 GPASS기업이 얼마나 등록되어 있는지 확인\n",
    "target = data[data['corp_name'].isin(GpassComp['업체명'])]\n",
    "target"
   ]
  },
  {
   "cell_type": "code",
   "execution_count": 14,
   "metadata": {},
   "outputs": [
    {
     "data": {
      "text/html": "<div>\n<style scoped>\n    .dataframe tbody tr th:only-of-type {\n        vertical-align: middle;\n    }\n\n    .dataframe tbody tr th {\n        vertical-align: top;\n    }\n\n    .dataframe thead th {\n        text-align: right;\n    }\n</style>\n<table border=\"1\" class=\"dataframe\">\n  <thead>\n    <tr style=\"text-align: right;\">\n      <th></th>\n      <th>corp_code</th>\n      <th>corp_name</th>\n      <th>stock_code</th>\n      <th>modify_date</th>\n    </tr>\n  </thead>\n  <tbody>\n    <tr>\n      <th>4277</th>\n      <td>00761387</td>\n      <td>제이엔티</td>\n      <td>None</td>\n      <td>20170630</td>\n    </tr>\n    <tr>\n      <th>4448</th>\n      <td>00489580</td>\n      <td>디앤에스테크놀로지</td>\n      <td>None</td>\n      <td>20170630</td>\n    </tr>\n    <tr>\n      <th>4911</th>\n      <td>00589118</td>\n      <td>에니텍시스</td>\n      <td>None</td>\n      <td>20170630</td>\n    </tr>\n    <tr>\n      <th>8037</th>\n      <td>00319494</td>\n      <td>옥서스</td>\n      <td>None</td>\n      <td>20170630</td>\n    </tr>\n    <tr>\n      <th>8371</th>\n      <td>00495350</td>\n      <td>한길산업</td>\n      <td>None</td>\n      <td>20170630</td>\n    </tr>\n    <tr>\n      <th>...</th>\n      <td>...</td>\n      <td>...</td>\n      <td>...</td>\n      <td>...</td>\n    </tr>\n    <tr>\n      <th>88107</th>\n      <td>00234722</td>\n      <td>유천엔바이로</td>\n      <td>None</td>\n      <td>20220211</td>\n    </tr>\n    <tr>\n      <th>88436</th>\n      <td>00102353</td>\n      <td>경창산업</td>\n      <td>024910</td>\n      <td>20210709</td>\n    </tr>\n    <tr>\n      <th>88622</th>\n      <td>00667443</td>\n      <td>동양이앤씨</td>\n      <td>None</td>\n      <td>20210510</td>\n    </tr>\n    <tr>\n      <th>89149</th>\n      <td>00226538</td>\n      <td>대왕철강</td>\n      <td>None</td>\n      <td>20211203</td>\n    </tr>\n    <tr>\n      <th>89178</th>\n      <td>01288632</td>\n      <td>국보싸이언스</td>\n      <td>None</td>\n      <td>20210503</td>\n    </tr>\n  </tbody>\n</table>\n<p>145 rows × 4 columns</p>\n</div>",
      "text/plain": "      corp_code  corp_name stock_code modify_date\n4277   00761387       제이엔티       None    20170630\n4448   00489580  디앤에스테크놀로지       None    20170630\n4911   00589118      에니텍시스       None    20170630\n8037   00319494        옥서스       None    20170630\n8371   00495350       한길산업       None    20170630\n...         ...        ...        ...         ...\n88107  00234722     유천엔바이로       None    20220211\n88436  00102353       경창산업     024910    20210709\n88622  00667443      동양이앤씨       None    20210510\n89149  00226538       대왕철강       None    20211203\n89178  01288632     국보싸이언스       None    20210503\n\n[145 rows x 4 columns]"
     },
     "execution_count": 14,
     "metadata": {},
     "output_type": "execute_result"
    }
   ],
   "source": [
    "SpecCorp = pd.DataFrame(target['corp_name'].value_counts())\n",
    "# 여러 개 뜨는애들은 분간하기 힘들어서 일단 분석에서 제외!\n",
    "# 기업이름 유일하게 하나밖에 없는 것만 분석대상에 포함\n",
    "target = target[target['corp_name'].isin(SpecCorp[SpecCorp['corp_name']==1].index)]\n",
    "target"
   ]
  },
  {
   "cell_type": "code",
   "execution_count": 15,
   "metadata": {},
   "outputs": [
    {
     "data": {
      "text/html": "<div>\n<style scoped>\n    .dataframe tbody tr th:only-of-type {\n        vertical-align: middle;\n    }\n\n    .dataframe tbody tr th {\n        vertical-align: top;\n    }\n\n    .dataframe thead th {\n        text-align: right;\n    }\n</style>\n<table border=\"1\" class=\"dataframe\">\n  <thead>\n    <tr style=\"text-align: right;\">\n      <th></th>\n      <th>corp_code</th>\n      <th>corp_name</th>\n      <th>stock_code</th>\n      <th>modify_date</th>\n    </tr>\n  </thead>\n  <tbody>\n    <tr>\n      <th>53330</th>\n      <td>00273439</td>\n      <td>메디아나</td>\n      <td>041920</td>\n      <td>20210218</td>\n    </tr>\n    <tr>\n      <th>65955</th>\n      <td>00408266</td>\n      <td>유니온커뮤니티</td>\n      <td>203450</td>\n      <td>20210302</td>\n    </tr>\n    <tr>\n      <th>68557</th>\n      <td>00525864</td>\n      <td>피앤씨테크</td>\n      <td>237750</td>\n      <td>20210428</td>\n    </tr>\n    <tr>\n      <th>74191</th>\n      <td>00362159</td>\n      <td>웰크론</td>\n      <td>065950</td>\n      <td>20210226</td>\n    </tr>\n    <tr>\n      <th>74387</th>\n      <td>00605522</td>\n      <td>소룩스</td>\n      <td>290690</td>\n      <td>20210223</td>\n    </tr>\n    <tr>\n      <th>77823</th>\n      <td>00156150</td>\n      <td>하이트론씨스템즈</td>\n      <td>019490</td>\n      <td>20211213</td>\n    </tr>\n    <tr>\n      <th>77856</th>\n      <td>00632793</td>\n      <td>전진바이오팜</td>\n      <td>110020</td>\n      <td>20210601</td>\n    </tr>\n    <tr>\n      <th>78227</th>\n      <td>00351375</td>\n      <td>뉴보텍</td>\n      <td>060260</td>\n      <td>20211206</td>\n    </tr>\n    <tr>\n      <th>78483</th>\n      <td>00328191</td>\n      <td>케이에스피</td>\n      <td>073010</td>\n      <td>20211206</td>\n    </tr>\n    <tr>\n      <th>78549</th>\n      <td>00140955</td>\n      <td>한솔케미칼</td>\n      <td>014680</td>\n      <td>20211217</td>\n    </tr>\n    <tr>\n      <th>78817</th>\n      <td>00269922</td>\n      <td>인바디</td>\n      <td>041830</td>\n      <td>20211221</td>\n    </tr>\n    <tr>\n      <th>79176</th>\n      <td>00418379</td>\n      <td>자연과환경</td>\n      <td>043910</td>\n      <td>20211210</td>\n    </tr>\n    <tr>\n      <th>79371</th>\n      <td>00266934</td>\n      <td>파루</td>\n      <td>043200</td>\n      <td>20211129</td>\n    </tr>\n    <tr>\n      <th>80979</th>\n      <td>00480367</td>\n      <td>삼강엠앤티</td>\n      <td>100090</td>\n      <td>20220110</td>\n    </tr>\n    <tr>\n      <th>82113</th>\n      <td>00261373</td>\n      <td>마크로젠</td>\n      <td>038290</td>\n      <td>20210928</td>\n    </tr>\n    <tr>\n      <th>84772</th>\n      <td>00360577</td>\n      <td>엑사이엔씨</td>\n      <td>054940</td>\n      <td>20210915</td>\n    </tr>\n    <tr>\n      <th>84806</th>\n      <td>00135795</td>\n      <td>신도리코</td>\n      <td>029530</td>\n      <td>20220124</td>\n    </tr>\n    <tr>\n      <th>87677</th>\n      <td>00864338</td>\n      <td>웹스</td>\n      <td>196700</td>\n      <td>20211201</td>\n    </tr>\n    <tr>\n      <th>88436</th>\n      <td>00102353</td>\n      <td>경창산업</td>\n      <td>024910</td>\n      <td>20210709</td>\n    </tr>\n  </tbody>\n</table>\n</div>",
      "text/plain": "      corp_code corp_name stock_code modify_date\n53330  00273439      메디아나     041920    20210218\n65955  00408266   유니온커뮤니티     203450    20210302\n68557  00525864     피앤씨테크     237750    20210428\n74191  00362159       웰크론     065950    20210226\n74387  00605522       소룩스     290690    20210223\n77823  00156150  하이트론씨스템즈     019490    20211213\n77856  00632793    전진바이오팜     110020    20210601\n78227  00351375       뉴보텍     060260    20211206\n78483  00328191     케이에스피     073010    20211206\n78549  00140955     한솔케미칼     014680    20211217\n78817  00269922       인바디     041830    20211221\n79176  00418379     자연과환경     043910    20211210\n79371  00266934        파루     043200    20211129\n80979  00480367     삼강엠앤티     100090    20220110\n82113  00261373      마크로젠     038290    20210928\n84772  00360577     엑사이엔씨     054940    20210915\n84806  00135795      신도리코     029530    20220124\n87677  00864338        웹스     196700    20211201\n88436  00102353      경창산업     024910    20210709"
     },
     "execution_count": 15,
     "metadata": {},
     "output_type": "execute_result"
    }
   ],
   "source": [
    "# 재무제표는 주식시장에 상장된 회사 및 기업들만 의무적으로 공개하고 있다.\n",
    "# Note! DART에 등록된 GPASS기업들 중에서도 상장된 기업이 몇 안됨.\n",
    "# 즉, 현 상장된 아래 19개 GPASS 기업들에 대해서만 제무재표를 얻을 수 있음..ㅜ\n",
    "ListedGPASS = target[~target['stock_code'].isna()]\n",
    "ListedGPASS"
   ]
  },
  {
   "cell_type": "code",
   "execution_count": 16,
   "metadata": {},
   "outputs": [],
   "source": [
    "import dart_fss as dart"
   ]
  },
  {
   "cell_type": "code",
   "execution_count": 17,
   "metadata": {},
   "outputs": [
    {
     "data": {
      "text/plain": "'b6d9af0e4dcbc3874625f5f53acea795dfd3e4d8'"
     },
     "execution_count": 17,
     "metadata": {},
     "output_type": "execute_result"
    }
   ],
   "source": [
    "dart.set_api_key(api_key=crtfc_key)"
   ]
  },
  {
   "cell_type": "code",
   "execution_count": 18,
   "metadata": {},
   "outputs": [
    {
     "data": {
      "application/vnd.jupyter.widget-view+json": {
       "model_id": "ab790ccc1d9f4f15bfe0da4e30ac1727",
       "version_major": 2,
       "version_minor": 0
      },
      "text/plain": "Output()"
     },
     "metadata": {},
     "output_type": "display_data"
    },
    {
     "data": {
      "application/vnd.jupyter.widget-view+json": {
       "model_id": "09c66945bbac41078acd8bc0b669a6ab",
       "version_major": 2,
       "version_minor": 0
      },
      "text/plain": "Output()"
     },
     "metadata": {},
     "output_type": "display_data"
    },
    {
     "data": {
      "application/vnd.jupyter.widget-view+json": {
       "model_id": "b7db4f41fffe44c292cb3e4192a0ad3b",
       "version_major": 2,
       "version_minor": 0
      },
      "text/plain": "Output()"
     },
     "metadata": {},
     "output_type": "display_data"
    },
    {
     "data": {
      "application/vnd.jupyter.widget-view+json": {
       "model_id": "951bddc8316940e5a8eb25a53b093677",
       "version_major": 2,
       "version_minor": 0
      },
      "text/plain": "Annual reports:   0%|          | 0/1 [00:00<?, ?report/s]"
     },
     "metadata": {},
     "output_type": "display_data"
    }
   ],
   "source": [
    "# DART 에 공시된 모든 회사 리스트 불러오기\n",
    "corp_list = dart.get_corp_list()\n",
    "# 기업이름 검색\n",
    "corp = corp_list.find_by_corp_name('웹스', exactly=True)[0]\n",
    "# bgn_ne연도 부터 재무제표 불러오기\n",
    "fs = corp.extract_fs(bgn_de='20210101')\n",
    "df_bs = fs.show('bs', show_class=False)\n",
    "df_bs.columns = df_bs.columns.droplevel()"
   ]
  },
  {
   "cell_type": "code",
   "execution_count": 20,
   "metadata": {},
   "outputs": [
    {
     "data": {
      "text/html": "<div>\n<style scoped>\n    .dataframe tbody tr th:only-of-type {\n        vertical-align: middle;\n    }\n\n    .dataframe tbody tr th {\n        vertical-align: top;\n    }\n\n    .dataframe thead th {\n        text-align: right;\n    }\n</style>\n<table border=\"1\" class=\"dataframe\">\n  <thead>\n    <tr style=\"text-align: right;\">\n      <th></th>\n      <th>concept_id</th>\n      <th>label_ko</th>\n      <th>label_en</th>\n      <th>(연결재무제표,)</th>\n      <th>(연결재무제표,)</th>\n      <th>(연결재무제표,)</th>\n    </tr>\n  </thead>\n  <tbody>\n    <tr>\n      <th>0</th>\n      <td>ifrs-full_CurrentAssets</td>\n      <td>유동자산</td>\n      <td>Current assets</td>\n      <td>30,902,172,993.0</td>\n      <td>29,463,001,719.0</td>\n      <td>26,879,361,054.0</td>\n    </tr>\n    <tr>\n      <th>1</th>\n      <td>ifrs-full_CashAndCashEquivalents</td>\n      <td>현금및현금성자산</td>\n      <td>Cash and cash equivalents</td>\n      <td>10,642,254,874.0</td>\n      <td>12,751,896,086.0</td>\n      <td>11,156,965,169.0</td>\n    </tr>\n    <tr>\n      <th>2</th>\n      <td>ifrs-full_TradeAndOtherCurrentReceivables</td>\n      <td>매출채권 및 기타유동채권</td>\n      <td>Trade and other current receivables</td>\n      <td>4,115,531,900.0</td>\n      <td>3,255,674,800.0</td>\n      <td>5,226,871,383.0</td>\n    </tr>\n    <tr>\n      <th>3</th>\n      <td>ifrs-full_OtherCurrentFinancialAssets</td>\n      <td>기타유동금융자산</td>\n      <td>Other current financial assets</td>\n      <td>2,874,607,924.0</td>\n      <td>567,310,486.0</td>\n      <td>268,934,144.0</td>\n    </tr>\n    <tr>\n      <th>4</th>\n      <td>dart_OtherCurrentAssets</td>\n      <td>기타유동자산</td>\n      <td>Other current assets</td>\n      <td>3,155,386,430.0</td>\n      <td>2,804,867,842.0</td>\n      <td>2,118,222,413.0</td>\n    </tr>\n    <tr>\n      <th>5</th>\n      <td>ifrs-full_Inventories</td>\n      <td>재고자산</td>\n      <td>Inventories</td>\n      <td>10,114,391,865.0</td>\n      <td>10,083,252,505.0</td>\n      <td>8,108,367,945.0</td>\n    </tr>\n    <tr>\n      <th>6</th>\n      <td>ifrs-full_NoncurrentAssets</td>\n      <td>비유동자산</td>\n      <td>Non-current assets</td>\n      <td>35,980,238,233.0</td>\n      <td>39,139,444,891.0</td>\n      <td>40,170,763,837.0</td>\n    </tr>\n    <tr>\n      <th>7</th>\n      <td>ifrs-full_OtherNoncurrentFinancialAssets</td>\n      <td>기타비유동금융자산</td>\n      <td>Other non-current financial assets</td>\n      <td>578,195,184.0</td>\n      <td>414,333,937.0</td>\n      <td>162,712,204.0</td>\n    </tr>\n    <tr>\n      <th>8</th>\n      <td>ifrs-full_PropertyPlantAndEquipment</td>\n      <td>유형자산</td>\n      <td>Property, plant and equipment</td>\n      <td>25,344,779,572.0</td>\n      <td>29,140,825,826.0</td>\n      <td>27,536,289,384.0</td>\n    </tr>\n    <tr>\n      <th>9</th>\n      <td>dart_GoodwillGross</td>\n      <td>영업권</td>\n      <td>Goodwill, gross</td>\n      <td>412,589,419.0</td>\n      <td>412,589,419.0</td>\n      <td>412,589,419.0</td>\n    </tr>\n    <tr>\n      <th>10</th>\n      <td>ifrs-full_IntangibleAssetsOtherThanGoodwill</td>\n      <td>영업권 이외의 무형자산</td>\n      <td>Intangible assets other than goodwill</td>\n      <td>714,161,775.0</td>\n      <td>1,315,278,530.0</td>\n      <td>1,593,116,788.0</td>\n    </tr>\n    <tr>\n      <th>11</th>\n      <td>dart_OtherNonCurrentAssets</td>\n      <td>기타비유동자산</td>\n      <td>Other non-current assets</td>\n      <td>958,263,171.0</td>\n      <td>973,010,248.0</td>\n      <td>3,494,152,653.0</td>\n    </tr>\n    <tr>\n      <th>12</th>\n      <td>ifrs-full_RightofuseAssets</td>\n      <td>사용권자산</td>\n      <td>Right-of-use assets</td>\n      <td>139,959,368.0</td>\n      <td>109,867,802.0</td>\n      <td>0.0</td>\n    </tr>\n    <tr>\n      <th>13</th>\n      <td>ifrs-full_NoncurrentFinancialAssetsMeasuredAtF...</td>\n      <td>비유동 기타포괄손익-공정가치 측정 금융자산</td>\n      <td>Non-current financial assets measured at fair ...</td>\n      <td>283,824,740.0</td>\n      <td>283,559,060.0</td>\n      <td>282,460,700.0</td>\n    </tr>\n    <tr>\n      <th>14</th>\n      <td>ifrs-full_InvestmentProperty</td>\n      <td>투자부동산</td>\n      <td>Investment property</td>\n      <td>7,060,031,769.0</td>\n      <td>5,996,786,052.0</td>\n      <td>6,279,819,640.0</td>\n    </tr>\n    <tr>\n      <th>15</th>\n      <td>ifrs-full_DeferredTaxAssets</td>\n      <td>이연법인세자산</td>\n      <td>Deferred tax assets</td>\n      <td>488,433,235.0</td>\n      <td>493,194,017.0</td>\n      <td>409,623,049.0</td>\n    </tr>\n    <tr>\n      <th>16</th>\n      <td>ifrs-full_Assets</td>\n      <td>자산총계</td>\n      <td>Total assets</td>\n      <td>66,882,411,226.0</td>\n      <td>68,602,446,610.0</td>\n      <td>67,050,124,891.0</td>\n    </tr>\n    <tr>\n      <th>17</th>\n      <td>ifrs-full_CurrentLiabilities</td>\n      <td>유동부채</td>\n      <td>Current liabilities</td>\n      <td>28,015,838,796.0</td>\n      <td>24,757,263,714.0</td>\n      <td>25,779,107,628.0</td>\n    </tr>\n    <tr>\n      <th>18</th>\n      <td>ifrs-full_TradeAndOtherCurrentPayables</td>\n      <td>매입채무 및 기타유동채무</td>\n      <td>Trade and other current payables</td>\n      <td>1,095,087,344.0</td>\n      <td>1,371,320,468.0</td>\n      <td>1,586,240,441.0</td>\n    </tr>\n    <tr>\n      <th>19</th>\n      <td>ifrs-full_OtherCurrentFinancialLiabilities</td>\n      <td>기타유동금융부채</td>\n      <td>Other current financial liabilities</td>\n      <td>1,550,251,080.0</td>\n      <td>1,284,617,747.0</td>\n      <td>1,238,055,852.0</td>\n    </tr>\n    <tr>\n      <th>20</th>\n      <td>dart_OtherCurrentLiabilities</td>\n      <td>기타유동부채</td>\n      <td>Other current liabilities</td>\n      <td>216,595,219.0</td>\n      <td>153,571,991.0</td>\n      <td>80,195,569.0</td>\n    </tr>\n    <tr>\n      <th>21</th>\n      <td>ifrs-full_CurrentTaxLiabilities</td>\n      <td>당기법인세부채</td>\n      <td>Current tax liabilities</td>\n      <td>28,050,600.0</td>\n      <td>225,353,410.0</td>\n      <td>399,165,070.0</td>\n    </tr>\n    <tr>\n      <th>22</th>\n      <td>ifrs-full_CurrentPortionOfLongtermBorrowings</td>\n      <td>유동성장기차입금</td>\n      <td>Current portion of long-term borrowings</td>\n      <td>11,860,000,000.0</td>\n      <td>11,540,000,000.0</td>\n      <td>12,750,000,000.0</td>\n    </tr>\n    <tr>\n      <th>23</th>\n      <td>dart_CurrentPortionOfConvertibleBonds</td>\n      <td>유동성전환사채</td>\n      <td>Current portion of convertible bonds</td>\n      <td>2,000,000,000.0</td>\n      <td>0.0</td>\n      <td>2,000,000,000.0</td>\n    </tr>\n    <tr>\n      <th>24</th>\n      <td>ifrs-full_CurrentLeaseLiabilities</td>\n      <td>유동리스부채</td>\n      <td>Current lease liabilities</td>\n      <td>72,408,418.0</td>\n      <td>57,324,845.0</td>\n      <td>0.0</td>\n    </tr>\n    <tr>\n      <th>25</th>\n      <td>ifrs-full_ShorttermBorrowings</td>\n      <td>단기차입금</td>\n      <td>Short-term borrowings</td>\n      <td>11,193,446,135.0</td>\n      <td>10,125,075,253.0</td>\n      <td>7,725,450,696.0</td>\n    </tr>\n    <tr>\n      <th>26</th>\n      <td>ifrs-full_NoncurrentLiabilities</td>\n      <td>비유동부채</td>\n      <td>Non-current liabilities</td>\n      <td>2,135,220,629.0</td>\n      <td>4,987,718,394.0</td>\n      <td>2,250,884,165.0</td>\n    </tr>\n    <tr>\n      <th>27</th>\n      <td>dart_LongTermBorrowingsGross</td>\n      <td>장기차입금</td>\n      <td>Long-term borrowings, gross</td>\n      <td>1,972,812,538.0</td>\n      <td>2,917,825,000.0</td>\n      <td>2,159,104,500.0</td>\n    </tr>\n    <tr>\n      <th>28</th>\n      <td>ifrs-full_NoncurrentLeaseLiabilities</td>\n      <td>비유동리스부채</td>\n      <td>Non-current lease liabilities</td>\n      <td>71,019,529.0</td>\n      <td>54,508,478.0</td>\n      <td>0.0</td>\n    </tr>\n    <tr>\n      <th>29</th>\n      <td>dart_ConvertibleBonds</td>\n      <td>전환사채</td>\n      <td>Convertible bonds</td>\n      <td>0.0</td>\n      <td>2,000,000,000.0</td>\n      <td>0.0</td>\n    </tr>\n    <tr>\n      <th>30</th>\n      <td>ifrs-full_OtherNoncurrentFinancialLiabilities</td>\n      <td>기타비유동금융부채</td>\n      <td>Other non-current financial liabilities</td>\n      <td>91,388,562.0</td>\n      <td>15,384,916.0</td>\n      <td>91,779,665.0</td>\n    </tr>\n    <tr>\n      <th>31</th>\n      <td>ifrs-full_Liabilities</td>\n      <td>부채총계</td>\n      <td>Total liabilities</td>\n      <td>30,151,059,425.0</td>\n      <td>29,744,982,108.0</td>\n      <td>28,029,991,793.0</td>\n    </tr>\n    <tr>\n      <th>32</th>\n      <td>ifrs-full_EquityAttributableToOwnersOfParent</td>\n      <td>지배기업의 소유주에게 귀속되는 자본</td>\n      <td>Equity attributable to owners of parent</td>\n      <td>36,731,351,801.0</td>\n      <td>38,857,464,502.0</td>\n      <td>39,020,133,098.0</td>\n    </tr>\n    <tr>\n      <th>33</th>\n      <td>ifrs-full_IssuedCapital</td>\n      <td>자본금</td>\n      <td>Issued capital</td>\n      <td>6,849,238,000.0</td>\n      <td>6,849,238,000.0</td>\n      <td>6,849,238,000.0</td>\n    </tr>\n    <tr>\n      <th>34</th>\n      <td>dart_CapitalSurplus</td>\n      <td>자본잉여금</td>\n      <td>Capital surplus</td>\n      <td>12,786,804,312.0</td>\n      <td>12,786,804,312.0</td>\n      <td>12,786,804,312.0</td>\n    </tr>\n    <tr>\n      <th>35</th>\n      <td>dart_ElementsOfOtherStockholdersEquity</td>\n      <td>기타자본구성요소</td>\n      <td>Elements of other stockholder's equity</td>\n      <td>135,834,408.0</td>\n      <td>135,834,408.0</td>\n      <td>120,061,283.0</td>\n    </tr>\n    <tr>\n      <th>36</th>\n      <td>dart_OtherComprehensiveIncomeLossAccumulatedAm...</td>\n      <td>기타포괄손익누계액</td>\n      <td>Other Comprehensive income/loss accumulated am...</td>\n      <td>-1,540,627,884.0</td>\n      <td>-248,627,183.0</td>\n      <td>-296,048,450.0</td>\n    </tr>\n    <tr>\n      <th>37</th>\n      <td>ifrs-full_RetainedEarnings</td>\n      <td>이익잉여금(결손금)</td>\n      <td>Retained earnings</td>\n      <td>18,500,102,965.0</td>\n      <td>19,334,214,965.0</td>\n      <td>19,560,077,953.0</td>\n    </tr>\n    <tr>\n      <th>38</th>\n      <td>ifrs-full_NoncontrollingInterests</td>\n      <td>비지배지분</td>\n      <td>Non-controlling interests</td>\n      <td>0.0</td>\n      <td>0.0</td>\n      <td>0.0</td>\n    </tr>\n    <tr>\n      <th>39</th>\n      <td>ifrs-full_Equity</td>\n      <td>자본총계</td>\n      <td>Total equity</td>\n      <td>36,731,351,801.0</td>\n      <td>38,857,464,502.0</td>\n      <td>39,020,133,098.0</td>\n    </tr>\n    <tr>\n      <th>40</th>\n      <td>ifrs-full_EquityAndLiabilities</td>\n      <td>자본과부채총계</td>\n      <td>Total equity and liabilities</td>\n      <td>66,882,411,226.0</td>\n      <td>68,602,446,610.0</td>\n      <td>67,050,124,891.0</td>\n    </tr>\n  </tbody>\n</table>\n</div>",
      "text/plain": "                                           concept_id  \\\n0                             ifrs-full_CurrentAssets   \n1                    ifrs-full_CashAndCashEquivalents   \n2           ifrs-full_TradeAndOtherCurrentReceivables   \n3               ifrs-full_OtherCurrentFinancialAssets   \n4                             dart_OtherCurrentAssets   \n5                               ifrs-full_Inventories   \n6                          ifrs-full_NoncurrentAssets   \n7            ifrs-full_OtherNoncurrentFinancialAssets   \n8                 ifrs-full_PropertyPlantAndEquipment   \n9                                  dart_GoodwillGross   \n10        ifrs-full_IntangibleAssetsOtherThanGoodwill   \n11                         dart_OtherNonCurrentAssets   \n12                         ifrs-full_RightofuseAssets   \n13  ifrs-full_NoncurrentFinancialAssetsMeasuredAtF...   \n14                       ifrs-full_InvestmentProperty   \n15                        ifrs-full_DeferredTaxAssets   \n16                                   ifrs-full_Assets   \n17                       ifrs-full_CurrentLiabilities   \n18             ifrs-full_TradeAndOtherCurrentPayables   \n19         ifrs-full_OtherCurrentFinancialLiabilities   \n20                       dart_OtherCurrentLiabilities   \n21                    ifrs-full_CurrentTaxLiabilities   \n22       ifrs-full_CurrentPortionOfLongtermBorrowings   \n23              dart_CurrentPortionOfConvertibleBonds   \n24                  ifrs-full_CurrentLeaseLiabilities   \n25                      ifrs-full_ShorttermBorrowings   \n26                    ifrs-full_NoncurrentLiabilities   \n27                       dart_LongTermBorrowingsGross   \n28               ifrs-full_NoncurrentLeaseLiabilities   \n29                              dart_ConvertibleBonds   \n30      ifrs-full_OtherNoncurrentFinancialLiabilities   \n31                              ifrs-full_Liabilities   \n32       ifrs-full_EquityAttributableToOwnersOfParent   \n33                            ifrs-full_IssuedCapital   \n34                                dart_CapitalSurplus   \n35             dart_ElementsOfOtherStockholdersEquity   \n36  dart_OtherComprehensiveIncomeLossAccumulatedAm...   \n37                         ifrs-full_RetainedEarnings   \n38                  ifrs-full_NoncontrollingInterests   \n39                                   ifrs-full_Equity   \n40                     ifrs-full_EquityAndLiabilities   \n\n                   label_ko  \\\n0                      유동자산   \n1                  현금및현금성자산   \n2             매출채권 및 기타유동채권   \n3                  기타유동금융자산   \n4                    기타유동자산   \n5                      재고자산   \n6                     비유동자산   \n7                 기타비유동금융자산   \n8                      유형자산   \n9                       영업권   \n10             영업권 이외의 무형자산   \n11                  기타비유동자산   \n12                    사용권자산   \n13  비유동 기타포괄손익-공정가치 측정 금융자산   \n14                    투자부동산   \n15                  이연법인세자산   \n16                     자산총계   \n17                     유동부채   \n18            매입채무 및 기타유동채무   \n19                 기타유동금융부채   \n20                   기타유동부채   \n21                  당기법인세부채   \n22                 유동성장기차입금   \n23                  유동성전환사채   \n24                   유동리스부채   \n25                    단기차입금   \n26                    비유동부채   \n27                    장기차입금   \n28                  비유동리스부채   \n29                     전환사채   \n30                기타비유동금융부채   \n31                     부채총계   \n32      지배기업의 소유주에게 귀속되는 자본   \n33                      자본금   \n34                    자본잉여금   \n35                 기타자본구성요소   \n36                기타포괄손익누계액   \n37               이익잉여금(결손금)   \n38                    비지배지분   \n39                     자본총계   \n40                  자본과부채총계   \n\n                                             label_en        (연결재무제표,)  \\\n0                                      Current assets 30,902,172,993.0   \n1                           Cash and cash equivalents 10,642,254,874.0   \n2                 Trade and other current receivables  4,115,531,900.0   \n3                      Other current financial assets  2,874,607,924.0   \n4                                Other current assets  3,155,386,430.0   \n5                                         Inventories 10,114,391,865.0   \n6                                  Non-current assets 35,980,238,233.0   \n7                  Other non-current financial assets    578,195,184.0   \n8                       Property, plant and equipment 25,344,779,572.0   \n9                                     Goodwill, gross    412,589,419.0   \n10              Intangible assets other than goodwill    714,161,775.0   \n11                           Other non-current assets    958,263,171.0   \n12                                Right-of-use assets    139,959,368.0   \n13  Non-current financial assets measured at fair ...    283,824,740.0   \n14                                Investment property  7,060,031,769.0   \n15                                Deferred tax assets    488,433,235.0   \n16                                       Total assets 66,882,411,226.0   \n17                                Current liabilities 28,015,838,796.0   \n18                   Trade and other current payables  1,095,087,344.0   \n19                Other current financial liabilities  1,550,251,080.0   \n20                          Other current liabilities    216,595,219.0   \n21                            Current tax liabilities     28,050,600.0   \n22            Current portion of long-term borrowings 11,860,000,000.0   \n23               Current portion of convertible bonds  2,000,000,000.0   \n24                          Current lease liabilities     72,408,418.0   \n25                              Short-term borrowings 11,193,446,135.0   \n26                            Non-current liabilities  2,135,220,629.0   \n27                        Long-term borrowings, gross  1,972,812,538.0   \n28                      Non-current lease liabilities     71,019,529.0   \n29                                  Convertible bonds              0.0   \n30            Other non-current financial liabilities     91,388,562.0   \n31                                  Total liabilities 30,151,059,425.0   \n32            Equity attributable to owners of parent 36,731,351,801.0   \n33                                     Issued capital  6,849,238,000.0   \n34                                    Capital surplus 12,786,804,312.0   \n35             Elements of other stockholder's equity    135,834,408.0   \n36  Other Comprehensive income/loss accumulated am... -1,540,627,884.0   \n37                                  Retained earnings 18,500,102,965.0   \n38                          Non-controlling interests              0.0   \n39                                       Total equity 36,731,351,801.0   \n40                       Total equity and liabilities 66,882,411,226.0   \n\n          (연결재무제표,)        (연결재무제표,)  \n0  29,463,001,719.0 26,879,361,054.0  \n1  12,751,896,086.0 11,156,965,169.0  \n2   3,255,674,800.0  5,226,871,383.0  \n3     567,310,486.0    268,934,144.0  \n4   2,804,867,842.0  2,118,222,413.0  \n5  10,083,252,505.0  8,108,367,945.0  \n6  39,139,444,891.0 40,170,763,837.0  \n7     414,333,937.0    162,712,204.0  \n8  29,140,825,826.0 27,536,289,384.0  \n9     412,589,419.0    412,589,419.0  \n10  1,315,278,530.0  1,593,116,788.0  \n11    973,010,248.0  3,494,152,653.0  \n12    109,867,802.0              0.0  \n13    283,559,060.0    282,460,700.0  \n14  5,996,786,052.0  6,279,819,640.0  \n15    493,194,017.0    409,623,049.0  \n16 68,602,446,610.0 67,050,124,891.0  \n17 24,757,263,714.0 25,779,107,628.0  \n18  1,371,320,468.0  1,586,240,441.0  \n19  1,284,617,747.0  1,238,055,852.0  \n20    153,571,991.0     80,195,569.0  \n21    225,353,410.0    399,165,070.0  \n22 11,540,000,000.0 12,750,000,000.0  \n23              0.0  2,000,000,000.0  \n24     57,324,845.0              0.0  \n25 10,125,075,253.0  7,725,450,696.0  \n26  4,987,718,394.0  2,250,884,165.0  \n27  2,917,825,000.0  2,159,104,500.0  \n28     54,508,478.0              0.0  \n29  2,000,000,000.0              0.0  \n30     15,384,916.0     91,779,665.0  \n31 29,744,982,108.0 28,029,991,793.0  \n32 38,857,464,502.0 39,020,133,098.0  \n33  6,849,238,000.0  6,849,238,000.0  \n34 12,786,804,312.0 12,786,804,312.0  \n35    135,834,408.0    120,061,283.0  \n36   -248,627,183.0   -296,048,450.0  \n37 19,334,214,965.0 19,560,077,953.0  \n38              0.0              0.0  \n39 38,857,464,502.0 39,020,133,098.0  \n40 68,602,446,610.0 67,050,124,891.0  "
     },
     "execution_count": 20,
     "metadata": {},
     "output_type": "execute_result"
    }
   ],
   "source": [
    "df_bs"
   ]
  },
  {
   "cell_type": "code",
   "execution_count": 29,
   "metadata": {},
   "outputs": [
    {
     "name": "stdout",
     "output_type": "stream",
     "text": [
      "자기자본비율(CAR): 54.92 %\n",
      "유동비율(CR): 110.3 %\n",
      "당좌비율(QR): 74.2 %\n",
      "부채비율(DR): 82.09 %\n"
     ]
    }
   ],
   "source": [
    "## 안정성 분석\n",
    "Total_Equity = df_bs[df_bs['label_ko']=='자본총계'].values[0][3] # 자본총계\n",
    "Total_EquiLiab = df_bs[df_bs['label_ko'].isin(['자본과부채총계', '부채와 자본총계'])].values[0][3] # 자본과 부채 총계\n",
    "# Capital Adequacy Ratio (자기자본비율); 30% 이상 양호 / 20% 이하 불량\n",
    "CAR = (Total_Equity / Total_EquiLiab) * 100\n",
    "print(\"자기자본비율(CAR): {} %\".format(round(CAR, 2)))\n",
    "\n",
    "Current_Assets = df_bs[df_bs['label_ko']=='유동자산'].values[0][3] # 유동자산\n",
    "Current_Liabs = df_bs[df_bs['label_ko']=='유동부채'].values[0][3] # 유동부채\n",
    "# Current Ratio (유동비율); 150% 이상 양호 / 100% 이하 불량\n",
    "CR = (Current_Assets / Current_Liabs) * 100\n",
    "print(\"유동비율(CR): {} %\".format(round(CR, 2)))\n",
    "\n",
    "QuickAssList = ['현금및현금성자산', '매출채권 및 기타유동채권', '기타유동금융자산', '기타유동자산']\n",
    "Quick_Assets = df_bs[df_bs['label_ko'].isin(QuickAssList)].iloc[:, 3].values.sum() # 당좌자산\n",
    "Current_Liabs = df_bs[df_bs['label_ko']=='유동부채'].values[0][3] # 유동부채\n",
    "# Quick Ratio (당좌비율); 100% 이상 양호 / 50% 이하 불량\n",
    "QR = (Quick_Assets / Current_Liabs) * 100\n",
    "print(\"당좌비율(QR): {} %\".format(round(QR, 2)))\n",
    "\n",
    "CL_PLUS_LTliabs = df_bs[df_bs['label_ko']=='부채총계'].values[0][3] # 부채총계 = 유동부채 + 고정부채(=비유동부채)\n",
    "Total_Equity = df_bs[df_bs['label_ko']=='자본총계'].values[0][3] # 자본총계\n",
    "# Debt Ratio (부채비율); 100% 이하 양호 / 200% 이상 불량\n",
    "DR = (CL_PLUS_LTliabs / Total_Equity) * 100\n",
    "print(\"부채비율(DR): {} %\".format(round(DR, 2)))"
   ]
  },
  {
   "cell_type": "code",
   "execution_count": 30,
   "metadata": {},
   "outputs": [
    {
     "name": "stdout",
     "output_type": "stream",
     "text": [
      "총자산 증가율(TAG): -2.51 %\n",
      "유형자산 증가율(PG): -13.03 %\n",
      "유동자산 증가율(CAG): 4.88 %\n",
      "자기자본 증가율(FEG): -5.47 %\n"
     ]
    }
   ],
   "source": [
    "## 성장성 분석\n",
    "Total_Assets = df_bs[df_bs['label_ko']=='자산총계'].values[0]\n",
    "# Total Assets Growth (총자산 증가율); 20% 이상 양호 / 10% 이하 불량\n",
    "TAG = (Total_Assets[3]/Total_Assets[4]*100) - 100\n",
    "print(\"총자산 증가율(TAG): {} %\".format(round(TAG, 2)))\n",
    "\n",
    "Property = df_bs[df_bs['label_ko']=='유형자산'].values[0]\n",
    "# Property Growth (유형자산 증가율); 20% 이상 양호 / 10% 이하 불량\n",
    "PG = (Property[3]/Property[4]*100) - 100\n",
    "print(\"유형자산 증가율(PG): {} %\".format(round(PG, 2)))\n",
    "\n",
    "Current_Assets = df_bs[df_bs['label_ko']=='유동자산'].values[0]\n",
    "# Current Assets Growth (유동자산 증가율); 20% 이상 양호 / 10% 이하 불량\n",
    "CAG = (Current_Assets[3]/Current_Assets[4]*100) - 100\n",
    "print(\"유동자산 증가율(CAG): {} %\".format(round(CAG, 2)))\n",
    "\n",
    "Equity = df_bs[df_bs['label_ko']=='자본총계'].values[0]\n",
    "# Full Equity Growth (자기자본 증가율); 20% 이상 양호 / 10% 이하 불량\n",
    "FEG = (Equity[3]/Equity[4]*100) - 100\n",
    "print(\"자기자본 증가율(FEG): {} %\".format(round(FEG, 2)))"
   ]
  },
  {
   "cell_type": "code",
   "execution_count": null,
   "metadata": {},
   "outputs": [],
   "source": []
  },
  {
   "cell_type": "code",
   "execution_count": 466,
   "metadata": {},
   "outputs": [
    {
     "data": {
      "text/html": "<div>\n<style scoped>\n    .dataframe tbody tr th:only-of-type {\n        vertical-align: middle;\n    }\n\n    .dataframe tbody tr th {\n        vertical-align: top;\n    }\n\n    .dataframe thead th {\n        text-align: right;\n    }\n</style>\n<table border=\"1\" class=\"dataframe\">\n  <thead>\n    <tr style=\"text-align: right;\">\n      <th></th>\n      <th>corp_code</th>\n      <th>corp_name</th>\n      <th>stock_code</th>\n      <th>modify_date</th>\n    </tr>\n  </thead>\n  <tbody>\n    <tr>\n      <th>53330</th>\n      <td>00273439</td>\n      <td>메디아나</td>\n      <td>041920</td>\n      <td>20210218</td>\n    </tr>\n    <tr>\n      <th>65955</th>\n      <td>00408266</td>\n      <td>유니온커뮤니티</td>\n      <td>203450</td>\n      <td>20210302</td>\n    </tr>\n    <tr>\n      <th>68557</th>\n      <td>00525864</td>\n      <td>피앤씨테크</td>\n      <td>237750</td>\n      <td>20210428</td>\n    </tr>\n    <tr>\n      <th>74191</th>\n      <td>00362159</td>\n      <td>웰크론</td>\n      <td>065950</td>\n      <td>20210226</td>\n    </tr>\n    <tr>\n      <th>74387</th>\n      <td>00605522</td>\n      <td>소룩스</td>\n      <td>290690</td>\n      <td>20210223</td>\n    </tr>\n    <tr>\n      <th>77823</th>\n      <td>00156150</td>\n      <td>하이트론씨스템즈</td>\n      <td>019490</td>\n      <td>20211213</td>\n    </tr>\n    <tr>\n      <th>77856</th>\n      <td>00632793</td>\n      <td>전진바이오팜</td>\n      <td>110020</td>\n      <td>20210601</td>\n    </tr>\n    <tr>\n      <th>78227</th>\n      <td>00351375</td>\n      <td>뉴보텍</td>\n      <td>060260</td>\n      <td>20211206</td>\n    </tr>\n    <tr>\n      <th>78483</th>\n      <td>00328191</td>\n      <td>케이에스피</td>\n      <td>073010</td>\n      <td>20211206</td>\n    </tr>\n    <tr>\n      <th>78549</th>\n      <td>00140955</td>\n      <td>한솔케미칼</td>\n      <td>014680</td>\n      <td>20211217</td>\n    </tr>\n    <tr>\n      <th>78817</th>\n      <td>00269922</td>\n      <td>인바디</td>\n      <td>041830</td>\n      <td>20211221</td>\n    </tr>\n    <tr>\n      <th>79176</th>\n      <td>00418379</td>\n      <td>자연과환경</td>\n      <td>043910</td>\n      <td>20211210</td>\n    </tr>\n    <tr>\n      <th>79371</th>\n      <td>00266934</td>\n      <td>파루</td>\n      <td>043200</td>\n      <td>20211129</td>\n    </tr>\n    <tr>\n      <th>80979</th>\n      <td>00480367</td>\n      <td>삼강엠앤티</td>\n      <td>100090</td>\n      <td>20220110</td>\n    </tr>\n    <tr>\n      <th>82113</th>\n      <td>00261373</td>\n      <td>마크로젠</td>\n      <td>038290</td>\n      <td>20210928</td>\n    </tr>\n    <tr>\n      <th>84772</th>\n      <td>00360577</td>\n      <td>엑사이엔씨</td>\n      <td>054940</td>\n      <td>20210915</td>\n    </tr>\n    <tr>\n      <th>84806</th>\n      <td>00135795</td>\n      <td>신도리코</td>\n      <td>029530</td>\n      <td>20220124</td>\n    </tr>\n    <tr>\n      <th>87677</th>\n      <td>00864338</td>\n      <td>웹스</td>\n      <td>196700</td>\n      <td>20211201</td>\n    </tr>\n    <tr>\n      <th>88436</th>\n      <td>00102353</td>\n      <td>경창산업</td>\n      <td>024910</td>\n      <td>20210709</td>\n    </tr>\n  </tbody>\n</table>\n</div>",
      "text/plain": "      corp_code corp_name stock_code modify_date\n53330  00273439      메디아나     041920    20210218\n65955  00408266   유니온커뮤니티     203450    20210302\n68557  00525864     피앤씨테크     237750    20210428\n74191  00362159       웰크론     065950    20210226\n74387  00605522       소룩스     290690    20210223\n77823  00156150  하이트론씨스템즈     019490    20211213\n77856  00632793    전진바이오팜     110020    20210601\n78227  00351375       뉴보텍     060260    20211206\n78483  00328191     케이에스피     073010    20211206\n78549  00140955     한솔케미칼     014680    20211217\n78817  00269922       인바디     041830    20211221\n79176  00418379     자연과환경     043910    20211210\n79371  00266934        파루     043200    20211129\n80979  00480367     삼강엠앤티     100090    20220110\n82113  00261373      마크로젠     038290    20210928\n84772  00360577     엑사이엔씨     054940    20210915\n84806  00135795      신도리코     029530    20220124\n87677  00864338        웹스     196700    20211201\n88436  00102353      경창산업     024910    20210709"
     },
     "execution_count": 466,
     "metadata": {},
     "output_type": "execute_result"
    }
   ],
   "source": [
    "ListedGPASS"
   ]
  },
  {
   "cell_type": "code",
   "execution_count": 481,
   "metadata": {},
   "outputs": [
    {
     "name": "stderr",
     "output_type": "stream",
     "text": [
      " 32%|███▏      | 75/231 [00:39<01:22,  1.88it/s]"
     ]
    },
    {
     "data": {
      "application/vnd.jupyter.widget-view+json": {
       "model_id": "1bc35290e82645978d1de6bd157c9ec8",
       "version_major": 2,
       "version_minor": 0
      },
      "text/plain": "Annual reports:   0%|          | 0/1 [00:00<?, ?report/s]"
     },
     "metadata": {},
     "output_type": "display_data"
    },
    {
     "name": "stderr",
     "output_type": "stream",
     "text": [
      " 33%|███▎      | 77/231 [00:42<02:50,  1.11s/it]"
     ]
    },
    {
     "data": {
      "application/vnd.jupyter.widget-view+json": {
       "model_id": "0c1a0eab063a4d70800ea685beb6098e",
       "version_major": 2,
       "version_minor": 0
      },
      "text/plain": "Annual reports:   0%|          | 0/1 [00:00<?, ?report/s]"
     },
     "metadata": {},
     "output_type": "display_data"
    },
    {
     "name": "stderr",
     "output_type": "stream",
     "text": [
      "Traceback (most recent call last):\n",
      "  File \"/Users/yungi/anaconda3/envs/pps_contest/lib/python3.7/site-packages/dart_fss/fs/extract.py\", line 1385, in extract\n",
      "    separator=separator)\n",
      "  File \"/Users/yungi/anaconda3/envs/pps_contest/lib/python3.7/site-packages/dart_fss/fs/extract.py\", line 1243, in analyze_report\n",
      "    raise NotFoundConsolidated('Could not find consolidated financial statements')\n",
      "dart_fss.errors.errors.NotFoundConsolidated: Could not find consolidated financial statements\n",
      " 34%|███▍      | 79/231 [00:53<06:53,  2.72s/it]"
     ]
    },
    {
     "data": {
      "application/vnd.jupyter.widget-view+json": {
       "model_id": "631532aefdad4ac29fceb276114cbd3b",
       "version_major": 2,
       "version_minor": 0
      },
      "text/plain": "Annual reports:   0%|          | 0/1 [00:00<?, ?report/s]"
     },
     "metadata": {},
     "output_type": "display_data"
    },
    {
     "name": "stderr",
     "output_type": "stream",
     "text": [
      " 35%|███▌      | 81/231 [01:04<09:21,  3.74s/it]"
     ]
    },
    {
     "data": {
      "application/vnd.jupyter.widget-view+json": {
       "model_id": "8001a1a4ab674055880ccd7e375cfda8",
       "version_major": 2,
       "version_minor": 0
      },
      "text/plain": "Annual reports:   0%|          | 0/1 [00:00<?, ?report/s]"
     },
     "metadata": {},
     "output_type": "display_data"
    },
    {
     "name": "stderr",
     "output_type": "stream",
     "text": [
      " 35%|███▌      | 82/231 [01:15<14:29,  5.84s/it]"
     ]
    },
    {
     "data": {
      "application/vnd.jupyter.widget-view+json": {
       "model_id": "58f00dee3bc0474bb9d98bffa6eaecb0",
       "version_major": 2,
       "version_minor": 0
      },
      "text/plain": "Annual reports:   0%|          | 0/1 [00:00<?, ?report/s]"
     },
     "metadata": {},
     "output_type": "display_data"
    },
    {
     "name": "stderr",
     "output_type": "stream",
     "text": [
      " 36%|███▌      | 83/231 [01:26<18:35,  7.53s/it]"
     ]
    },
    {
     "data": {
      "application/vnd.jupyter.widget-view+json": {
       "model_id": "8e6e71ec0d3f46ff94c785670380ca24",
       "version_major": 2,
       "version_minor": 0
      },
      "text/plain": "Annual reports:   0%|          | 0/1 [00:00<?, ?report/s]"
     },
     "metadata": {},
     "output_type": "display_data"
    },
    {
     "name": "stderr",
     "output_type": "stream",
     "text": [
      " 36%|███▋      | 84/231 [01:36<20:27,  8.35s/it]"
     ]
    },
    {
     "data": {
      "application/vnd.jupyter.widget-view+json": {
       "model_id": "5b4bb47f2c8b4597aa360d95a48510f8",
       "version_major": 2,
       "version_minor": 0
      },
      "text/plain": "Annual reports:   0%|          | 0/1 [00:00<?, ?report/s]"
     },
     "metadata": {},
     "output_type": "display_data"
    },
    {
     "name": "stderr",
     "output_type": "stream",
     "text": [
      " 37%|███▋      | 85/231 [01:41<17:17,  7.11s/it]"
     ]
    },
    {
     "data": {
      "application/vnd.jupyter.widget-view+json": {
       "model_id": "630dc9cbfad942febce68bc2f11c45bc",
       "version_major": 2,
       "version_minor": 0
      },
      "text/plain": "Annual reports:   0%|          | 0/1 [00:00<?, ?report/s]"
     },
     "metadata": {},
     "output_type": "display_data"
    },
    {
     "name": "stderr",
     "output_type": "stream",
     "text": [
      " 38%|███▊      | 87/231 [01:52<14:03,  5.85s/it]"
     ]
    },
    {
     "data": {
      "application/vnd.jupyter.widget-view+json": {
       "model_id": "828b6ebbc0ec4523b3eda0cc3b028acc",
       "version_major": 2,
       "version_minor": 0
      },
      "text/plain": "Annual reports:   0%|          | 0/1 [00:00<?, ?report/s]"
     },
     "metadata": {},
     "output_type": "display_data"
    },
    {
     "name": "stderr",
     "output_type": "stream",
     "text": [
      " 38%|███▊      | 88/231 [02:02<16:56,  7.11s/it]"
     ]
    },
    {
     "data": {
      "application/vnd.jupyter.widget-view+json": {
       "model_id": "fa4b180a04774cdcbad965c900836496",
       "version_major": 2,
       "version_minor": 0
      },
      "text/plain": "Annual reports:   0%|          | 0/1 [00:00<?, ?report/s]"
     },
     "metadata": {},
     "output_type": "display_data"
    },
    {
     "name": "stderr",
     "output_type": "stream",
     "text": [
      " 39%|███▉      | 90/231 [02:11<13:04,  5.56s/it]"
     ]
    },
    {
     "data": {
      "application/vnd.jupyter.widget-view+json": {
       "model_id": "3eb5fe43dfcb41a7825e3e9aba85b513",
       "version_major": 2,
       "version_minor": 0
      },
      "text/plain": "Annual reports:   0%|          | 0/2 [00:00<?, ?report/s]"
     },
     "metadata": {},
     "output_type": "display_data"
    },
    {
     "name": "stderr",
     "output_type": "stream",
     "text": [
      " 40%|███▉      | 92/231 [02:22<11:41,  5.05s/it]"
     ]
    },
    {
     "data": {
      "application/vnd.jupyter.widget-view+json": {
       "model_id": "b36f9aaa936f4ad9b0e7e1a54d959e4c",
       "version_major": 2,
       "version_minor": 0
      },
      "text/plain": "Annual reports:   0%|          | 0/1 [00:00<?, ?report/s]"
     },
     "metadata": {},
     "output_type": "display_data"
    },
    {
     "name": "stderr",
     "output_type": "stream",
     "text": [
      "Traceback (most recent call last):\n",
      "  File \"/Users/yungi/anaconda3/envs/pps_contest/lib/python3.7/site-packages/dart_fss/fs/extract.py\", line 1385, in extract\n",
      "    separator=separator)\n",
      "  File \"/Users/yungi/anaconda3/envs/pps_contest/lib/python3.7/site-packages/dart_fss/fs/extract.py\", line 1243, in analyze_report\n",
      "    raise NotFoundConsolidated('Could not find consolidated financial statements')\n",
      "dart_fss.errors.errors.NotFoundConsolidated: Could not find consolidated financial statements\n",
      " 40%|████      | 93/231 [02:30<13:26,  5.84s/it]"
     ]
    },
    {
     "data": {
      "application/vnd.jupyter.widget-view+json": {
       "model_id": "642b92e219744182be9c8e04d53493a1",
       "version_major": 2,
       "version_minor": 0
      },
      "text/plain": "Annual reports:   0%|          | 0/1 [00:00<?, ?report/s]"
     },
     "metadata": {},
     "output_type": "display_data"
    },
    {
     "name": "stderr",
     "output_type": "stream",
     "text": [
      " 41%|████      | 94/231 [02:39<15:44,  6.89s/it]"
     ]
    },
    {
     "data": {
      "application/vnd.jupyter.widget-view+json": {
       "model_id": "cd744ba57dba4458bcb49798266a1269",
       "version_major": 2,
       "version_minor": 0
      },
      "text/plain": "Annual reports:   0%|          | 0/1 [00:00<?, ?report/s]"
     },
     "metadata": {},
     "output_type": "display_data"
    },
    {
     "name": "stderr",
     "output_type": "stream",
     "text": [
      "Traceback (most recent call last):\n",
      "  File \"/Users/yungi/anaconda3/envs/pps_contest/lib/python3.7/site-packages/dart_fss/fs/extract.py\", line 1385, in extract\n",
      "    separator=separator)\n",
      "  File \"/Users/yungi/anaconda3/envs/pps_contest/lib/python3.7/site-packages/dart_fss/fs/extract.py\", line 1243, in analyze_report\n",
      "    raise NotFoundConsolidated('Could not find consolidated financial statements')\n",
      "dart_fss.errors.errors.NotFoundConsolidated: Could not find consolidated financial statements\n",
      " 42%|████▏     | 96/231 [02:48<11:43,  5.21s/it]"
     ]
    },
    {
     "data": {
      "application/vnd.jupyter.widget-view+json": {
       "model_id": "61d573ef171f429fb771fc4f4cc48f19",
       "version_major": 2,
       "version_minor": 0
      },
      "text/plain": "Annual reports:   0%|          | 0/1 [00:00<?, ?report/s]"
     },
     "metadata": {},
     "output_type": "display_data"
    },
    {
     "name": "stderr",
     "output_type": "stream",
     "text": [
      " 42%|████▏     | 97/231 [02:51<10:39,  4.77s/it]"
     ]
    },
    {
     "data": {
      "application/vnd.jupyter.widget-view+json": {
       "model_id": "21d75068a1364921a955f556bf203caa",
       "version_major": 2,
       "version_minor": 0
      },
      "text/plain": "Annual reports:   0%|          | 0/1 [00:00<?, ?report/s]"
     },
     "metadata": {},
     "output_type": "display_data"
    },
    {
     "name": "stderr",
     "output_type": "stream",
     "text": [
      " 42%|████▏     | 98/231 [03:00<13:16,  5.99s/it]"
     ]
    },
    {
     "data": {
      "application/vnd.jupyter.widget-view+json": {
       "model_id": "d32bc81a91654b67a149fde8354ec63a",
       "version_major": 2,
       "version_minor": 0
      },
      "text/plain": "Annual reports:   0%|          | 0/1 [00:00<?, ?report/s]"
     },
     "metadata": {},
     "output_type": "display_data"
    },
    {
     "name": "stderr",
     "output_type": "stream",
     "text": [
      " 43%|████▎     | 99/231 [03:10<15:19,  6.96s/it]"
     ]
    },
    {
     "data": {
      "application/vnd.jupyter.widget-view+json": {
       "model_id": "75dbdef1df304aba8b6e265017f02c73",
       "version_major": 2,
       "version_minor": 0
      },
      "text/plain": "Annual reports:   0%|          | 0/1 [00:00<?, ?report/s]"
     },
     "metadata": {},
     "output_type": "display_data"
    },
    {
     "name": "stderr",
     "output_type": "stream",
     "text": [
      " 43%|████▎     | 100/231 [03:19<16:39,  7.63s/it]"
     ]
    },
    {
     "data": {
      "application/vnd.jupyter.widget-view+json": {
       "model_id": "a5070d3ff81846238bd52404d36f35f5",
       "version_major": 2,
       "version_minor": 0
      },
      "text/plain": "Annual reports:   0%|          | 0/1 [00:00<?, ?report/s]"
     },
     "metadata": {},
     "output_type": "display_data"
    },
    {
     "name": "stderr",
     "output_type": "stream",
     "text": [
      " 44%|████▎     | 101/231 [03:28<17:34,  8.11s/it]"
     ]
    },
    {
     "data": {
      "application/vnd.jupyter.widget-view+json": {
       "model_id": "c2e4fbd8d69a4d0291b1ecca7ad2e69c",
       "version_major": 2,
       "version_minor": 0
      },
      "text/plain": "Annual reports:   0%|          | 0/1 [00:00<?, ?report/s]"
     },
     "metadata": {},
     "output_type": "display_data"
    },
    {
     "name": "stderr",
     "output_type": "stream",
     "text": [
      "Traceback (most recent call last):\n",
      "  File \"/Users/yungi/anaconda3/envs/pps_contest/lib/python3.7/site-packages/dart_fss/fs/extract.py\", line 1385, in extract\n",
      "    separator=separator)\n",
      "  File \"/Users/yungi/anaconda3/envs/pps_contest/lib/python3.7/site-packages/dart_fss/fs/extract.py\", line 1243, in analyze_report\n",
      "    raise NotFoundConsolidated('Could not find consolidated financial statements')\n",
      "dart_fss.errors.errors.NotFoundConsolidated: Could not find consolidated financial statements\n",
      " 44%|████▍     | 102/231 [03:36<17:22,  8.08s/it]"
     ]
    },
    {
     "data": {
      "application/vnd.jupyter.widget-view+json": {
       "model_id": "6824c387cae748e9bba99a8d41a4e8a8",
       "version_major": 2,
       "version_minor": 0
      },
      "text/plain": "Annual reports:   0%|          | 0/1 [00:00<?, ?report/s]"
     },
     "metadata": {},
     "output_type": "display_data"
    },
    {
     "name": "stderr",
     "output_type": "stream",
     "text": [
      " 45%|████▍     | 103/231 [03:45<17:46,  8.33s/it]"
     ]
    },
    {
     "data": {
      "application/vnd.jupyter.widget-view+json": {
       "model_id": "a4ce268ba6964b6daa9a77ffbf57eb4b",
       "version_major": 2,
       "version_minor": 0
      },
      "text/plain": "Annual reports:   0%|          | 0/1 [00:00<?, ?report/s]"
     },
     "metadata": {},
     "output_type": "display_data"
    },
    {
     "name": "stderr",
     "output_type": "stream",
     "text": [
      " 45%|████▌     | 104/231 [03:55<19:01,  8.99s/it]"
     ]
    },
    {
     "data": {
      "application/vnd.jupyter.widget-view+json": {
       "model_id": "592532d9136241fdbf6e77f71a088fed",
       "version_major": 2,
       "version_minor": 0
      },
      "text/plain": "Annual reports:   0%|          | 0/1 [00:00<?, ?report/s]"
     },
     "metadata": {},
     "output_type": "display_data"
    },
    {
     "name": "stderr",
     "output_type": "stream",
     "text": [
      " 45%|████▌     | 105/231 [04:05<19:11,  9.14s/it]"
     ]
    },
    {
     "data": {
      "application/vnd.jupyter.widget-view+json": {
       "model_id": "e9f3757465ae434185489d753a87a02e",
       "version_major": 2,
       "version_minor": 0
      },
      "text/plain": "Annual reports:   0%|          | 0/1 [00:00<?, ?report/s]"
     },
     "metadata": {},
     "output_type": "display_data"
    },
    {
     "name": "stderr",
     "output_type": "stream",
     "text": [
      " 46%|████▌     | 106/231 [04:14<19:07,  9.18s/it]"
     ]
    },
    {
     "data": {
      "application/vnd.jupyter.widget-view+json": {
       "model_id": "90f0474fec3d490988983e8bb08829c7",
       "version_major": 2,
       "version_minor": 0
      },
      "text/plain": "Annual reports:   0%|          | 0/1 [00:00<?, ?report/s]"
     },
     "metadata": {},
     "output_type": "display_data"
    },
    {
     "name": "stderr",
     "output_type": "stream",
     "text": [
      " 47%|████▋     | 108/231 [04:24<13:33,  6.61s/it]"
     ]
    },
    {
     "data": {
      "application/vnd.jupyter.widget-view+json": {
       "model_id": "4b07f899c0ff46fda4f09f531a69f022",
       "version_major": 2,
       "version_minor": 0
      },
      "text/plain": "Annual reports:   0%|          | 0/1 [00:00<?, ?report/s]"
     },
     "metadata": {},
     "output_type": "display_data"
    },
    {
     "name": "stderr",
     "output_type": "stream",
     "text": [
      "Traceback (most recent call last):\n",
      "  File \"/Users/yungi/anaconda3/envs/pps_contest/lib/python3.7/site-packages/dart_fss/fs/extract.py\", line 1385, in extract\n",
      "    separator=separator)\n",
      "  File \"/Users/yungi/anaconda3/envs/pps_contest/lib/python3.7/site-packages/dart_fss/fs/extract.py\", line 1243, in analyze_report\n",
      "    raise NotFoundConsolidated('Could not find consolidated financial statements')\n",
      "dart_fss.errors.errors.NotFoundConsolidated: Could not find consolidated financial statements\n",
      " 47%|████▋     | 109/231 [04:32<14:06,  6.94s/it]"
     ]
    },
    {
     "data": {
      "application/vnd.jupyter.widget-view+json": {
       "model_id": "790457fe25224eb8a6eac809709936b5",
       "version_major": 2,
       "version_minor": 0
      },
      "text/plain": "Annual reports:   0%|          | 0/1 [00:00<?, ?report/s]"
     },
     "metadata": {},
     "output_type": "display_data"
    },
    {
     "name": "stderr",
     "output_type": "stream",
     "text": [
      " 48%|████▊     | 110/231 [04:35<12:00,  5.96s/it]"
     ]
    },
    {
     "data": {
      "application/vnd.jupyter.widget-view+json": {
       "model_id": "9e67fca9c16a4582874c520e0a3c9bca",
       "version_major": 2,
       "version_minor": 0
      },
      "text/plain": "Annual reports:   0%|          | 0/1 [00:00<?, ?report/s]"
     },
     "metadata": {},
     "output_type": "display_data"
    },
    {
     "name": "stderr",
     "output_type": "stream",
     "text": [
      " 48%|████▊     | 111/231 [04:45<14:02,  7.02s/it]"
     ]
    },
    {
     "data": {
      "application/vnd.jupyter.widget-view+json": {
       "model_id": "a26f9de53c734576bee837590880fce0",
       "version_major": 2,
       "version_minor": 0
      },
      "text/plain": "Annual reports:   0%|          | 0/1 [00:00<?, ?report/s]"
     },
     "metadata": {},
     "output_type": "display_data"
    },
    {
     "name": "stderr",
     "output_type": "stream",
     "text": [
      " 48%|████▊     | 112/231 [04:54<15:04,  7.60s/it]"
     ]
    },
    {
     "data": {
      "application/vnd.jupyter.widget-view+json": {
       "model_id": "5bc797969b344b3d8f736364df2cb705",
       "version_major": 2,
       "version_minor": 0
      },
      "text/plain": "Annual reports:   0%|          | 0/1 [00:00<?, ?report/s]"
     },
     "metadata": {},
     "output_type": "display_data"
    },
    {
     "name": "stderr",
     "output_type": "stream",
     "text": [
      "Traceback (most recent call last):\n",
      "  File \"/Users/yungi/anaconda3/envs/pps_contest/lib/python3.7/site-packages/dart_fss/fs/extract.py\", line 1385, in extract\n",
      "    separator=separator)\n",
      "  File \"/Users/yungi/anaconda3/envs/pps_contest/lib/python3.7/site-packages/dart_fss/fs/extract.py\", line 1243, in analyze_report\n",
      "    raise NotFoundConsolidated('Could not find consolidated financial statements')\n",
      "dart_fss.errors.errors.NotFoundConsolidated: Could not find consolidated financial statements\n",
      " 49%|████▉     | 113/231 [05:02<15:27,  7.86s/it]"
     ]
    },
    {
     "data": {
      "application/vnd.jupyter.widget-view+json": {
       "model_id": "6e9117cd5076462a9446afd1f18beefa",
       "version_major": 2,
       "version_minor": 0
      },
      "text/plain": "Annual reports:   0%|          | 0/1 [00:00<?, ?report/s]"
     },
     "metadata": {},
     "output_type": "display_data"
    },
    {
     "name": "stderr",
     "output_type": "stream",
     "text": [
      " 49%|████▉     | 114/231 [05:12<16:24,  8.41s/it]"
     ]
    },
    {
     "data": {
      "application/vnd.jupyter.widget-view+json": {
       "model_id": "66ce0c4c0a3e41a6be13a69e4460417d",
       "version_major": 2,
       "version_minor": 0
      },
      "text/plain": "Annual reports:   0%|          | 0/1 [00:00<?, ?report/s]"
     },
     "metadata": {},
     "output_type": "display_data"
    },
    {
     "name": "stderr",
     "output_type": "stream",
     "text": [
      " 50%|████▉     | 115/231 [05:21<16:37,  8.60s/it]"
     ]
    },
    {
     "data": {
      "application/vnd.jupyter.widget-view+json": {
       "model_id": "8656cec205c04b1f95c9bb212a5d7ad8",
       "version_major": 2,
       "version_minor": 0
      },
      "text/plain": "Annual reports:   0%|          | 0/1 [00:00<?, ?report/s]"
     },
     "metadata": {},
     "output_type": "display_data"
    },
    {
     "name": "stderr",
     "output_type": "stream",
     "text": [
      "Traceback (most recent call last):\n",
      "  File \"/Users/yungi/anaconda3/envs/pps_contest/lib/python3.7/site-packages/dart_fss/fs/extract.py\", line 1385, in extract\n",
      "    separator=separator)\n",
      "  File \"/Users/yungi/anaconda3/envs/pps_contest/lib/python3.7/site-packages/dart_fss/fs/extract.py\", line 1243, in analyze_report\n",
      "    raise NotFoundConsolidated('Could not find consolidated financial statements')\n",
      "dart_fss.errors.errors.NotFoundConsolidated: Could not find consolidated financial statements\n",
      " 50%|█████     | 116/231 [05:29<16:07,  8.42s/it]"
     ]
    },
    {
     "data": {
      "application/vnd.jupyter.widget-view+json": {
       "model_id": "dc6de19cf6e3494c83aafd76d14fc010",
       "version_major": 2,
       "version_minor": 0
      },
      "text/plain": "Annual reports:   0%|          | 0/1 [00:00<?, ?report/s]"
     },
     "metadata": {},
     "output_type": "display_data"
    },
    {
     "name": "stderr",
     "output_type": "stream",
     "text": [
      " 51%|█████     | 117/231 [05:38<16:29,  8.68s/it]"
     ]
    },
    {
     "data": {
      "application/vnd.jupyter.widget-view+json": {
       "model_id": "4bf173cd26544a3f814b2cf2070dbee3",
       "version_major": 2,
       "version_minor": 0
      },
      "text/plain": "Annual reports:   0%|          | 0/1 [00:00<?, ?report/s]"
     },
     "metadata": {},
     "output_type": "display_data"
    },
    {
     "name": "stderr",
     "output_type": "stream",
     "text": [
      "Traceback (most recent call last):\n",
      "  File \"/Users/yungi/anaconda3/envs/pps_contest/lib/python3.7/site-packages/dart_fss/fs/extract.py\", line 1385, in extract\n",
      "    separator=separator)\n",
      "  File \"/Users/yungi/anaconda3/envs/pps_contest/lib/python3.7/site-packages/dart_fss/fs/extract.py\", line 1243, in analyze_report\n",
      "    raise NotFoundConsolidated('Could not find consolidated financial statements')\n",
      "dart_fss.errors.errors.NotFoundConsolidated: Could not find consolidated financial statements\n",
      " 51%|█████     | 118/231 [05:46<15:43,  8.35s/it]"
     ]
    },
    {
     "data": {
      "application/vnd.jupyter.widget-view+json": {
       "model_id": "1d16ff27cd8f4a2e859383e373a7eeeb",
       "version_major": 2,
       "version_minor": 0
      },
      "text/plain": "Annual reports:   0%|          | 0/1 [00:00<?, ?report/s]"
     },
     "metadata": {},
     "output_type": "display_data"
    },
    {
     "name": "stderr",
     "output_type": "stream",
     "text": [
      " 52%|█████▏    | 119/231 [05:55<16:06,  8.63s/it]"
     ]
    },
    {
     "data": {
      "application/vnd.jupyter.widget-view+json": {
       "model_id": "400e0bc751bf42f39054b74a4ebc3345",
       "version_major": 2,
       "version_minor": 0
      },
      "text/plain": "Annual reports:   0%|          | 0/1 [00:00<?, ?report/s]"
     },
     "metadata": {},
     "output_type": "display_data"
    },
    {
     "name": "stderr",
     "output_type": "stream",
     "text": [
      " 52%|█████▏    | 120/231 [06:04<16:05,  8.70s/it]"
     ]
    },
    {
     "data": {
      "application/vnd.jupyter.widget-view+json": {
       "model_id": "fca224ae7e8b4ddeb8505ec33c946746",
       "version_major": 2,
       "version_minor": 0
      },
      "text/plain": "Annual reports:   0%|          | 0/1 [00:00<?, ?report/s]"
     },
     "metadata": {},
     "output_type": "display_data"
    },
    {
     "name": "stderr",
     "output_type": "stream",
     "text": [
      " 52%|█████▏    | 121/231 [06:14<16:38,  9.07s/it]"
     ]
    },
    {
     "data": {
      "application/vnd.jupyter.widget-view+json": {
       "model_id": "b3c4adac82e74ebe9bac90c3a93f40e2",
       "version_major": 2,
       "version_minor": 0
      },
      "text/plain": "Annual reports:   0%|          | 0/1 [00:00<?, ?report/s]"
     },
     "metadata": {},
     "output_type": "display_data"
    },
    {
     "name": "stderr",
     "output_type": "stream",
     "text": [
      " 53%|█████▎    | 122/231 [06:17<13:21,  7.36s/it]"
     ]
    },
    {
     "data": {
      "application/vnd.jupyter.widget-view+json": {
       "model_id": "45e8594ca7a346d78d09ba969bf32b02",
       "version_major": 2,
       "version_minor": 0
      },
      "text/plain": "Annual reports:   0%|          | 0/3 [00:00<?, ?report/s]"
     },
     "metadata": {},
     "output_type": "display_data"
    },
    {
     "name": "stderr",
     "output_type": "stream",
     "text": [
      " 53%|█████▎    | 123/231 [06:46<24:54, 13.84s/it]"
     ]
    },
    {
     "data": {
      "application/vnd.jupyter.widget-view+json": {
       "model_id": "d0d34d8ca8a24cc08505ffd23da7480e",
       "version_major": 2,
       "version_minor": 0
      },
      "text/plain": "Annual reports:   0%|          | 0/1 [00:00<?, ?report/s]"
     },
     "metadata": {},
     "output_type": "display_data"
    },
    {
     "name": "stderr",
     "output_type": "stream",
     "text": [
      " 54%|█████▎    | 124/231 [06:55<22:08, 12.41s/it]"
     ]
    },
    {
     "data": {
      "application/vnd.jupyter.widget-view+json": {
       "model_id": "4b21137cc5264367beac494658a892af",
       "version_major": 2,
       "version_minor": 0
      },
      "text/plain": "Annual reports:   0%|          | 0/1 [00:00<?, ?report/s]"
     },
     "metadata": {},
     "output_type": "display_data"
    },
    {
     "name": "stderr",
     "output_type": "stream",
     "text": [
      " 54%|█████▍    | 125/231 [07:05<20:31, 11.62s/it]"
     ]
    },
    {
     "data": {
      "application/vnd.jupyter.widget-view+json": {
       "model_id": "bc7039d497084f7fac0fce88129c1605",
       "version_major": 2,
       "version_minor": 0
      },
      "text/plain": "Annual reports:   0%|          | 0/1 [00:00<?, ?report/s]"
     },
     "metadata": {},
     "output_type": "display_data"
    },
    {
     "name": "stderr",
     "output_type": "stream",
     "text": [
      " 55%|█████▍    | 126/231 [07:15<19:11, 10.97s/it]"
     ]
    },
    {
     "data": {
      "application/vnd.jupyter.widget-view+json": {
       "model_id": "bfc2a86ff6b7442d9d708d9e0cf2fe2a",
       "version_major": 2,
       "version_minor": 0
      },
      "text/plain": "Annual reports:   0%|          | 0/1 [00:00<?, ?report/s]"
     },
     "metadata": {},
     "output_type": "display_data"
    },
    {
     "name": "stderr",
     "output_type": "stream",
     "text": [
      " 55%|█████▍    | 127/231 [07:24<18:06, 10.45s/it]"
     ]
    },
    {
     "data": {
      "application/vnd.jupyter.widget-view+json": {
       "model_id": "ac95bf35a59a471698876ecc46bf652a",
       "version_major": 2,
       "version_minor": 0
      },
      "text/plain": "Annual reports:   0%|          | 0/2 [00:00<?, ?report/s]"
     },
     "metadata": {},
     "output_type": "display_data"
    },
    {
     "name": "stderr",
     "output_type": "stream",
     "text": [
      " 55%|█████▌    | 128/231 [07:42<21:49, 12.71s/it]"
     ]
    },
    {
     "data": {
      "application/vnd.jupyter.widget-view+json": {
       "model_id": "b466504c5d144303afb2874f6598bad1",
       "version_major": 2,
       "version_minor": 0
      },
      "text/plain": "Annual reports:   0%|          | 0/1 [00:00<?, ?report/s]"
     },
     "metadata": {},
     "output_type": "display_data"
    },
    {
     "name": "stderr",
     "output_type": "stream",
     "text": [
      " 56%|█████▌    | 129/231 [07:51<19:51, 11.68s/it]"
     ]
    },
    {
     "data": {
      "application/vnd.jupyter.widget-view+json": {
       "model_id": "1579fd88bc6842f79882c90312694b63",
       "version_major": 2,
       "version_minor": 0
      },
      "text/plain": "Annual reports:   0%|          | 0/1 [00:00<?, ?report/s]"
     },
     "metadata": {},
     "output_type": "display_data"
    },
    {
     "name": "stderr",
     "output_type": "stream",
     "text": [
      " 56%|█████▋    | 130/231 [08:00<18:25, 10.95s/it]"
     ]
    },
    {
     "data": {
      "application/vnd.jupyter.widget-view+json": {
       "model_id": "49500bf035b14e7dbbcf582b0122e666",
       "version_major": 2,
       "version_minor": 0
      },
      "text/plain": "Annual reports:   0%|          | 0/1 [00:00<?, ?report/s]"
     },
     "metadata": {},
     "output_type": "display_data"
    },
    {
     "name": "stderr",
     "output_type": "stream",
     "text": [
      "Traceback (most recent call last):\n",
      "  File \"/Users/yungi/anaconda3/envs/pps_contest/lib/python3.7/site-packages/dart_fss/fs/extract.py\", line 1385, in extract\n",
      "    separator=separator)\n",
      "  File \"/Users/yungi/anaconda3/envs/pps_contest/lib/python3.7/site-packages/dart_fss/fs/extract.py\", line 1243, in analyze_report\n",
      "    raise NotFoundConsolidated('Could not find consolidated financial statements')\n",
      "dart_fss.errors.errors.NotFoundConsolidated: Could not find consolidated financial statements\n",
      " 57%|█████▋    | 131/231 [08:08<16:47, 10.08s/it]"
     ]
    },
    {
     "data": {
      "application/vnd.jupyter.widget-view+json": {
       "model_id": "c996e1caf59f4da2adde637259853f2a",
       "version_major": 2,
       "version_minor": 0
      },
      "text/plain": "Annual reports:   0%|          | 0/1 [00:00<?, ?report/s]"
     },
     "metadata": {},
     "output_type": "display_data"
    },
    {
     "name": "stderr",
     "output_type": "stream",
     "text": [
      " 57%|█████▋    | 132/231 [08:18<16:18,  9.88s/it]"
     ]
    },
    {
     "data": {
      "application/vnd.jupyter.widget-view+json": {
       "model_id": "27e78fb1c6354d6596f14281bdb9aa70",
       "version_major": 2,
       "version_minor": 0
      },
      "text/plain": "Annual reports:   0%|          | 0/1 [00:00<?, ?report/s]"
     },
     "metadata": {},
     "output_type": "display_data"
    },
    {
     "name": "stderr",
     "output_type": "stream",
     "text": [
      " 58%|█████▊    | 133/231 [08:27<15:45,  9.64s/it]"
     ]
    },
    {
     "data": {
      "application/vnd.jupyter.widget-view+json": {
       "model_id": "3f282208d38a43a4ae89d014876f20cf",
       "version_major": 2,
       "version_minor": 0
      },
      "text/plain": "Annual reports:   0%|          | 0/1 [00:00<?, ?report/s]"
     },
     "metadata": {},
     "output_type": "display_data"
    },
    {
     "name": "stderr",
     "output_type": "stream",
     "text": [
      " 58%|█████▊    | 134/231 [08:31<12:42,  7.86s/it]"
     ]
    },
    {
     "data": {
      "application/vnd.jupyter.widget-view+json": {
       "model_id": "05084e221453433f850c37375a2c9efd",
       "version_major": 2,
       "version_minor": 0
      },
      "text/plain": "Annual reports:   0%|          | 0/1 [00:00<?, ?report/s]"
     },
     "metadata": {},
     "output_type": "display_data"
    },
    {
     "name": "stderr",
     "output_type": "stream",
     "text": [
      " 58%|█████▊    | 135/231 [08:40<13:18,  8.32s/it]"
     ]
    },
    {
     "data": {
      "application/vnd.jupyter.widget-view+json": {
       "model_id": "98e3abc21f8041c6a6a19a5c3acb0f35",
       "version_major": 2,
       "version_minor": 0
      },
      "text/plain": "Annual reports:   0%|          | 0/1 [00:00<?, ?report/s]"
     },
     "metadata": {},
     "output_type": "display_data"
    },
    {
     "name": "stderr",
     "output_type": "stream",
     "text": [
      " 59%|█████▉    | 136/231 [08:50<13:53,  8.78s/it]"
     ]
    },
    {
     "data": {
      "application/vnd.jupyter.widget-view+json": {
       "model_id": "26296c57313e43a59f74a323b943ab50",
       "version_major": 2,
       "version_minor": 0
      },
      "text/plain": "Annual reports:   0%|          | 0/1 [00:00<?, ?report/s]"
     },
     "metadata": {},
     "output_type": "display_data"
    },
    {
     "name": "stderr",
     "output_type": "stream",
     "text": [
      " 59%|█████▉    | 137/231 [08:59<14:04,  8.99s/it]"
     ]
    },
    {
     "data": {
      "application/vnd.jupyter.widget-view+json": {
       "model_id": "28f307e9d3c1438189f8c2414e463444",
       "version_major": 2,
       "version_minor": 0
      },
      "text/plain": "Annual reports:   0%|          | 0/1 [00:00<?, ?report/s]"
     },
     "metadata": {},
     "output_type": "display_data"
    },
    {
     "name": "stderr",
     "output_type": "stream",
     "text": [
      " 60%|█████▉    | 138/231 [09:08<13:51,  8.94s/it]"
     ]
    },
    {
     "data": {
      "application/vnd.jupyter.widget-view+json": {
       "model_id": "12ac2312313c41659816c2a662ddf7a6",
       "version_major": 2,
       "version_minor": 0
      },
      "text/plain": "Annual reports:   0%|          | 0/1 [00:00<?, ?report/s]"
     },
     "metadata": {},
     "output_type": "display_data"
    },
    {
     "name": "stderr",
     "output_type": "stream",
     "text": [
      " 60%|██████    | 139/231 [09:17<13:52,  9.05s/it]"
     ]
    },
    {
     "data": {
      "application/vnd.jupyter.widget-view+json": {
       "model_id": "6635e23b9a724566b5551d43eb7c9227",
       "version_major": 2,
       "version_minor": 0
      },
      "text/plain": "Annual reports:   0%|          | 0/1 [00:00<?, ?report/s]"
     },
     "metadata": {},
     "output_type": "display_data"
    },
    {
     "name": "stderr",
     "output_type": "stream",
     "text": [
      " 61%|██████    | 140/231 [09:27<13:48,  9.11s/it]"
     ]
    },
    {
     "data": {
      "application/vnd.jupyter.widget-view+json": {
       "model_id": "c9ea08d7ec764d63989c1e1c97570194",
       "version_major": 2,
       "version_minor": 0
      },
      "text/plain": "Annual reports:   0%|          | 0/1 [00:00<?, ?report/s]"
     },
     "metadata": {},
     "output_type": "display_data"
    },
    {
     "name": "stderr",
     "output_type": "stream",
     "text": [
      " 61%|██████    | 141/231 [09:36<13:41,  9.13s/it]"
     ]
    },
    {
     "data": {
      "application/vnd.jupyter.widget-view+json": {
       "model_id": "e3b1c3f034f740fb93523cca71e96221",
       "version_major": 2,
       "version_minor": 0
      },
      "text/plain": "Annual reports:   0%|          | 0/1 [00:00<?, ?report/s]"
     },
     "metadata": {},
     "output_type": "display_data"
    },
    {
     "name": "stderr",
     "output_type": "stream",
     "text": [
      " 61%|██████▏   | 142/231 [09:45<13:41,  9.23s/it]"
     ]
    },
    {
     "data": {
      "application/vnd.jupyter.widget-view+json": {
       "model_id": "c2ae7f86e4d2425ba4bdd26b01b523ee",
       "version_major": 2,
       "version_minor": 0
      },
      "text/plain": "Annual reports:   0%|          | 0/1 [00:00<?, ?report/s]"
     },
     "metadata": {},
     "output_type": "display_data"
    },
    {
     "name": "stderr",
     "output_type": "stream",
     "text": [
      " 62%|██████▏   | 143/231 [09:55<13:32,  9.24s/it]"
     ]
    },
    {
     "data": {
      "application/vnd.jupyter.widget-view+json": {
       "model_id": "92f3f88621c44dd8beb6c47464af58fa",
       "version_major": 2,
       "version_minor": 0
      },
      "text/plain": "Annual reports:   0%|          | 0/1 [00:00<?, ?report/s]"
     },
     "metadata": {},
     "output_type": "display_data"
    },
    {
     "name": "stderr",
     "output_type": "stream",
     "text": [
      " 62%|██████▏   | 144/231 [10:04<13:20,  9.20s/it]"
     ]
    },
    {
     "data": {
      "application/vnd.jupyter.widget-view+json": {
       "model_id": "f4535329103447e9bf1862df43fd7228",
       "version_major": 2,
       "version_minor": 0
      },
      "text/plain": "Annual reports:   0%|          | 0/1 [00:00<?, ?report/s]"
     },
     "metadata": {},
     "output_type": "display_data"
    },
    {
     "name": "stderr",
     "output_type": "stream",
     "text": [
      "Traceback (most recent call last):\n",
      "  File \"/Users/yungi/anaconda3/envs/pps_contest/lib/python3.7/site-packages/dart_fss/fs/extract.py\", line 1385, in extract\n",
      "    separator=separator)\n",
      "  File \"/Users/yungi/anaconda3/envs/pps_contest/lib/python3.7/site-packages/dart_fss/fs/extract.py\", line 1243, in analyze_report\n",
      "    raise NotFoundConsolidated('Could not find consolidated financial statements')\n",
      "dart_fss.errors.errors.NotFoundConsolidated: Could not find consolidated financial statements\n",
      " 63%|██████▎   | 145/231 [10:12<12:36,  8.79s/it]"
     ]
    },
    {
     "data": {
      "application/vnd.jupyter.widget-view+json": {
       "model_id": "6341f5e79ad143a49a761b4013d1054d",
       "version_major": 2,
       "version_minor": 0
      },
      "text/plain": "Annual reports:   0%|          | 0/1 [00:00<?, ?report/s]"
     },
     "metadata": {},
     "output_type": "display_data"
    },
    {
     "name": "stderr",
     "output_type": "stream",
     "text": [
      " 63%|██████▎   | 146/231 [10:21<12:41,  8.95s/it]"
     ]
    },
    {
     "data": {
      "application/vnd.jupyter.widget-view+json": {
       "model_id": "031c4b10d56c40c79b442bd9c2e10ed0",
       "version_major": 2,
       "version_minor": 0
      },
      "text/plain": "Annual reports:   0%|          | 0/1 [00:00<?, ?report/s]"
     },
     "metadata": {},
     "output_type": "display_data"
    },
    {
     "name": "stderr",
     "output_type": "stream",
     "text": [
      " 64%|██████▎   | 147/231 [10:30<12:44,  9.10s/it]"
     ]
    },
    {
     "data": {
      "application/vnd.jupyter.widget-view+json": {
       "model_id": "24974a014f69487c8e5aca41faa59f8c",
       "version_major": 2,
       "version_minor": 0
      },
      "text/plain": "Annual reports:   0%|          | 0/1 [00:00<?, ?report/s]"
     },
     "metadata": {},
     "output_type": "display_data"
    },
    {
     "name": "stderr",
     "output_type": "stream",
     "text": [
      " 64%|██████▍   | 148/231 [10:39<12:32,  9.07s/it]"
     ]
    },
    {
     "data": {
      "application/vnd.jupyter.widget-view+json": {
       "model_id": "3e309f5551664cb49067719c5db0aa8b",
       "version_major": 2,
       "version_minor": 0
      },
      "text/plain": "Annual reports:   0%|          | 0/1 [00:00<?, ?report/s]"
     },
     "metadata": {},
     "output_type": "display_data"
    },
    {
     "name": "stderr",
     "output_type": "stream",
     "text": [
      " 65%|██████▍   | 149/231 [10:48<12:24,  9.08s/it]"
     ]
    },
    {
     "data": {
      "application/vnd.jupyter.widget-view+json": {
       "model_id": "c0a65800a150457d80a00804247adcca",
       "version_major": 2,
       "version_minor": 0
      },
      "text/plain": "Annual reports:   0%|          | 0/1 [00:00<?, ?report/s]"
     },
     "metadata": {},
     "output_type": "display_data"
    },
    {
     "name": "stderr",
     "output_type": "stream",
     "text": [
      "Traceback (most recent call last):\n",
      "  File \"/Users/yungi/anaconda3/envs/pps_contest/lib/python3.7/site-packages/dart_fss/fs/extract.py\", line 1385, in extract\n",
      "    separator=separator)\n",
      "  File \"/Users/yungi/anaconda3/envs/pps_contest/lib/python3.7/site-packages/dart_fss/fs/extract.py\", line 1243, in analyze_report\n",
      "    raise NotFoundConsolidated('Could not find consolidated financial statements')\n",
      "dart_fss.errors.errors.NotFoundConsolidated: Could not find consolidated financial statements\n",
      " 65%|██████▍   | 150/231 [10:57<11:51,  8.78s/it]"
     ]
    },
    {
     "data": {
      "application/vnd.jupyter.widget-view+json": {
       "model_id": "4064bc189b234db19fab0be1db90b201",
       "version_major": 2,
       "version_minor": 0
      },
      "text/plain": "Annual reports:   0%|          | 0/2 [00:00<?, ?report/s]"
     },
     "metadata": {},
     "output_type": "display_data"
    },
    {
     "name": "stderr",
     "output_type": "stream",
     "text": [
      " 65%|██████▌   | 151/231 [11:15<15:34, 11.68s/it]"
     ]
    },
    {
     "data": {
      "application/vnd.jupyter.widget-view+json": {
       "model_id": "7835c2ff99d743bd8918966390c540d0",
       "version_major": 2,
       "version_minor": 0
      },
      "text/plain": "Annual reports:   0%|          | 0/1 [00:00<?, ?report/s]"
     },
     "metadata": {},
     "output_type": "display_data"
    },
    {
     "name": "stderr",
     "output_type": "stream",
     "text": [
      " 66%|██████▌   | 152/231 [11:24<14:22, 10.92s/it]"
     ]
    },
    {
     "data": {
      "application/vnd.jupyter.widget-view+json": {
       "model_id": "0b337e3d6a6a48f5b3d87c5f194f9941",
       "version_major": 2,
       "version_minor": 0
      },
      "text/plain": "Annual reports:   0%|          | 0/1 [00:00<?, ?report/s]"
     },
     "metadata": {},
     "output_type": "display_data"
    },
    {
     "name": "stderr",
     "output_type": "stream",
     "text": [
      " 66%|██████▌   | 153/231 [11:34<13:44, 10.57s/it]"
     ]
    },
    {
     "data": {
      "application/vnd.jupyter.widget-view+json": {
       "model_id": "a3fcd587a51c487fb0b6e8e0dca4c690",
       "version_major": 2,
       "version_minor": 0
      },
      "text/plain": "Annual reports:   0%|          | 0/1 [00:00<?, ?report/s]"
     },
     "metadata": {},
     "output_type": "display_data"
    },
    {
     "name": "stderr",
     "output_type": "stream",
     "text": [
      "Traceback (most recent call last):\n",
      "  File \"/Users/yungi/anaconda3/envs/pps_contest/lib/python3.7/site-packages/dart_fss/fs/extract.py\", line 1385, in extract\n",
      "    separator=separator)\n",
      "  File \"/Users/yungi/anaconda3/envs/pps_contest/lib/python3.7/site-packages/dart_fss/fs/extract.py\", line 1243, in analyze_report\n",
      "    raise NotFoundConsolidated('Could not find consolidated financial statements')\n",
      "dart_fss.errors.errors.NotFoundConsolidated: Could not find consolidated financial statements\n",
      " 67%|██████▋   | 154/231 [11:42<12:35,  9.82s/it]"
     ]
    },
    {
     "data": {
      "application/vnd.jupyter.widget-view+json": {
       "model_id": "c2c3496dd27f4a59bb80db81994878d6",
       "version_major": 2,
       "version_minor": 0
      },
      "text/plain": "Annual reports:   0%|          | 0/1 [00:00<?, ?report/s]"
     },
     "metadata": {},
     "output_type": "display_data"
    },
    {
     "name": "stderr",
     "output_type": "stream",
     "text": [
      " 67%|██████▋   | 155/231 [11:51<12:07,  9.57s/it]"
     ]
    },
    {
     "data": {
      "application/vnd.jupyter.widget-view+json": {
       "model_id": "2c2eaa52c4574b4db5739b8499c642e8",
       "version_major": 2,
       "version_minor": 0
      },
      "text/plain": "Annual reports:   0%|          | 0/2 [00:00<?, ?report/s]"
     },
     "metadata": {},
     "output_type": "display_data"
    },
    {
     "name": "stderr",
     "output_type": "stream",
     "text": [
      " 68%|██████▊   | 156/231 [12:10<15:35, 12.48s/it]"
     ]
    },
    {
     "data": {
      "application/vnd.jupyter.widget-view+json": {
       "model_id": "0d3ae0f5f5814ff88fd53cc23e5ca641",
       "version_major": 2,
       "version_minor": 0
      },
      "text/plain": "Annual reports:   0%|          | 0/1 [00:00<?, ?report/s]"
     },
     "metadata": {},
     "output_type": "display_data"
    },
    {
     "name": "stderr",
     "output_type": "stream",
     "text": [
      " 68%|██████▊   | 157/231 [12:20<14:17, 11.59s/it]"
     ]
    },
    {
     "data": {
      "application/vnd.jupyter.widget-view+json": {
       "model_id": "93e3d010979b4b71a99ca58589fb0967",
       "version_major": 2,
       "version_minor": 0
      },
      "text/plain": "Annual reports:   0%|          | 0/1 [00:00<?, ?report/s]"
     },
     "metadata": {},
     "output_type": "display_data"
    },
    {
     "name": "stderr",
     "output_type": "stream",
     "text": [
      " 68%|██████▊   | 158/231 [12:29<13:09, 10.81s/it]"
     ]
    },
    {
     "data": {
      "application/vnd.jupyter.widget-view+json": {
       "model_id": "166c4758b1de4d6582bc98b6c91a0d54",
       "version_major": 2,
       "version_minor": 0
      },
      "text/plain": "Annual reports:   0%|          | 0/1 [00:00<?, ?report/s]"
     },
     "metadata": {},
     "output_type": "display_data"
    },
    {
     "name": "stderr",
     "output_type": "stream",
     "text": [
      "Traceback (most recent call last):\n",
      "  File \"/Users/yungi/anaconda3/envs/pps_contest/lib/python3.7/site-packages/dart_fss/fs/extract.py\", line 1385, in extract\n",
      "    separator=separator)\n",
      "  File \"/Users/yungi/anaconda3/envs/pps_contest/lib/python3.7/site-packages/dart_fss/fs/extract.py\", line 1243, in analyze_report\n",
      "    raise NotFoundConsolidated('Could not find consolidated financial statements')\n",
      "dart_fss.errors.errors.NotFoundConsolidated: Could not find consolidated financial statements\n",
      " 69%|██████▉   | 159/231 [12:37<11:56,  9.96s/it]"
     ]
    },
    {
     "data": {
      "application/vnd.jupyter.widget-view+json": {
       "model_id": "db364518ccbe48ee94021d466c42b97c",
       "version_major": 2,
       "version_minor": 0
      },
      "text/plain": "Annual reports:   0%|          | 0/1 [00:00<?, ?report/s]"
     },
     "metadata": {},
     "output_type": "display_data"
    },
    {
     "name": "stderr",
     "output_type": "stream",
     "text": [
      " 69%|██████▉   | 160/231 [12:46<11:30,  9.73s/it]"
     ]
    },
    {
     "data": {
      "application/vnd.jupyter.widget-view+json": {
       "model_id": "9c2e810f6e754e2e94a472868131394e",
       "version_major": 2,
       "version_minor": 0
      },
      "text/plain": "Annual reports:   0%|          | 0/1 [00:00<?, ?report/s]"
     },
     "metadata": {},
     "output_type": "display_data"
    },
    {
     "name": "stderr",
     "output_type": "stream",
     "text": [
      " 70%|██████▉   | 161/231 [12:55<11:12,  9.61s/it]"
     ]
    },
    {
     "data": {
      "application/vnd.jupyter.widget-view+json": {
       "model_id": "13d9a64685bf424fb58a8de839305f46",
       "version_major": 2,
       "version_minor": 0
      },
      "text/plain": "Annual reports:   0%|          | 0/1 [00:00<?, ?report/s]"
     },
     "metadata": {},
     "output_type": "display_data"
    },
    {
     "name": "stderr",
     "output_type": "stream",
     "text": [
      "Traceback (most recent call last):\n",
      "  File \"/Users/yungi/anaconda3/envs/pps_contest/lib/python3.7/site-packages/dart_fss/fs/extract.py\", line 1385, in extract\n",
      "    separator=separator)\n",
      "  File \"/Users/yungi/anaconda3/envs/pps_contest/lib/python3.7/site-packages/dart_fss/fs/extract.py\", line 1243, in analyze_report\n",
      "    raise NotFoundConsolidated('Could not find consolidated financial statements')\n",
      "dart_fss.errors.errors.NotFoundConsolidated: Could not find consolidated financial statements\n",
      " 70%|███████   | 162/231 [13:03<10:24,  9.05s/it]"
     ]
    },
    {
     "data": {
      "application/vnd.jupyter.widget-view+json": {
       "model_id": "5f83450f347c47cab34618c4895e24a0",
       "version_major": 2,
       "version_minor": 0
      },
      "text/plain": "Annual reports:   0%|          | 0/2 [00:00<?, ?report/s]"
     },
     "metadata": {},
     "output_type": "display_data"
    },
    {
     "name": "stderr",
     "output_type": "stream",
     "text": [
      "Traceback (most recent call last):\n",
      "  File \"/Users/yungi/anaconda3/envs/pps_contest/lib/python3.7/site-packages/dart_fss/fs/extract.py\", line 1385, in extract\n",
      "    separator=separator)\n",
      "  File \"/Users/yungi/anaconda3/envs/pps_contest/lib/python3.7/site-packages/dart_fss/fs/extract.py\", line 1243, in analyze_report\n",
      "    raise NotFoundConsolidated('Could not find consolidated financial statements')\n",
      "dart_fss.errors.errors.NotFoundConsolidated: Could not find consolidated financial statements\n",
      "Traceback (most recent call last):\n",
      "  File \"/Users/yungi/anaconda3/envs/pps_contest/lib/python3.7/site-packages/dart_fss/fs/extract.py\", line 1385, in extract\n",
      "    separator=separator)\n",
      "  File \"/Users/yungi/anaconda3/envs/pps_contest/lib/python3.7/site-packages/dart_fss/fs/extract.py\", line 1243, in analyze_report\n",
      "    raise NotFoundConsolidated('Could not find consolidated financial statements')\n",
      "dart_fss.errors.errors.NotFoundConsolidated: Could not find consolidated financial statements\n",
      " 71%|███████   | 163/231 [13:18<12:20, 10.88s/it]"
     ]
    },
    {
     "data": {
      "application/vnd.jupyter.widget-view+json": {
       "model_id": "03e639137d3347df8557fbd5d03ab326",
       "version_major": 2,
       "version_minor": 0
      },
      "text/plain": "Annual reports:   0%|          | 0/2 [00:00<?, ?report/s]"
     },
     "metadata": {},
     "output_type": "display_data"
    },
    {
     "name": "stderr",
     "output_type": "stream",
     "text": [
      " 71%|███████   | 164/231 [13:37<14:41, 13.15s/it]"
     ]
    },
    {
     "data": {
      "application/vnd.jupyter.widget-view+json": {
       "model_id": "d1798bccc6cf4a72b8efda5a1fcfaa68",
       "version_major": 2,
       "version_minor": 0
      },
      "text/plain": "Annual reports:   0%|          | 0/1 [00:00<?, ?report/s]"
     },
     "metadata": {},
     "output_type": "display_data"
    },
    {
     "name": "stderr",
     "output_type": "stream",
     "text": [
      "Traceback (most recent call last):\n",
      "  File \"/Users/yungi/anaconda3/envs/pps_contest/lib/python3.7/site-packages/dart_fss/fs/extract.py\", line 1385, in extract\n",
      "    separator=separator)\n",
      "  File \"/Users/yungi/anaconda3/envs/pps_contest/lib/python3.7/site-packages/dart_fss/fs/extract.py\", line 1243, in analyze_report\n",
      "    raise NotFoundConsolidated('Could not find consolidated financial statements')\n",
      "dart_fss.errors.errors.NotFoundConsolidated: Could not find consolidated financial statements\n",
      " 71%|███████▏  | 165/231 [13:44<12:38, 11.50s/it]"
     ]
    },
    {
     "data": {
      "application/vnd.jupyter.widget-view+json": {
       "model_id": "7ead3417a6674d939666a21afb4c1506",
       "version_major": 2,
       "version_minor": 0
      },
      "text/plain": "Annual reports:   0%|          | 0/1 [00:00<?, ?report/s]"
     },
     "metadata": {},
     "output_type": "display_data"
    },
    {
     "name": "stderr",
     "output_type": "stream",
     "text": [
      " 72%|███████▏  | 166/231 [13:54<11:46, 10.87s/it]"
     ]
    },
    {
     "data": {
      "application/vnd.jupyter.widget-view+json": {
       "model_id": "6b050a11740e436b9932c62b67a5ca65",
       "version_major": 2,
       "version_minor": 0
      },
      "text/plain": "Annual reports:   0%|          | 0/1 [00:00<?, ?report/s]"
     },
     "metadata": {},
     "output_type": "display_data"
    },
    {
     "name": "stderr",
     "output_type": "stream",
     "text": [
      " 72%|███████▏  | 167/231 [14:03<11:02, 10.35s/it]"
     ]
    },
    {
     "data": {
      "application/vnd.jupyter.widget-view+json": {
       "model_id": "8e0427f2a0fe468ca6eb7616822ffe7f",
       "version_major": 2,
       "version_minor": 0
      },
      "text/plain": "Annual reports:   0%|          | 0/1 [00:00<?, ?report/s]"
     },
     "metadata": {},
     "output_type": "display_data"
    },
    {
     "name": "stderr",
     "output_type": "stream",
     "text": [
      "Traceback (most recent call last):\n",
      "  File \"/Users/yungi/anaconda3/envs/pps_contest/lib/python3.7/site-packages/dart_fss/fs/extract.py\", line 1385, in extract\n",
      "    separator=separator)\n",
      "  File \"/Users/yungi/anaconda3/envs/pps_contest/lib/python3.7/site-packages/dart_fss/fs/extract.py\", line 1243, in analyze_report\n",
      "    raise NotFoundConsolidated('Could not find consolidated financial statements')\n",
      "dart_fss.errors.errors.NotFoundConsolidated: Could not find consolidated financial statements\n",
      " 73%|███████▎  | 168/231 [14:11<10:07,  9.65s/it]"
     ]
    },
    {
     "data": {
      "application/vnd.jupyter.widget-view+json": {
       "model_id": "a65e580557094e32ab8a15a65fe643c3",
       "version_major": 2,
       "version_minor": 0
      },
      "text/plain": "Annual reports:   0%|          | 0/1 [00:00<?, ?report/s]"
     },
     "metadata": {},
     "output_type": "display_data"
    },
    {
     "name": "stderr",
     "output_type": "stream",
     "text": [
      "Traceback (most recent call last):\n",
      "  File \"/Users/yungi/anaconda3/envs/pps_contest/lib/python3.7/site-packages/dart_fss/fs/extract.py\", line 1385, in extract\n",
      "    separator=separator)\n",
      "  File \"/Users/yungi/anaconda3/envs/pps_contest/lib/python3.7/site-packages/dart_fss/fs/extract.py\", line 1243, in analyze_report\n",
      "    raise NotFoundConsolidated('Could not find consolidated financial statements')\n",
      "dart_fss.errors.errors.NotFoundConsolidated: Could not find consolidated financial statements\n",
      " 73%|███████▎  | 169/231 [14:19<09:27,  9.15s/it]"
     ]
    },
    {
     "data": {
      "application/vnd.jupyter.widget-view+json": {
       "model_id": "80960793bb9c436baf7becf48fd6d17e",
       "version_major": 2,
       "version_minor": 0
      },
      "text/plain": "Annual reports:   0%|          | 0/1 [00:00<?, ?report/s]"
     },
     "metadata": {},
     "output_type": "display_data"
    },
    {
     "name": "stderr",
     "output_type": "stream",
     "text": [
      " 74%|███████▎  | 170/231 [14:28<09:20,  9.19s/it]"
     ]
    },
    {
     "data": {
      "application/vnd.jupyter.widget-view+json": {
       "model_id": "9d7992c77a014eac8ca3690ddb85ad28",
       "version_major": 2,
       "version_minor": 0
      },
      "text/plain": "Annual reports:   0%|          | 0/1 [00:00<?, ?report/s]"
     },
     "metadata": {},
     "output_type": "display_data"
    },
    {
     "name": "stderr",
     "output_type": "stream",
     "text": [
      " 74%|███████▍  | 171/231 [14:37<09:08,  9.14s/it]"
     ]
    },
    {
     "data": {
      "application/vnd.jupyter.widget-view+json": {
       "model_id": "4f094f81b47542a79277dfe508e33ece",
       "version_major": 2,
       "version_minor": 0
      },
      "text/plain": "Annual reports:   0%|          | 0/1 [00:00<?, ?report/s]"
     },
     "metadata": {},
     "output_type": "display_data"
    },
    {
     "name": "stderr",
     "output_type": "stream",
     "text": [
      " 74%|███████▍  | 172/231 [14:47<09:12,  9.36s/it]"
     ]
    },
    {
     "data": {
      "application/vnd.jupyter.widget-view+json": {
       "model_id": "92e24b657a3a4901b66608251b0c5b1e",
       "version_major": 2,
       "version_minor": 0
      },
      "text/plain": "Annual reports:   0%|          | 0/1 [00:00<?, ?report/s]"
     },
     "metadata": {},
     "output_type": "display_data"
    },
    {
     "name": "stderr",
     "output_type": "stream",
     "text": [
      " 75%|███████▍  | 173/231 [14:50<07:13,  7.48s/it]"
     ]
    },
    {
     "data": {
      "application/vnd.jupyter.widget-view+json": {
       "model_id": "04f099fe26194919873ae3513d91085d",
       "version_major": 2,
       "version_minor": 0
      },
      "text/plain": "Annual reports:   0%|          | 0/1 [00:00<?, ?report/s]"
     },
     "metadata": {},
     "output_type": "display_data"
    },
    {
     "name": "stderr",
     "output_type": "stream",
     "text": [
      " 75%|███████▌  | 174/231 [15:00<07:45,  8.16s/it]"
     ]
    },
    {
     "data": {
      "application/vnd.jupyter.widget-view+json": {
       "model_id": "2447b752a18a4cdabfab4d3acdbc2b67",
       "version_major": 2,
       "version_minor": 0
      },
      "text/plain": "Annual reports:   0%|          | 0/1 [00:00<?, ?report/s]"
     },
     "metadata": {},
     "output_type": "display_data"
    },
    {
     "name": "stderr",
     "output_type": "stream",
     "text": [
      " 76%|███████▌  | 175/231 [15:07<07:28,  8.00s/it]"
     ]
    },
    {
     "data": {
      "application/vnd.jupyter.widget-view+json": {
       "model_id": "a0f37eafd00a430b863c1282cba8d606",
       "version_major": 2,
       "version_minor": 0
      },
      "text/plain": "Annual reports:   0%|          | 0/1 [00:00<?, ?report/s]"
     },
     "metadata": {},
     "output_type": "display_data"
    },
    {
     "name": "stderr",
     "output_type": "stream",
     "text": [
      " 76%|███████▌  | 176/231 [15:16<07:29,  8.18s/it]"
     ]
    },
    {
     "data": {
      "application/vnd.jupyter.widget-view+json": {
       "model_id": "53f1e08ea51c4f9081c836bba4b87cc0",
       "version_major": 2,
       "version_minor": 0
      },
      "text/plain": "Annual reports:   0%|          | 0/1 [00:00<?, ?report/s]"
     },
     "metadata": {},
     "output_type": "display_data"
    },
    {
     "name": "stderr",
     "output_type": "stream",
     "text": [
      " 77%|███████▋  | 177/231 [15:25<07:37,  8.47s/it]"
     ]
    },
    {
     "data": {
      "application/vnd.jupyter.widget-view+json": {
       "model_id": "79abaee35530493bac6b51f13b0df1ed",
       "version_major": 2,
       "version_minor": 0
      },
      "text/plain": "Annual reports:   0%|          | 0/2 [00:00<?, ?report/s]"
     },
     "metadata": {},
     "output_type": "display_data"
    },
    {
     "name": "stderr",
     "output_type": "stream",
     "text": [
      " 77%|███████▋  | 178/231 [15:35<07:56,  9.00s/it]"
     ]
    },
    {
     "data": {
      "application/vnd.jupyter.widget-view+json": {
       "model_id": "83c2987363d04a799460b82434fcbed4",
       "version_major": 2,
       "version_minor": 0
      },
      "text/plain": "Annual reports:   0%|          | 0/1 [00:00<?, ?report/s]"
     },
     "metadata": {},
     "output_type": "display_data"
    },
    {
     "name": "stderr",
     "output_type": "stream",
     "text": [
      " 77%|███████▋  | 179/231 [15:45<07:53,  9.11s/it]"
     ]
    },
    {
     "data": {
      "application/vnd.jupyter.widget-view+json": {
       "model_id": "bdf8f561e4754beca4750e69bbe910e1",
       "version_major": 2,
       "version_minor": 0
      },
      "text/plain": "Annual reports:   0%|          | 0/1 [00:00<?, ?report/s]"
     },
     "metadata": {},
     "output_type": "display_data"
    },
    {
     "name": "stderr",
     "output_type": "stream",
     "text": [
      " 78%|███████▊  | 180/231 [15:54<07:50,  9.22s/it]"
     ]
    },
    {
     "data": {
      "application/vnd.jupyter.widget-view+json": {
       "model_id": "5fcc73ac2e2a4bdb90ca13e0e1eceece",
       "version_major": 2,
       "version_minor": 0
      },
      "text/plain": "Annual reports:   0%|          | 0/1 [00:00<?, ?report/s]"
     },
     "metadata": {},
     "output_type": "display_data"
    },
    {
     "name": "stderr",
     "output_type": "stream",
     "text": [
      "Traceback (most recent call last):\n",
      "  File \"/Users/yungi/anaconda3/envs/pps_contest/lib/python3.7/site-packages/dart_fss/fs/extract.py\", line 1385, in extract\n",
      "    separator=separator)\n",
      "  File \"/Users/yungi/anaconda3/envs/pps_contest/lib/python3.7/site-packages/dart_fss/fs/extract.py\", line 1243, in analyze_report\n",
      "    raise NotFoundConsolidated('Could not find consolidated financial statements')\n",
      "dart_fss.errors.errors.NotFoundConsolidated: Could not find consolidated financial statements\n",
      " 78%|███████▊  | 181/231 [16:02<07:16,  8.73s/it]"
     ]
    },
    {
     "data": {
      "application/vnd.jupyter.widget-view+json": {
       "model_id": "0816ecceef6844b49e5dcc823d2f80a0",
       "version_major": 2,
       "version_minor": 0
      },
      "text/plain": "Annual reports:   0%|          | 0/1 [00:00<?, ?report/s]"
     },
     "metadata": {},
     "output_type": "display_data"
    },
    {
     "name": "stderr",
     "output_type": "stream",
     "text": [
      " 79%|███████▉  | 182/231 [16:11<07:16,  8.92s/it]"
     ]
    },
    {
     "data": {
      "application/vnd.jupyter.widget-view+json": {
       "model_id": "73ec3bff0c304e1eb68828081b72966d",
       "version_major": 2,
       "version_minor": 0
      },
      "text/plain": "Annual reports:   0%|          | 0/1 [00:00<?, ?report/s]"
     },
     "metadata": {},
     "output_type": "display_data"
    },
    {
     "name": "stderr",
     "output_type": "stream",
     "text": [
      " 79%|███████▉  | 183/231 [16:21<07:23,  9.24s/it]"
     ]
    },
    {
     "data": {
      "application/vnd.jupyter.widget-view+json": {
       "model_id": "5dca992f28e04f558a971a13c5cd71ba",
       "version_major": 2,
       "version_minor": 0
      },
      "text/plain": "Annual reports:   0%|          | 0/1 [00:00<?, ?report/s]"
     },
     "metadata": {},
     "output_type": "display_data"
    },
    {
     "name": "stderr",
     "output_type": "stream",
     "text": [
      " 80%|███████▉  | 184/231 [16:30<07:10,  9.17s/it]"
     ]
    },
    {
     "data": {
      "application/vnd.jupyter.widget-view+json": {
       "model_id": "b9abdd11d12e40b5b7d9ed47be18222e",
       "version_major": 2,
       "version_minor": 0
      },
      "text/plain": "Annual reports:   0%|          | 0/1 [00:00<?, ?report/s]"
     },
     "metadata": {},
     "output_type": "display_data"
    },
    {
     "name": "stderr",
     "output_type": "stream",
     "text": [
      " 80%|████████  | 185/231 [16:41<07:24,  9.66s/it]"
     ]
    },
    {
     "data": {
      "application/vnd.jupyter.widget-view+json": {
       "model_id": "d455105917854b6f9fb2850c9b79a630",
       "version_major": 2,
       "version_minor": 0
      },
      "text/plain": "Annual reports:   0%|          | 0/1 [00:00<?, ?report/s]"
     },
     "metadata": {},
     "output_type": "display_data"
    },
    {
     "name": "stderr",
     "output_type": "stream",
     "text": [
      " 81%|████████  | 186/231 [16:50<07:08,  9.53s/it]"
     ]
    },
    {
     "data": {
      "application/vnd.jupyter.widget-view+json": {
       "model_id": "5b88c358dfcc4e258d8134b99e970fcc",
       "version_major": 2,
       "version_minor": 0
      },
      "text/plain": "Annual reports:   0%|          | 0/1 [00:00<?, ?report/s]"
     },
     "metadata": {},
     "output_type": "display_data"
    },
    {
     "name": "stderr",
     "output_type": "stream",
     "text": [
      "Traceback (most recent call last):\n",
      "  File \"/Users/yungi/anaconda3/envs/pps_contest/lib/python3.7/site-packages/dart_fss/fs/extract.py\", line 1385, in extract\n",
      "    separator=separator)\n",
      "  File \"/Users/yungi/anaconda3/envs/pps_contest/lib/python3.7/site-packages/dart_fss/fs/extract.py\", line 1243, in analyze_report\n",
      "    raise NotFoundConsolidated('Could not find consolidated financial statements')\n",
      "dart_fss.errors.errors.NotFoundConsolidated: Could not find consolidated financial statements\n",
      " 81%|████████  | 187/231 [16:58<06:35,  8.98s/it]"
     ]
    },
    {
     "data": {
      "application/vnd.jupyter.widget-view+json": {
       "model_id": "e725893547884c7e9e92b06a2327f136",
       "version_major": 2,
       "version_minor": 0
      },
      "text/plain": "Annual reports:   0%|          | 0/1 [00:00<?, ?report/s]"
     },
     "metadata": {},
     "output_type": "display_data"
    },
    {
     "name": "stderr",
     "output_type": "stream",
     "text": [
      " 81%|████████▏ | 188/231 [17:07<06:27,  9.02s/it]"
     ]
    },
    {
     "data": {
      "application/vnd.jupyter.widget-view+json": {
       "model_id": "8222773d003d4ba7a37aa7aaffe76136",
       "version_major": 2,
       "version_minor": 0
      },
      "text/plain": "Annual reports:   0%|          | 0/1 [00:00<?, ?report/s]"
     },
     "metadata": {},
     "output_type": "display_data"
    },
    {
     "name": "stderr",
     "output_type": "stream",
     "text": [
      " 82%|████████▏ | 189/231 [17:16<06:17,  8.99s/it]"
     ]
    },
    {
     "data": {
      "application/vnd.jupyter.widget-view+json": {
       "model_id": "04c83ba422204ad1a2dc99f367444b25",
       "version_major": 2,
       "version_minor": 0
      },
      "text/plain": "Annual reports:   0%|          | 0/1 [00:00<?, ?report/s]"
     },
     "metadata": {},
     "output_type": "display_data"
    },
    {
     "name": "stderr",
     "output_type": "stream",
     "text": [
      "Traceback (most recent call last):\n",
      "  File \"/Users/yungi/anaconda3/envs/pps_contest/lib/python3.7/site-packages/dart_fss/fs/extract.py\", line 1385, in extract\n",
      "    separator=separator)\n",
      "  File \"/Users/yungi/anaconda3/envs/pps_contest/lib/python3.7/site-packages/dart_fss/fs/extract.py\", line 1243, in analyze_report\n",
      "    raise NotFoundConsolidated('Could not find consolidated financial statements')\n",
      "dart_fss.errors.errors.NotFoundConsolidated: Could not find consolidated financial statements\n",
      " 82%|████████▏ | 190/231 [17:24<05:57,  8.72s/it]"
     ]
    },
    {
     "data": {
      "application/vnd.jupyter.widget-view+json": {
       "model_id": "24b2e1df301d40fda240b8ff4ff63980",
       "version_major": 2,
       "version_minor": 0
      },
      "text/plain": "Annual reports:   0%|          | 0/1 [00:00<?, ?report/s]"
     },
     "metadata": {},
     "output_type": "display_data"
    },
    {
     "name": "stderr",
     "output_type": "stream",
     "text": [
      "Traceback (most recent call last):\n",
      "  File \"/Users/yungi/anaconda3/envs/pps_contest/lib/python3.7/site-packages/dart_fss/fs/extract.py\", line 1385, in extract\n",
      "    separator=separator)\n",
      "  File \"/Users/yungi/anaconda3/envs/pps_contest/lib/python3.7/site-packages/dart_fss/fs/extract.py\", line 1243, in analyze_report\n",
      "    raise NotFoundConsolidated('Could not find consolidated financial statements')\n",
      "dart_fss.errors.errors.NotFoundConsolidated: Could not find consolidated financial statements\n",
      " 83%|████████▎ | 191/231 [17:32<05:38,  8.47s/it]"
     ]
    },
    {
     "data": {
      "application/vnd.jupyter.widget-view+json": {
       "model_id": "9b5ad0f08b85425a959350206f4054ac",
       "version_major": 2,
       "version_minor": 0
      },
      "text/plain": "Annual reports:   0%|          | 0/1 [00:00<?, ?report/s]"
     },
     "metadata": {},
     "output_type": "display_data"
    },
    {
     "name": "stderr",
     "output_type": "stream",
     "text": [
      " 83%|████████▎ | 192/231 [17:41<05:43,  8.80s/it]"
     ]
    },
    {
     "data": {
      "application/vnd.jupyter.widget-view+json": {
       "model_id": "c7f9fec89e9e45e08ef9a60b33048985",
       "version_major": 2,
       "version_minor": 0
      },
      "text/plain": "Annual reports:   0%|          | 0/1 [00:00<?, ?report/s]"
     },
     "metadata": {},
     "output_type": "display_data"
    },
    {
     "name": "stderr",
     "output_type": "stream",
     "text": [
      " 84%|████████▎ | 193/231 [17:45<04:35,  7.26s/it]"
     ]
    },
    {
     "data": {
      "application/vnd.jupyter.widget-view+json": {
       "model_id": "55f0810f1fc443e8919a4efbab66a3e6",
       "version_major": 2,
       "version_minor": 0
      },
      "text/plain": "Annual reports:   0%|          | 0/1 [00:00<?, ?report/s]"
     },
     "metadata": {},
     "output_type": "display_data"
    },
    {
     "name": "stderr",
     "output_type": "stream",
     "text": [
      " 84%|████████▍ | 194/231 [17:55<04:55,  7.99s/it]"
     ]
    },
    {
     "data": {
      "application/vnd.jupyter.widget-view+json": {
       "model_id": "884bd991ab8a404ba2bb7e62aba8fda9",
       "version_major": 2,
       "version_minor": 0
      },
      "text/plain": "Annual reports:   0%|          | 0/1 [00:00<?, ?report/s]"
     },
     "metadata": {},
     "output_type": "display_data"
    },
    {
     "name": "stderr",
     "output_type": "stream",
     "text": [
      "Traceback (most recent call last):\n",
      "  File \"/Users/yungi/anaconda3/envs/pps_contest/lib/python3.7/site-packages/dart_fss/fs/extract.py\", line 1385, in extract\n",
      "    separator=separator)\n",
      "  File \"/Users/yungi/anaconda3/envs/pps_contest/lib/python3.7/site-packages/dart_fss/fs/extract.py\", line 1243, in analyze_report\n",
      "    raise NotFoundConsolidated('Could not find consolidated financial statements')\n",
      "dart_fss.errors.errors.NotFoundConsolidated: Could not find consolidated financial statements\n",
      " 84%|████████▍ | 195/231 [18:03<04:46,  7.95s/it]"
     ]
    },
    {
     "data": {
      "application/vnd.jupyter.widget-view+json": {
       "model_id": "59df5d6bf0eb41dd9ac5d052a3ffcf2a",
       "version_major": 2,
       "version_minor": 0
      },
      "text/plain": "Annual reports:   0%|          | 0/1 [00:00<?, ?report/s]"
     },
     "metadata": {},
     "output_type": "display_data"
    },
    {
     "name": "stderr",
     "output_type": "stream",
     "text": [
      " 85%|████████▍ | 196/231 [18:12<04:52,  8.37s/it]"
     ]
    },
    {
     "data": {
      "application/vnd.jupyter.widget-view+json": {
       "model_id": "27ee0c4378f04d2f807fe4387bf54778",
       "version_major": 2,
       "version_minor": 0
      },
      "text/plain": "Annual reports:   0%|          | 0/1 [00:00<?, ?report/s]"
     },
     "metadata": {},
     "output_type": "display_data"
    },
    {
     "name": "stderr",
     "output_type": "stream",
     "text": [
      " 85%|████████▌ | 197/231 [18:21<04:51,  8.58s/it]"
     ]
    },
    {
     "data": {
      "application/vnd.jupyter.widget-view+json": {
       "model_id": "7b8ee6d90c264ef0871abd8bfe2d32e2",
       "version_major": 2,
       "version_minor": 0
      },
      "text/plain": "Annual reports:   0%|          | 0/2 [00:00<?, ?report/s]"
     },
     "metadata": {},
     "output_type": "display_data"
    },
    {
     "name": "stderr",
     "output_type": "stream",
     "text": [
      " 86%|████████▌ | 198/231 [18:40<06:23, 11.62s/it]"
     ]
    },
    {
     "data": {
      "application/vnd.jupyter.widget-view+json": {
       "model_id": "fbc74e43976f4162927d197531be21f5",
       "version_major": 2,
       "version_minor": 0
      },
      "text/plain": "Annual reports:   0%|          | 0/1 [00:00<?, ?report/s]"
     },
     "metadata": {},
     "output_type": "display_data"
    },
    {
     "name": "stderr",
     "output_type": "stream",
     "text": [
      " 86%|████████▌ | 199/231 [18:49<05:51, 10.97s/it]"
     ]
    },
    {
     "data": {
      "application/vnd.jupyter.widget-view+json": {
       "model_id": "dff68dc88d7645c2bad458c1d40cc502",
       "version_major": 2,
       "version_minor": 0
      },
      "text/plain": "Annual reports:   0%|          | 0/1 [00:00<?, ?report/s]"
     },
     "metadata": {},
     "output_type": "display_data"
    },
    {
     "name": "stderr",
     "output_type": "stream",
     "text": [
      " 87%|████████▋ | 200/231 [18:58<05:22, 10.41s/it]"
     ]
    },
    {
     "data": {
      "application/vnd.jupyter.widget-view+json": {
       "model_id": "82a8761a72464e48aeebd9e7d9484796",
       "version_major": 2,
       "version_minor": 0
      },
      "text/plain": "Annual reports:   0%|          | 0/1 [00:00<?, ?report/s]"
     },
     "metadata": {},
     "output_type": "display_data"
    },
    {
     "name": "stderr",
     "output_type": "stream",
     "text": [
      " 87%|████████▋ | 201/231 [19:08<05:06, 10.22s/it]"
     ]
    },
    {
     "data": {
      "application/vnd.jupyter.widget-view+json": {
       "model_id": "76c953391fd64c8a95bcaa9fcc829a22",
       "version_major": 2,
       "version_minor": 0
      },
      "text/plain": "Annual reports:   0%|          | 0/1 [00:00<?, ?report/s]"
     },
     "metadata": {},
     "output_type": "display_data"
    },
    {
     "name": "stderr",
     "output_type": "stream",
     "text": [
      " 87%|████████▋ | 202/231 [19:18<04:49,  9.97s/it]"
     ]
    },
    {
     "data": {
      "application/vnd.jupyter.widget-view+json": {
       "model_id": "fe74a22927194c8ba6eea52a6380d1ca",
       "version_major": 2,
       "version_minor": 0
      },
      "text/plain": "Annual reports:   0%|          | 0/1 [00:00<?, ?report/s]"
     },
     "metadata": {},
     "output_type": "display_data"
    },
    {
     "name": "stderr",
     "output_type": "stream",
     "text": [
      " 88%|████████▊ | 203/231 [19:27<04:31,  9.69s/it]"
     ]
    },
    {
     "data": {
      "application/vnd.jupyter.widget-view+json": {
       "model_id": "47cabe87da8a42c08b95fd90364018e3",
       "version_major": 2,
       "version_minor": 0
      },
      "text/plain": "Annual reports:   0%|          | 0/1 [00:00<?, ?report/s]"
     },
     "metadata": {},
     "output_type": "display_data"
    },
    {
     "name": "stderr",
     "output_type": "stream",
     "text": [
      "Traceback (most recent call last):\n",
      "  File \"/Users/yungi/anaconda3/envs/pps_contest/lib/python3.7/site-packages/dart_fss/fs/extract.py\", line 1385, in extract\n",
      "    separator=separator)\n",
      "  File \"/Users/yungi/anaconda3/envs/pps_contest/lib/python3.7/site-packages/dart_fss/fs/extract.py\", line 1243, in analyze_report\n",
      "    raise NotFoundConsolidated('Could not find consolidated financial statements')\n",
      "dart_fss.errors.errors.NotFoundConsolidated: Could not find consolidated financial statements\n",
      " 88%|████████▊ | 204/231 [19:35<04:12,  9.34s/it]"
     ]
    },
    {
     "data": {
      "application/vnd.jupyter.widget-view+json": {
       "model_id": "981712c06eb946b59c818c39e8c12321",
       "version_major": 2,
       "version_minor": 0
      },
      "text/plain": "Annual reports:   0%|          | 0/1 [00:00<?, ?report/s]"
     },
     "metadata": {},
     "output_type": "display_data"
    },
    {
     "name": "stderr",
     "output_type": "stream",
     "text": [
      " 89%|████████▊ | 205/231 [19:44<04:02,  9.34s/it]"
     ]
    },
    {
     "data": {
      "application/vnd.jupyter.widget-view+json": {
       "model_id": "8488311ee10a4cb28fda19fdec45eb3b",
       "version_major": 2,
       "version_minor": 0
      },
      "text/plain": "Annual reports:   0%|          | 0/1 [00:00<?, ?report/s]"
     },
     "metadata": {},
     "output_type": "display_data"
    },
    {
     "name": "stderr",
     "output_type": "stream",
     "text": [
      " 89%|████████▉ | 206/231 [19:54<03:54,  9.37s/it]"
     ]
    },
    {
     "data": {
      "application/vnd.jupyter.widget-view+json": {
       "model_id": "c24e8c7a0ae442abbe94487326215732",
       "version_major": 2,
       "version_minor": 0
      },
      "text/plain": "Annual reports:   0%|          | 0/1 [00:00<?, ?report/s]"
     },
     "metadata": {},
     "output_type": "display_data"
    },
    {
     "name": "stderr",
     "output_type": "stream",
     "text": [
      " 90%|████████▉ | 207/231 [20:03<03:41,  9.23s/it]"
     ]
    },
    {
     "data": {
      "application/vnd.jupyter.widget-view+json": {
       "model_id": "202efb6ea3d345d0b1890db08ac07916",
       "version_major": 2,
       "version_minor": 0
      },
      "text/plain": "Annual reports:   0%|          | 0/1 [00:00<?, ?report/s]"
     },
     "metadata": {},
     "output_type": "display_data"
    },
    {
     "name": "stderr",
     "output_type": "stream",
     "text": [
      " 90%|█████████ | 208/231 [20:13<03:39,  9.53s/it]"
     ]
    },
    {
     "data": {
      "application/vnd.jupyter.widget-view+json": {
       "model_id": "c4f0aea8890a44f498374470967ae862",
       "version_major": 2,
       "version_minor": 0
      },
      "text/plain": "Annual reports:   0%|          | 0/1 [00:00<?, ?report/s]"
     },
     "metadata": {},
     "output_type": "display_data"
    },
    {
     "name": "stderr",
     "output_type": "stream",
     "text": [
      " 90%|█████████ | 209/231 [20:23<03:29,  9.54s/it]"
     ]
    },
    {
     "data": {
      "application/vnd.jupyter.widget-view+json": {
       "model_id": "f56b1bde22c245ea8e6cd5b93914927b",
       "version_major": 2,
       "version_minor": 0
      },
      "text/plain": "Annual reports:   0%|          | 0/1 [00:00<?, ?report/s]"
     },
     "metadata": {},
     "output_type": "display_data"
    },
    {
     "name": "stderr",
     "output_type": "stream",
     "text": [
      " 91%|█████████ | 210/231 [20:32<03:16,  9.37s/it]"
     ]
    },
    {
     "data": {
      "application/vnd.jupyter.widget-view+json": {
       "model_id": "024ce87debda4277a4f7f52395ea414b",
       "version_major": 2,
       "version_minor": 0
      },
      "text/plain": "Annual reports:   0%|          | 0/1 [00:00<?, ?report/s]"
     },
     "metadata": {},
     "output_type": "display_data"
    },
    {
     "name": "stderr",
     "output_type": "stream",
     "text": [
      " 91%|█████████▏| 211/231 [20:41<03:06,  9.31s/it]"
     ]
    },
    {
     "data": {
      "application/vnd.jupyter.widget-view+json": {
       "model_id": "e2584d87a9db49ba839a43c7a8042701",
       "version_major": 2,
       "version_minor": 0
      },
      "text/plain": "Annual reports:   0%|          | 0/1 [00:00<?, ?report/s]"
     },
     "metadata": {},
     "output_type": "display_data"
    },
    {
     "name": "stderr",
     "output_type": "stream",
     "text": [
      "Traceback (most recent call last):\n",
      "  File \"/Users/yungi/anaconda3/envs/pps_contest/lib/python3.7/site-packages/dart_fss/fs/extract.py\", line 1385, in extract\n",
      "    separator=separator)\n",
      "  File \"/Users/yungi/anaconda3/envs/pps_contest/lib/python3.7/site-packages/dart_fss/fs/extract.py\", line 1243, in analyze_report\n",
      "    raise NotFoundConsolidated('Could not find consolidated financial statements')\n",
      "dart_fss.errors.errors.NotFoundConsolidated: Could not find consolidated financial statements\n",
      " 92%|█████████▏| 212/231 [20:49<02:49,  8.92s/it]"
     ]
    },
    {
     "data": {
      "application/vnd.jupyter.widget-view+json": {
       "model_id": "87d9be343405441fac99959987543176",
       "version_major": 2,
       "version_minor": 0
      },
      "text/plain": "Annual reports:   0%|          | 0/1 [00:00<?, ?report/s]"
     },
     "metadata": {},
     "output_type": "display_data"
    },
    {
     "name": "stderr",
     "output_type": "stream",
     "text": [
      " 92%|█████████▏| 213/231 [20:58<02:43,  9.07s/it]"
     ]
    },
    {
     "data": {
      "application/vnd.jupyter.widget-view+json": {
       "model_id": "1176ad49b9f74b5490704d1dd1f94017",
       "version_major": 2,
       "version_minor": 0
      },
      "text/plain": "Annual reports:   0%|          | 0/1 [00:00<?, ?report/s]"
     },
     "metadata": {},
     "output_type": "display_data"
    },
    {
     "name": "stderr",
     "output_type": "stream",
     "text": [
      " 93%|█████████▎| 214/231 [21:07<02:33,  9.04s/it]"
     ]
    },
    {
     "data": {
      "application/vnd.jupyter.widget-view+json": {
       "model_id": "0ed471ca2bf4454b804101512669b7ba",
       "version_major": 2,
       "version_minor": 0
      },
      "text/plain": "Annual reports:   0%|          | 0/1 [00:00<?, ?report/s]"
     },
     "metadata": {},
     "output_type": "display_data"
    },
    {
     "name": "stderr",
     "output_type": "stream",
     "text": [
      " 93%|█████████▎| 215/231 [21:16<02:26,  9.15s/it]"
     ]
    },
    {
     "data": {
      "application/vnd.jupyter.widget-view+json": {
       "model_id": "8cc999e1fe424ba186c758ffed760444",
       "version_major": 2,
       "version_minor": 0
      },
      "text/plain": "Annual reports:   0%|          | 0/1 [00:00<?, ?report/s]"
     },
     "metadata": {},
     "output_type": "display_data"
    },
    {
     "name": "stderr",
     "output_type": "stream",
     "text": [
      " 94%|█████████▎| 216/231 [21:26<02:17,  9.19s/it]"
     ]
    },
    {
     "data": {
      "application/vnd.jupyter.widget-view+json": {
       "model_id": "1da5eea2659d4965b914d0504141a991",
       "version_major": 2,
       "version_minor": 0
      },
      "text/plain": "Annual reports:   0%|          | 0/1 [00:00<?, ?report/s]"
     },
     "metadata": {},
     "output_type": "display_data"
    },
    {
     "name": "stderr",
     "output_type": "stream",
     "text": [
      " 94%|█████████▍| 217/231 [21:35<02:07,  9.12s/it]"
     ]
    },
    {
     "data": {
      "application/vnd.jupyter.widget-view+json": {
       "model_id": "958c5b586fd040ecbd2538b0b7fa58a0",
       "version_major": 2,
       "version_minor": 0
      },
      "text/plain": "Annual reports:   0%|          | 0/1 [00:00<?, ?report/s]"
     },
     "metadata": {},
     "output_type": "display_data"
    },
    {
     "name": "stderr",
     "output_type": "stream",
     "text": [
      " 94%|█████████▍| 218/231 [21:44<01:59,  9.22s/it]"
     ]
    },
    {
     "data": {
      "application/vnd.jupyter.widget-view+json": {
       "model_id": "e9020bc02438454faeece02e35bc20e5",
       "version_major": 2,
       "version_minor": 0
      },
      "text/plain": "Annual reports:   0%|          | 0/1 [00:00<?, ?report/s]"
     },
     "metadata": {},
     "output_type": "display_data"
    },
    {
     "name": "stderr",
     "output_type": "stream",
     "text": [
      " 95%|█████████▍| 219/231 [21:53<01:50,  9.21s/it]"
     ]
    },
    {
     "data": {
      "application/vnd.jupyter.widget-view+json": {
       "model_id": "e94042a504ea4d8290431e651d6ccef0",
       "version_major": 2,
       "version_minor": 0
      },
      "text/plain": "Annual reports:   0%|          | 0/1 [00:00<?, ?report/s]"
     },
     "metadata": {},
     "output_type": "display_data"
    },
    {
     "name": "stderr",
     "output_type": "stream",
     "text": [
      " 95%|█████████▌| 220/231 [22:03<01:41,  9.25s/it]"
     ]
    },
    {
     "data": {
      "application/vnd.jupyter.widget-view+json": {
       "model_id": "3457251be196476785d4ec37430fde22",
       "version_major": 2,
       "version_minor": 0
      },
      "text/plain": "Annual reports:   0%|          | 0/1 [00:00<?, ?report/s]"
     },
     "metadata": {},
     "output_type": "display_data"
    },
    {
     "name": "stderr",
     "output_type": "stream",
     "text": [
      " 96%|█████████▌| 221/231 [22:12<01:33,  9.39s/it]"
     ]
    },
    {
     "data": {
      "application/vnd.jupyter.widget-view+json": {
       "model_id": "2227f56defb743ec91169b2df3f9a42c",
       "version_major": 2,
       "version_minor": 0
      },
      "text/plain": "Annual reports:   0%|          | 0/1 [00:00<?, ?report/s]"
     },
     "metadata": {},
     "output_type": "display_data"
    },
    {
     "name": "stderr",
     "output_type": "stream",
     "text": [
      " 96%|█████████▌| 222/231 [22:16<01:08,  7.66s/it]"
     ]
    },
    {
     "data": {
      "application/vnd.jupyter.widget-view+json": {
       "model_id": "3f77f1248ca54a778073ed450c251990",
       "version_major": 2,
       "version_minor": 0
      },
      "text/plain": "Annual reports:   0%|          | 0/1 [00:00<?, ?report/s]"
     },
     "metadata": {},
     "output_type": "display_data"
    },
    {
     "name": "stderr",
     "output_type": "stream",
     "text": [
      " 97%|█████████▋| 223/231 [22:25<01:04,  8.04s/it]"
     ]
    },
    {
     "data": {
      "application/vnd.jupyter.widget-view+json": {
       "model_id": "73e1a7df9bd3490b95fcfbe94ad78683",
       "version_major": 2,
       "version_minor": 0
      },
      "text/plain": "Annual reports:   0%|          | 0/1 [00:00<?, ?report/s]"
     },
     "metadata": {},
     "output_type": "display_data"
    },
    {
     "name": "stderr",
     "output_type": "stream",
     "text": [
      " 97%|█████████▋| 224/231 [22:35<01:00,  8.68s/it]"
     ]
    },
    {
     "data": {
      "application/vnd.jupyter.widget-view+json": {
       "model_id": "f37f702b7cc449179f3ab74dfbe541ea",
       "version_major": 2,
       "version_minor": 0
      },
      "text/plain": "Annual reports:   0%|          | 0/3 [00:00<?, ?report/s]"
     },
     "metadata": {},
     "output_type": "display_data"
    },
    {
     "name": "stderr",
     "output_type": "stream",
     "text": [
      " 97%|█████████▋| 225/231 [23:06<01:32, 15.47s/it]"
     ]
    },
    {
     "data": {
      "application/vnd.jupyter.widget-view+json": {
       "model_id": "aed74ecfdcba4c2d9f2a05ee242b5e0c",
       "version_major": 2,
       "version_minor": 0
      },
      "text/plain": "Annual reports:   0%|          | 0/1 [00:00<?, ?report/s]"
     },
     "metadata": {},
     "output_type": "display_data"
    },
    {
     "name": "stderr",
     "output_type": "stream",
     "text": [
      "Traceback (most recent call last):\n",
      "  File \"/Users/yungi/anaconda3/envs/pps_contest/lib/python3.7/site-packages/dart_fss/fs/extract.py\", line 1385, in extract\n",
      "    separator=separator)\n",
      "  File \"/Users/yungi/anaconda3/envs/pps_contest/lib/python3.7/site-packages/dart_fss/fs/extract.py\", line 1243, in analyze_report\n",
      "    raise NotFoundConsolidated('Could not find consolidated financial statements')\n",
      "dart_fss.errors.errors.NotFoundConsolidated: Could not find consolidated financial statements\n",
      " 98%|█████████▊| 226/231 [23:15<01:06, 13.30s/it]"
     ]
    },
    {
     "data": {
      "application/vnd.jupyter.widget-view+json": {
       "model_id": "d3e32af91c6544239bcf6ecd5e14877f",
       "version_major": 2,
       "version_minor": 0
      },
      "text/plain": "Annual reports:   0%|          | 0/1 [00:00<?, ?report/s]"
     },
     "metadata": {},
     "output_type": "display_data"
    },
    {
     "name": "stderr",
     "output_type": "stream",
     "text": [
      " 98%|█████████▊| 227/231 [23:24<00:48, 12.01s/it]"
     ]
    },
    {
     "data": {
      "application/vnd.jupyter.widget-view+json": {
       "model_id": "37dbcddf4ec44a9f852d29f17189feea",
       "version_major": 2,
       "version_minor": 0
      },
      "text/plain": "Annual reports:   0%|          | 0/1 [00:00<?, ?report/s]"
     },
     "metadata": {},
     "output_type": "display_data"
    },
    {
     "name": "stderr",
     "output_type": "stream",
     "text": [
      " 99%|█████████▊| 228/231 [23:34<00:34, 11.45s/it]"
     ]
    },
    {
     "data": {
      "application/vnd.jupyter.widget-view+json": {
       "model_id": "be5859e514644d939b3c2981bb8072fe",
       "version_major": 2,
       "version_minor": 0
      },
      "text/plain": "Annual reports:   0%|          | 0/1 [00:00<?, ?report/s]"
     },
     "metadata": {},
     "output_type": "display_data"
    },
    {
     "name": "stderr",
     "output_type": "stream",
     "text": [
      " 99%|█████████▉| 229/231 [23:43<00:21, 10.89s/it]"
     ]
    },
    {
     "data": {
      "application/vnd.jupyter.widget-view+json": {
       "model_id": "22768e38d3aa4db099527c9d3382681e",
       "version_major": 2,
       "version_minor": 0
      },
      "text/plain": "Annual reports:   0%|          | 0/1 [00:00<?, ?report/s]"
     },
     "metadata": {},
     "output_type": "display_data"
    },
    {
     "name": "stderr",
     "output_type": "stream",
     "text": [
      "100%|█████████▉| 230/231 [23:52<00:10, 10.32s/it]"
     ]
    },
    {
     "data": {
      "application/vnd.jupyter.widget-view+json": {
       "model_id": "ace8e247cda34eb8a66870db96421dfa",
       "version_major": 2,
       "version_minor": 0
      },
      "text/plain": "Annual reports:   0%|          | 0/1 [00:00<?, ?report/s]"
     },
     "metadata": {},
     "output_type": "display_data"
    },
    {
     "name": "stderr",
     "output_type": "stream",
     "text": [
      "Traceback (most recent call last):\n",
      "  File \"/Users/yungi/anaconda3/envs/pps_contest/lib/python3.7/site-packages/dart_fss/fs/extract.py\", line 1385, in extract\n",
      "    separator=separator)\n",
      "  File \"/Users/yungi/anaconda3/envs/pps_contest/lib/python3.7/site-packages/dart_fss/fs/extract.py\", line 1243, in analyze_report\n",
      "    raise NotFoundConsolidated('Could not find consolidated financial statements')\n",
      "dart_fss.errors.errors.NotFoundConsolidated: Could not find consolidated financial statements\n",
      "100%|██████████| 231/231 [24:00<00:00,  6.24s/it]\n"
     ]
    }
   ],
   "source": [
    "metaData = {'CAR':'자기자본비율', 'CR':'유동비율', 'QR':'당좌비율', 'DR':'부채비율', 'TAG':'총자산증가율', 'PG':'유형자산증가율', 'CAG':'유동자산증가율', 'FEG':'자기자본증가율'}\n",
    "def FsAnalysis(corp_fs):\n",
    "    ## 안정성 분석\n",
    "    Total_Equity = corp_fs[corp_fs['label_ko']=='자본총계'].values[0][3]\n",
    "    Total_EquiLiab = corp_fs[corp_fs['label_ko'].isin(['자본과부채총계', '부채와 자본총계'])].values[0][3]\n",
    "    CAR = (Total_Equity / Total_EquiLiab) * 100\n",
    "\n",
    "    Current_Assets = corp_fs[corp_fs['label_ko']=='유동자산'].values[0][3] # 유동자산\n",
    "    Current_Liabs = corp_fs[corp_fs['label_ko']=='유동부채'].values[0][3] # 유동부채\n",
    "    CR = (Current_Assets / Current_Liabs) * 100\n",
    "\n",
    "    QuickAssList = ['현금및현금성자산', '매출채권 및 기타유동채권', '기타유동금융자산', '기타유동자산']\n",
    "    Quick_Assets = corp_fs[corp_fs['label_ko'].isin(QuickAssList)].iloc[:, 3].values.sum() # 당좌자산\n",
    "    Current_Liabs = corp_fs[corp_fs['label_ko']=='유동부채'].values[0][3] # 유동부채\n",
    "    QR = (Quick_Assets / Current_Liabs) * 100\n",
    "\n",
    "    CL_PLUS_LTliabs = corp_fs[corp_fs['label_ko']=='부채총계'].values[0][3] # 부채총계 = 유동부채 + 고정부채(=비유동부채)\n",
    "    Total_Equity = corp_fs[corp_fs['label_ko']=='자본총계'].values[0][3] # 자본총계\n",
    "    DR = (CL_PLUS_LTliabs / Total_Equity) * 100\n",
    "\n",
    "    ## 성장성 분석\n",
    "    Total_Assets = corp_fs[corp_fs['label_ko']=='자산총계'].values[0]\n",
    "    TAG = (Total_Assets[3]/Total_Assets[4]*100) - 100\n",
    "\n",
    "    Property = corp_fs[corp_fs['label_ko']=='유형자산'].values[0]\n",
    "    PG = (Property[3]/Property[4]*100) - 100\n",
    "\n",
    "    Current_Assets = corp_fs[corp_fs['label_ko']=='유동자산'].values[0]\n",
    "    CAG = (Current_Assets[3]/Current_Assets[4]*100) - 100\n",
    "\n",
    "    Equity = corp_fs[corp_fs['label_ko']=='자본총계'].values[0]\n",
    "    FEG = (Equity[3]/Equity[4]*100) - 100\n",
    "\n",
    "    return [CAR, CR, QR, DR, TAG, PG, CAG, FEG]\n",
    "\n",
    "fsdata = defaultdict(list)\n",
    "corp_list = dart.get_corp_list()\n",
    "for corp_nm in tqdm(Dart_NonGpass['corp_name'].values): # ListedGPASS['corp_name'].values or Dart_NonGpass['corp_name'].values\n",
    "    corp_data = []\n",
    "    try:\n",
    "        corp = corp_list.find_by_corp_name(corp_nm, exactly=True)[0]\n",
    "        fs = corp.extract_fs(bgn_de='20210101') # 20181231, 20191231, 20201231 이 조회됨\n",
    "        df_bs = fs.show('bs', show_class=False)\n",
    "        df_bs.columns = df_bs.columns.droplevel()\n",
    "        fsdata[corp_nm] = FsAnalysis(df_bs)\n",
    "    \n",
    "    except:\n",
    "        continue\n",
    "\n",
    "NonGPASS_FS = pd.DataFrame.from_dict(fsdata, orient='index', columns=['CAR', 'CR', 'QR', 'DR', 'TAG', 'PG', 'CAG', 'FEG'])"
   ]
  },
  {
   "cell_type": "code",
   "execution_count": 482,
   "metadata": {},
   "outputs": [
    {
     "data": {
      "text/html": "<div>\n<style scoped>\n    .dataframe tbody tr th:only-of-type {\n        vertical-align: middle;\n    }\n\n    .dataframe tbody tr th {\n        vertical-align: top;\n    }\n\n    .dataframe thead th {\n        text-align: right;\n    }\n</style>\n<table border=\"1\" class=\"dataframe\">\n  <thead>\n    <tr style=\"text-align: right;\">\n      <th></th>\n      <th>CAR</th>\n      <th>CR</th>\n      <th>QR</th>\n      <th>DR</th>\n      <th>TAG</th>\n      <th>PG</th>\n      <th>CAG</th>\n      <th>FEG</th>\n    </tr>\n  </thead>\n  <tbody>\n    <tr>\n      <th>동일고무벨트</th>\n      <td>72.48488358611034</td>\n      <td>253.66935210940164</td>\n      <td>87.63327553367745</td>\n      <td>37.95979941280078</td>\n      <td>-2.0008064154246057</td>\n      <td>-1.286257001738747</td>\n      <td>-1.992903954435974</td>\n      <td>3.3127875929684762</td>\n    </tr>\n    <tr>\n      <th>성도이엔지</th>\n      <td>55.76302463469084</td>\n      <td>167.17968545774258</td>\n      <td>42.93197719017661</td>\n      <td>79.33030113612027</td>\n      <td>-21.172263315045342</td>\n      <td>-6.255511484229842</td>\n      <td>-31.70570469602886</td>\n      <td>64.20249032219596</td>\n    </tr>\n    <tr>\n      <th>KG케미칼</th>\n      <td>34.87145691273905</td>\n      <td>92.16592779277009</td>\n      <td>20.137524577667048</td>\n      <td>186.7674850816702</td>\n      <td>4.142945406343458</td>\n      <td>-3.992452902127269</td>\n      <td>-8.311750567567358</td>\n      <td>11.549922971940418</td>\n    </tr>\n    <tr>\n      <th>한세엠케이</th>\n      <td>52.00308441010382</td>\n      <td>168.51079615083876</td>\n      <td>70.67219159395506</td>\n      <td>92.29628614215571</td>\n      <td>-18.9785562934357</td>\n      <td>-5.667373524776082</td>\n      <td>-21.956906707274086</td>\n      <td>-22.6252789123441</td>\n    </tr>\n    <tr>\n      <th>민앤지</th>\n      <td>66.74379635126624</td>\n      <td>222.85815932544276</td>\n      <td>115.76531787765498</td>\n      <td>49.82665875598316</td>\n      <td>20.217086787464567</td>\n      <td>59.1453784285099</td>\n      <td>14.265638151782014</td>\n      <td>12.454763213393122</td>\n    </tr>\n    <tr>\n      <th>...</th>\n      <td>...</td>\n      <td>...</td>\n      <td>...</td>\n      <td>...</td>\n      <td>...</td>\n      <td>...</td>\n      <td>...</td>\n      <td>...</td>\n    </tr>\n    <tr>\n      <th>대림통상</th>\n      <td>47.872481606336486</td>\n      <td>132.68385818177552</td>\n      <td>20.770091615361267</td>\n      <td>108.88827285436531</td>\n      <td>-11.046715665197226</td>\n      <td>-6.493191695942002</td>\n      <td>-17.25173444978978</td>\n      <td>-16.666836626094508</td>\n    </tr>\n    <tr>\n      <th>상상인</th>\n      <td>19.17787645173677</td>\n      <td>81.03301784651423</td>\n      <td>NaN</td>\n      <td>421.43416530845303</td>\n      <td>-0.585158148914374</td>\n      <td>-0.32609365452012185</td>\n      <td>-21.85521447987685</td>\n      <td>11.77993481783355</td>\n    </tr>\n    <tr>\n      <th>카스</th>\n      <td>31.637423365488694</td>\n      <td>102.484311585872</td>\n      <td>28.85329276876557</td>\n      <td>216.0813661869943</td>\n      <td>8.249849466803056</td>\n      <td>-5.788338795378493</td>\n      <td>5.039347326820547</td>\n      <td>4.660222426744113</td>\n    </tr>\n    <tr>\n      <th>선도전기</th>\n      <td>53.11900435895958</td>\n      <td>194.62862872249497</td>\n      <td>159.03879264486963</td>\n      <td>88.25654058618103</td>\n      <td>5.127721104115395</td>\n      <td>11.559741271634323</td>\n      <td>1.1485795324058756</td>\n      <td>7.803408913463301</td>\n    </tr>\n    <tr>\n      <th>삼성출판사</th>\n      <td>59.3912990612674</td>\n      <td>155.41432614863814</td>\n      <td>20.749682737572915</td>\n      <td>68.37483197133155</td>\n      <td>21.007277427214305</td>\n      <td>-22.134973987557103</td>\n      <td>-0.4063895370358779</td>\n      <td>42.95268911720643</td>\n    </tr>\n  </tbody>\n</table>\n<p>92 rows × 8 columns</p>\n</div>",
      "text/plain": "                      CAR                 CR                 QR  \\\n동일고무벨트  72.48488358611034 253.66935210940164  87.63327553367745   \n성도이엔지   55.76302463469084 167.17968545774258  42.93197719017661   \nKG케미칼   34.87145691273905  92.16592779277009 20.137524577667048   \n한세엠케이   52.00308441010382 168.51079615083876  70.67219159395506   \n민앤지     66.74379635126624 222.85815932544276 115.76531787765498   \n...                   ...                ...                ...   \n대림통상   47.872481606336486 132.68385818177552 20.770091615361267   \n상상인     19.17787645173677  81.03301784651423                NaN   \n카스     31.637423365488694   102.484311585872  28.85329276876557   \n선도전기    53.11900435895958 194.62862872249497 159.03879264486963   \n삼성출판사    59.3912990612674 155.41432614863814 20.749682737572915   \n\n                       DR                 TAG                   PG  \\\n동일고무벨트  37.95979941280078 -2.0008064154246057   -1.286257001738747   \n성도이엔지   79.33030113612027 -21.172263315045342   -6.255511484229842   \nKG케미칼   186.7674850816702   4.142945406343458   -3.992452902127269   \n한세엠케이   92.29628614215571   -18.9785562934357   -5.667373524776082   \n민앤지     49.82665875598316  20.217086787464567     59.1453784285099   \n...                   ...                 ...                  ...   \n대림통상   108.88827285436531 -11.046715665197226   -6.493191695942002   \n상상인    421.43416530845303  -0.585158148914374 -0.32609365452012185   \n카스      216.0813661869943   8.249849466803056   -5.788338795378493   \n선도전기    88.25654058618103   5.127721104115395   11.559741271634323   \n삼성출판사   68.37483197133155  21.007277427214305  -22.134973987557103   \n\n                       CAG                 FEG  \n동일고무벨트  -1.992903954435974  3.3127875929684762  \n성도이엔지   -31.70570469602886   64.20249032219596  \nKG케미칼   -8.311750567567358  11.549922971940418  \n한세엠케이  -21.956906707274086   -22.6252789123441  \n민앤지     14.265638151782014  12.454763213393122  \n...                    ...                 ...  \n대림통상    -17.25173444978978 -16.666836626094508  \n상상인     -21.85521447987685   11.77993481783355  \n카스       5.039347326820547   4.660222426744113  \n선도전기    1.1485795324058756   7.803408913463301  \n삼성출판사  -0.4063895370358779   42.95268911720643  \n\n[92 rows x 8 columns]"
     },
     "execution_count": 482,
     "metadata": {},
     "output_type": "execute_result"
    }
   ],
   "source": [
    "# GPASS_FS\n",
    "NonGPASS_FS"
   ]
  },
  {
   "cell_type": "code",
   "execution_count": 478,
   "metadata": {},
   "outputs": [],
   "source": [
    "# GPASS_FS.to_excel(os.path.join(BasePath, 'GPASS_FsAnalysis.xlsx'))"
   ]
  },
  {
   "cell_type": "code",
   "execution_count": 483,
   "metadata": {},
   "outputs": [],
   "source": [
    "# Save FS_Analysis Dataframe into a 'Excel' separating two sheet_names.\n",
    "with pd.ExcelWriter(os.path.join(BasePath, 'GPASS+DartNonGPASS_FsAnalysis.xlsx')) as writer:\n",
    "    NonGPASS_FS.to_excel(writer, sheet_name='NonGPASS')\n",
    "    GPASS_FS.to_excel(writer, sheet_name='GPASS')"
   ]
  },
  {
   "cell_type": "code",
   "execution_count": 4,
   "metadata": {},
   "outputs": [],
   "source": [
    "GPASS_FS = pd.read_excel(os.path.join(BasePath, 'GPASS+DartNonGPASS_FsAnalysis.xlsx'), sheet_name='GPASS', index_col=0)\n",
    "NonGPASS_FS = pd.read_excel(os.path.join(BasePath, 'GPASS+DartNonGPASS_FsAnalysis.xlsx'), sheet_name='NonGPASS', index_col=0)"
   ]
  },
  {
   "cell_type": "code",
   "execution_count": null,
   "metadata": {},
   "outputs": [],
   "source": []
  },
  {
   "cell_type": "code",
   "execution_count": 5,
   "metadata": {},
   "outputs": [
    {
     "data": {
      "text/html": "<div>\n<style scoped>\n    .dataframe tbody tr th:only-of-type {\n        vertical-align: middle;\n    }\n\n    .dataframe tbody tr th {\n        vertical-align: top;\n    }\n\n    .dataframe thead th {\n        text-align: right;\n    }\n</style>\n<table border=\"1\" class=\"dataframe\">\n  <thead>\n    <tr style=\"text-align: right;\">\n      <th></th>\n      <th>CAR</th>\n      <th>CR</th>\n      <th>QR</th>\n      <th>DR</th>\n      <th>TAG</th>\n      <th>PG</th>\n      <th>CAG</th>\n      <th>FEG</th>\n    </tr>\n  </thead>\n  <tbody>\n    <tr>\n      <th>메디아나</th>\n      <td>88.987814</td>\n      <td>693.550493</td>\n      <td>341.588658</td>\n      <td>12.374938</td>\n      <td>18.532472</td>\n      <td>9.586893</td>\n      <td>35.518677</td>\n      <td>19.971971</td>\n    </tr>\n    <tr>\n      <th>유니온커뮤니티</th>\n      <td>60.503592</td>\n      <td>220.808353</td>\n      <td>93.320856</td>\n      <td>65.279442</td>\n      <td>7.841246</td>\n      <td>-0.827456</td>\n      <td>10.893492</td>\n      <td>2.853493</td>\n    </tr>\n    <tr>\n      <th>웰크론</th>\n      <td>44.733659</td>\n      <td>123.563333</td>\n      <td>102.476476</td>\n      <td>123.545317</td>\n      <td>-3.226497</td>\n      <td>-3.507747</td>\n      <td>-10.319400</td>\n      <td>9.051531</td>\n    </tr>\n    <tr>\n      <th>뉴보텍</th>\n      <td>39.477253</td>\n      <td>140.977018</td>\n      <td>59.472591</td>\n      <td>153.310429</td>\n      <td>15.408768</td>\n      <td>29.587960</td>\n      <td>13.797317</td>\n      <td>-23.757988</td>\n    </tr>\n    <tr>\n      <th>인바디</th>\n      <td>90.389423</td>\n      <td>759.013758</td>\n      <td>533.252974</td>\n      <td>10.632413</td>\n      <td>7.260505</td>\n      <td>-7.759597</td>\n      <td>13.919711</td>\n      <td>7.403377</td>\n    </tr>\n  </tbody>\n</table>\n</div>",
      "text/plain": "               CAR          CR          QR          DR        TAG         PG  \\\n메디아나     88.987814  693.550493  341.588658   12.374938  18.532472   9.586893   \n유니온커뮤니티  60.503592  220.808353   93.320856   65.279442   7.841246  -0.827456   \n웰크론      44.733659  123.563333  102.476476  123.545317  -3.226497  -3.507747   \n뉴보텍      39.477253  140.977018   59.472591  153.310429  15.408768  29.587960   \n인바디      90.389423  759.013758  533.252974   10.632413   7.260505  -7.759597   \n\n               CAG        FEG  \n메디아나     35.518677  19.971971  \n유니온커뮤니티  10.893492   2.853493  \n웰크론     -10.319400   9.051531  \n뉴보텍      13.797317 -23.757988  \n인바디      13.919711   7.403377  "
     },
     "execution_count": 5,
     "metadata": {},
     "output_type": "execute_result"
    }
   ],
   "source": [
    "Combined_FS = pd.concat([GPASS_FS, NonGPASS_FS])\n",
    "Combined_FS.head()"
   ]
  },
  {
   "cell_type": "code",
   "execution_count": 6,
   "metadata": {},
   "outputs": [
    {
     "data": {
      "text/html": "<div>\n<style scoped>\n    .dataframe tbody tr th:only-of-type {\n        vertical-align: middle;\n    }\n\n    .dataframe tbody tr th {\n        vertical-align: top;\n    }\n\n    .dataframe thead th {\n        text-align: right;\n    }\n</style>\n<table border=\"1\" class=\"dataframe\">\n  <thead>\n    <tr style=\"text-align: right;\">\n      <th></th>\n      <th>CAR</th>\n      <th>CR</th>\n      <th>QR</th>\n      <th>DR</th>\n      <th>TAG</th>\n      <th>PG</th>\n      <th>CAG</th>\n      <th>FEG</th>\n      <th>GPASS_LABEL</th>\n    </tr>\n  </thead>\n  <tbody>\n    <tr>\n      <th>메디아나</th>\n      <td>88.987814</td>\n      <td>693.550493</td>\n      <td>341.588658</td>\n      <td>12.374938</td>\n      <td>18.532472</td>\n      <td>9.586893</td>\n      <td>35.518677</td>\n      <td>19.971971</td>\n      <td>1</td>\n    </tr>\n    <tr>\n      <th>유니온커뮤니티</th>\n      <td>60.503592</td>\n      <td>220.808353</td>\n      <td>93.320856</td>\n      <td>65.279442</td>\n      <td>7.841246</td>\n      <td>-0.827456</td>\n      <td>10.893492</td>\n      <td>2.853493</td>\n      <td>1</td>\n    </tr>\n    <tr>\n      <th>웰크론</th>\n      <td>44.733659</td>\n      <td>123.563333</td>\n      <td>102.476476</td>\n      <td>123.545317</td>\n      <td>-3.226497</td>\n      <td>-3.507747</td>\n      <td>-10.319400</td>\n      <td>9.051531</td>\n      <td>1</td>\n    </tr>\n    <tr>\n      <th>뉴보텍</th>\n      <td>39.477253</td>\n      <td>140.977018</td>\n      <td>59.472591</td>\n      <td>153.310429</td>\n      <td>15.408768</td>\n      <td>29.587960</td>\n      <td>13.797317</td>\n      <td>-23.757988</td>\n      <td>1</td>\n    </tr>\n    <tr>\n      <th>인바디</th>\n      <td>90.389423</td>\n      <td>759.013758</td>\n      <td>533.252974</td>\n      <td>10.632413</td>\n      <td>7.260505</td>\n      <td>-7.759597</td>\n      <td>13.919711</td>\n      <td>7.403377</td>\n      <td>1</td>\n    </tr>\n    <tr>\n      <th>...</th>\n      <td>...</td>\n      <td>...</td>\n      <td>...</td>\n      <td>...</td>\n      <td>...</td>\n      <td>...</td>\n      <td>...</td>\n      <td>...</td>\n      <td>...</td>\n    </tr>\n    <tr>\n      <th>대림통상</th>\n      <td>47.872482</td>\n      <td>132.683858</td>\n      <td>20.770092</td>\n      <td>108.888273</td>\n      <td>-11.046716</td>\n      <td>-6.493192</td>\n      <td>-17.251734</td>\n      <td>-16.666837</td>\n      <td>0</td>\n    </tr>\n    <tr>\n      <th>상상인</th>\n      <td>19.177876</td>\n      <td>81.033018</td>\n      <td>NaN</td>\n      <td>421.434165</td>\n      <td>-0.585158</td>\n      <td>-0.326094</td>\n      <td>-21.855214</td>\n      <td>11.779935</td>\n      <td>0</td>\n    </tr>\n    <tr>\n      <th>카스</th>\n      <td>31.637423</td>\n      <td>102.484312</td>\n      <td>28.853293</td>\n      <td>216.081366</td>\n      <td>8.249849</td>\n      <td>-5.788339</td>\n      <td>5.039347</td>\n      <td>4.660222</td>\n      <td>0</td>\n    </tr>\n    <tr>\n      <th>선도전기</th>\n      <td>53.119004</td>\n      <td>194.628629</td>\n      <td>159.038793</td>\n      <td>88.256541</td>\n      <td>5.127721</td>\n      <td>11.559741</td>\n      <td>1.148580</td>\n      <td>7.803409</td>\n      <td>0</td>\n    </tr>\n    <tr>\n      <th>삼성출판사</th>\n      <td>59.391299</td>\n      <td>155.414326</td>\n      <td>20.749683</td>\n      <td>68.374832</td>\n      <td>21.007277</td>\n      <td>-22.134974</td>\n      <td>-0.406390</td>\n      <td>42.952689</td>\n      <td>0</td>\n    </tr>\n  </tbody>\n</table>\n<p>105 rows × 9 columns</p>\n</div>",
      "text/plain": "               CAR          CR          QR          DR        TAG         PG  \\\n메디아나     88.987814  693.550493  341.588658   12.374938  18.532472   9.586893   \n유니온커뮤니티  60.503592  220.808353   93.320856   65.279442   7.841246  -0.827456   \n웰크론      44.733659  123.563333  102.476476  123.545317  -3.226497  -3.507747   \n뉴보텍      39.477253  140.977018   59.472591  153.310429  15.408768  29.587960   \n인바디      90.389423  759.013758  533.252974   10.632413   7.260505  -7.759597   \n...            ...         ...         ...         ...        ...        ...   \n대림통상     47.872482  132.683858   20.770092  108.888273 -11.046716  -6.493192   \n상상인      19.177876   81.033018         NaN  421.434165  -0.585158  -0.326094   \n카스       31.637423  102.484312   28.853293  216.081366   8.249849  -5.788339   \n선도전기     53.119004  194.628629  159.038793   88.256541   5.127721  11.559741   \n삼성출판사    59.391299  155.414326   20.749683   68.374832  21.007277 -22.134974   \n\n               CAG        FEG  GPASS_LABEL  \n메디아나     35.518677  19.971971            1  \n유니온커뮤니티  10.893492   2.853493            1  \n웰크론     -10.319400   9.051531            1  \n뉴보텍      13.797317 -23.757988            1  \n인바디      13.919711   7.403377            1  \n...            ...        ...          ...  \n대림통상    -17.251734 -16.666837            0  \n상상인     -21.855214  11.779935            0  \n카스        5.039347   4.660222            0  \n선도전기      1.148580   7.803409            0  \n삼성출판사    -0.406390  42.952689            0  \n\n[105 rows x 9 columns]"
     },
     "execution_count": 6,
     "metadata": {},
     "output_type": "execute_result"
    }
   ],
   "source": [
    "Combined_FS['GPASS_LABEL'] = pd.Series(np.append(np.ones(GPASS_FS.index.shape).astype(np.int64), np.zeros(NonGPASS_FS.index.shape).astype(np.int64)), index=Combined_FS.index)\n",
    "Combined_FS"
   ]
  },
  {
   "cell_type": "code",
   "execution_count": 26,
   "metadata": {},
   "outputs": [
    {
     "data": {
      "text/plain": "<Figure size 1080x1080 with 0 Axes>"
     },
     "metadata": {},
     "output_type": "display_data"
    },
    {
     "data": {
      "image/png": "[encoded data removed]",
      "text/plain": "<Figure size 1516.75x1440 with 72 Axes>"
     },
     "metadata": {
      "needs_background": "light"
     },
     "output_type": "display_data"
    }
   ],
   "source": [
    "plt.figure(figsize=(15,15))\n",
    "sns.pairplot(Combined_FS, hue='GPASS_LABEL', palette='bright')\n",
    "plt.savefig(\"FS_ANALYSIS_SCATTERMATRIX.png\", dpi=300)\n",
    "plt.show()"
   ]
  },
  {
   "cell_type": "markdown",
   "metadata": {},
   "source": [
    "## PCA(Principal Component Analysis)"
   ]
  },
  {
   "cell_type": "code",
   "execution_count": 7,
   "metadata": {},
   "outputs": [],
   "source": [
    "from sklearn.preprocessing import StandardScaler\n",
    "from sklearn.decomposition import PCA"
   ]
  },
  {
   "cell_type": "code",
   "execution_count": 24,
   "metadata": {},
   "outputs": [],
   "source": [
    "Combined_FS = Combined_FS.dropna(subset=['QR'])"
   ]
  },
  {
   "cell_type": "code",
   "execution_count": 25,
   "metadata": {},
   "outputs": [
    {
     "data": {
      "text/html": "<div>\n<style scoped>\n    .dataframe tbody tr th:only-of-type {\n        vertical-align: middle;\n    }\n\n    .dataframe tbody tr th {\n        vertical-align: top;\n    }\n\n    .dataframe thead th {\n        text-align: right;\n    }\n</style>\n<table border=\"1\" class=\"dataframe\">\n  <thead>\n    <tr style=\"text-align: right;\">\n      <th></th>\n      <th>CAR</th>\n      <th>CR</th>\n      <th>QR</th>\n      <th>DR</th>\n      <th>TAG</th>\n      <th>PG</th>\n      <th>CAG</th>\n      <th>FEG</th>\n    </tr>\n  </thead>\n  <tbody>\n    <tr>\n      <th>0</th>\n      <td>1.567944</td>\n      <td>1.450629</td>\n      <td>1.100709</td>\n      <td>-0.516753</td>\n      <td>0.124829</td>\n      <td>0.373515</td>\n      <td>0.768644</td>\n      <td>0.190969</td>\n    </tr>\n    <tr>\n      <th>1</th>\n      <td>0.251204</td>\n      <td>-0.124655</td>\n      <td>-0.155225</td>\n      <td>-0.256742</td>\n      <td>-0.062337</td>\n      <td>-0.100477</td>\n      <td>0.082872</td>\n      <td>-0.078698</td>\n    </tr>\n    <tr>\n      <th>2</th>\n      <td>-0.477792</td>\n      <td>-0.448697</td>\n      <td>-0.108908</td>\n      <td>0.029618</td>\n      <td>-0.256094</td>\n      <td>-0.222466</td>\n      <td>-0.507874</td>\n      <td>0.018940</td>\n    </tr>\n    <tr>\n      <th>3</th>\n      <td>-0.720780</td>\n      <td>-0.390671</td>\n      <td>-0.326456</td>\n      <td>0.175906</td>\n      <td>0.070144</td>\n      <td>1.283830</td>\n      <td>0.163739</td>\n      <td>-0.497909</td>\n    </tr>\n    <tr>\n      <th>4</th>\n      <td>1.632736</td>\n      <td>1.668768</td>\n      <td>2.070297</td>\n      <td>-0.525317</td>\n      <td>-0.072504</td>\n      <td>-0.415982</td>\n      <td>0.167147</td>\n      <td>-0.007024</td>\n    </tr>\n    <tr>\n      <th>...</th>\n      <td>...</td>\n      <td>...</td>\n      <td>...</td>\n      <td>...</td>\n      <td>...</td>\n      <td>...</td>\n      <td>...</td>\n      <td>...</td>\n    </tr>\n    <tr>\n      <th>97</th>\n      <td>1.743511</td>\n      <td>3.469285</td>\n      <td>5.627493</td>\n      <td>-0.539360</td>\n      <td>-0.219415</td>\n      <td>-0.042388</td>\n      <td>-0.230522</td>\n      <td>-0.160003</td>\n    </tr>\n    <tr>\n      <th>98</th>\n      <td>-0.332694</td>\n      <td>-0.418306</td>\n      <td>-0.522243</td>\n      <td>-0.042417</td>\n      <td>-0.392999</td>\n      <td>-0.358344</td>\n      <td>-0.700928</td>\n      <td>-0.386202</td>\n    </tr>\n    <tr>\n      <th>99</th>\n      <td>-1.083191</td>\n      <td>-0.518937</td>\n      <td>-0.481352</td>\n      <td>0.484408</td>\n      <td>-0.055184</td>\n      <td>-0.326263</td>\n      <td>-0.080157</td>\n      <td>-0.050237</td>\n    </tr>\n    <tr>\n      <th>100</th>\n      <td>-0.090163</td>\n      <td>-0.211892</td>\n      <td>0.177228</td>\n      <td>-0.143816</td>\n      <td>-0.109841</td>\n      <td>0.463306</td>\n      <td>-0.188509</td>\n      <td>-0.000722</td>\n    </tr>\n    <tr>\n      <th>101</th>\n      <td>0.199787</td>\n      <td>-0.342563</td>\n      <td>-0.522346</td>\n      <td>-0.241529</td>\n      <td>0.168154</td>\n      <td>-1.070253</td>\n      <td>-0.231812</td>\n      <td>0.552985</td>\n    </tr>\n  </tbody>\n</table>\n<p>102 rows × 8 columns</p>\n</div>",
      "text/plain": "          CAR        CR        QR        DR       TAG        PG       CAG  \\\n0    1.567944  1.450629  1.100709 -0.516753  0.124829  0.373515  0.768644   \n1    0.251204 -0.124655 -0.155225 -0.256742 -0.062337 -0.100477  0.082872   \n2   -0.477792 -0.448697 -0.108908  0.029618 -0.256094 -0.222466 -0.507874   \n3   -0.720780 -0.390671 -0.326456  0.175906  0.070144  1.283830  0.163739   \n4    1.632736  1.668768  2.070297 -0.525317 -0.072504 -0.415982  0.167147   \n..        ...       ...       ...       ...       ...       ...       ...   \n97   1.743511  3.469285  5.627493 -0.539360 -0.219415 -0.042388 -0.230522   \n98  -0.332694 -0.418306 -0.522243 -0.042417 -0.392999 -0.358344 -0.700928   \n99  -1.083191 -0.518937 -0.481352  0.484408 -0.055184 -0.326263 -0.080157   \n100 -0.090163 -0.211892  0.177228 -0.143816 -0.109841  0.463306 -0.188509   \n101  0.199787 -0.342563 -0.522346 -0.241529  0.168154 -1.070253 -0.231812   \n\n          FEG  \n0    0.190969  \n1   -0.078698  \n2    0.018940  \n3   -0.497909  \n4   -0.007024  \n..        ...  \n97  -0.160003  \n98  -0.386202  \n99  -0.050237  \n100 -0.000722  \n101  0.552985  \n\n[102 rows x 8 columns]"
     },
     "execution_count": 25,
     "metadata": {},
     "output_type": "execute_result"
    }
   ],
   "source": [
    "x = Combined_FS.drop(['GPASS_LABEL'], axis=1).values\n",
    "y = Combined_FS['GPASS_LABEL'].values\n",
    "\n",
    "x = StandardScaler().fit_transform(x)\n",
    "features = Combined_FS.columns.drop('GPASS_LABEL')\n",
    "pd.DataFrame(x, columns=features)"
   ]
  },
  {
   "cell_type": "code",
   "execution_count": 33,
   "metadata": {},
   "outputs": [
    {
     "data": {
      "text/html": "<div>\n<style scoped>\n    .dataframe tbody tr th:only-of-type {\n        vertical-align: middle;\n    }\n\n    .dataframe tbody tr th {\n        vertical-align: top;\n    }\n\n    .dataframe thead th {\n        text-align: right;\n    }\n</style>\n<table border=\"1\" class=\"dataframe\">\n  <thead>\n    <tr style=\"text-align: right;\">\n      <th></th>\n      <th>pc1</th>\n      <th>pc2</th>\n    </tr>\n  </thead>\n  <tbody>\n    <tr>\n      <th>0</th>\n      <td>2.508586</td>\n      <td>0.517308</td>\n    </tr>\n    <tr>\n      <th>1</th>\n      <td>0.066741</td>\n      <td>-0.090781</td>\n    </tr>\n    <tr>\n      <th>2</th>\n      <td>-0.637775</td>\n      <td>-0.394060</td>\n    </tr>\n    <tr>\n      <th>3</th>\n      <td>-0.709012</td>\n      <td>0.065260</td>\n    </tr>\n    <tr>\n      <th>4</th>\n      <td>3.046659</td>\n      <td>-0.158964</td>\n    </tr>\n    <tr>\n      <th>...</th>\n      <td>...</td>\n      <td>...</td>\n    </tr>\n    <tr>\n      <th>97</th>\n      <td>5.981954</td>\n      <td>-0.534280</td>\n    </tr>\n    <tr>\n      <th>98</th>\n      <td>-0.768621</td>\n      <td>-0.837022</td>\n    </tr>\n    <tr>\n      <th>99</th>\n      <td>-1.308361</td>\n      <td>-0.107092</td>\n    </tr>\n    <tr>\n      <th>100</th>\n      <td>-0.005240</td>\n      <td>-0.074767</td>\n    </tr>\n    <tr>\n      <th>101</th>\n      <td>-0.405799</td>\n      <td>0.146610</td>\n    </tr>\n  </tbody>\n</table>\n<p>102 rows × 2 columns</p>\n</div>",
      "text/plain": "          pc1       pc2\n0    2.508586  0.517308\n1    0.066741 -0.090781\n2   -0.637775 -0.394060\n3   -0.709012  0.065260\n4    3.046659 -0.158964\n..        ...       ...\n97   5.981954 -0.534280\n98  -0.768621 -0.837022\n99  -1.308361 -0.107092\n100 -0.005240 -0.074767\n101 -0.405799  0.146610\n\n[102 rows x 2 columns]"
     },
     "execution_count": 33,
     "metadata": {},
     "output_type": "execute_result"
    }
   ],
   "source": [
    "FS_pca = PCA(n_components=2)\n",
    "PCA_comps = FS_pca.fit_transform(x)\n",
    "PCA_DF = pd.DataFrame(PCA_comps, columns=['pc1', 'pc2'])\n",
    "PCA_DF"
   ]
  },
  {
   "cell_type": "code",
   "execution_count": 34,
   "metadata": {},
   "outputs": [
    {
     "data": {
      "text/plain": "array([0.31633438, 0.23185826])"
     },
     "execution_count": 34,
     "metadata": {},
     "output_type": "execute_result"
    }
   ],
   "source": [
    "FS_pca.explained_variance_ratio_"
   ]
  },
  {
   "cell_type": "code",
   "execution_count": 47,
   "metadata": {},
   "outputs": [
    {
     "data": {
      "image/png": "[encoded data removed]",
      "text/plain": "<Figure size 360x360 with 1 Axes>"
     },
     "metadata": {
      "needs_background": "light"
     },
     "output_type": "display_data"
    }
   ],
   "source": [
    "test = pd.concat([PCA_DF, pd.Series(y, name='label')], axis=1)\n",
    "fig, ax = plt.subplots(figsize=(5,5))\n",
    "ColorList = ['blue', 'red']\n",
    "for l in [0, 1]:\n",
    "    target = test[test['label']==l]\n",
    "    ax.scatter(target['pc1'].values, target['pc2'].values, c=ColorList[l])\n",
    "\n",
    "plt.tight_layout()\n",
    "plt.show()"
   ]
  },
  {
   "cell_type": "code",
   "execution_count": 48,
   "metadata": {},
   "outputs": [],
   "source": [
    "import plotly.express as px"
   ]
  },
  {
   "cell_type": "code",
   "execution_count": 81,
   "metadata": {},
   "outputs": [],
   "source": [
    "Labels = np.where(y==1, 'GPASS', 'Non_GPASS')"
   ]
  },
  {
   "cell_type": "code",
   "execution_count": 80,
   "metadata": {},
   "outputs": [
    {
     "data": {
      "application/vnd.plotly.v1+json": {
       "config": {
        "plotlyServerURL": "https://plot.ly"
       },
       "data": [
        {
         "hovertemplate": "color=GPASS<br>PC 1=%{x}<br>PC 2=%{y}<br>PC 3=%{z}<extra></extra>",
         "legendgroup": "GPASS",
         "marker": {
          "color": "#636efa",
          "size": 3,
          "symbol": "circle"
         },
         "mode": "markers",
         "name": "GPASS",
         "scene": "scene",
         "showlegend": true,
         "type": "scatter3d",
         "x": [
          2.508585806343952,
          0.06674124209644638,
          -0.6377748861891767,
          -0.7090119870762619,
          3.046659396825518,
          -0.42036953485100015,
          -0.6060696369787326,
          -1.1533908225376674,
          -0.018466857916694217,
          -0.7411944607186863,
          5.856122576485058,
          -0.4143283963968283,
          -2.028432506647762
         ],
         "y": [
          0.5173076141333859,
          -0.09078054927393671,
          -0.39406024581162963,
          0.0652601697143397,
          -0.158963528511435,
          -0.4061247171046832,
          -0.9278377665820232,
          0.3389704022640116,
          0.5827778264122945,
          0.3056616408425062,
          -0.6158569958937546,
          -0.45274893225374785,
          -0.328408373980434
         ],
         "z": [
          0.09878935307573515,
          0.18020123893094905,
          -0.1443381328456689,
          1.065544111255467,
          -0.8890043503061356,
          0.5465268666279168,
          -0.7221957270111047,
          0.08045858218980956,
          -0.4504186911663234,
          0.94212457977297,
          -2.1896388279266175,
          -0.15736322631031535,
          -0.7957168550593117
         ]
        },
        {
         "hovertemplate": "color=Non_GPASS<br>PC 1=%{x}<br>PC 2=%{y}<br>PC 3=%{z}<extra></extra>",
         "legendgroup": "Non_GPASS",
         "marker": {
          "color": "#EF553B",
          "size": 3,
          "symbol": "circle"
         },
         "mode": "markers",
         "name": "Non_GPASS",
         "scene": "scene",
         "showlegend": true,
         "type": "scatter3d",
         "x": [
          0.41470669947802763,
          -0.42869493382690654,
          -1.2571875217844288,
          -0.447773358840976,
          0.5423190926679365,
          -1.1079814503779792,
          -0.5955092957009055,
          0.9444377039525461,
          1.7124576875437914,
          1.668500750534216,
          0.7218258169974988,
          0.8112338991848459,
          -0.586728102358175,
          1.232143317369249,
          -0.614351811244762,
          -0.24445219332397333,
          -1.2605200157019154,
          4.366994721057214,
          0.8626949552609954,
          -0.7038214310179248,
          -1.0871920165093263,
          4.0507462954088345,
          -0.783382313882239,
          -0.918485274625565,
          0.06899081080322095,
          -0.6975133979348845,
          0.5593994366045348,
          -0.07667121234317448,
          0.19415690223940996,
          -1.397083194403515,
          0.5115511995781998,
          -0.25879981775545796,
          0.20105174594765224,
          1.033168357637594,
          0.283960479802024,
          3.378817373336205,
          0.4552136814080996,
          0.2239983002016232,
          -0.4231802856748886,
          -0.5024712091434842,
          1.6794035061297572,
          0.12674698399841752,
          -0.16684310558506488,
          -2.326823678339632,
          -1.4235564032502463,
          -0.7995860429320591,
          0.9948999621074666,
          -1.169026943803336,
          -0.34314822931387456,
          -1.6255257751899084,
          0.5147248206017818,
          1.3494386459483818,
          -3.871005744602786,
          -1.3838905030228725,
          -0.5613401129362936,
          0.03563411522205485,
          -0.3816724389942928,
          0.5485212459389449,
          0.33629442634649864,
          1.9329301132650634,
          -0.21979965127684808,
          -1.2520996551214973,
          -0.05411317213075392,
          0.20422072613751677,
          1.0667264832702512,
          -3.63772296392922,
          -1.1085842780435062,
          -1.3199075460988832,
          0.6251098677626784,
          0.005935941239992126,
          -0.6193384939298584,
          0.23371055671560328,
          -1.9670785285103745,
          -1.2856644838902922,
          -0.8423949621057375,
          -0.42075757206288217,
          -1.2682496522227902,
          -1.032833352607022,
          -0.2342440627139539,
          4.225895270844313,
          -0.4876603633905944,
          -0.4957129621317239,
          -0.902023646723791,
          -1.7691609171347775,
          5.981953937855844,
          -0.7686212666204655,
          -1.3083610968588113,
          -0.005239973673239268,
          -0.4057993472385727
         ],
         "y": [
          -0.35764242213524045,
          -0.31754682505945553,
          -0.2326559913128209,
          -1.0434224139657775,
          0.689753083094716,
          -0.32125033479136145,
          0.09658734729031432,
          -0.028691790363982787,
          -0.5555683750093884,
          -0.4907431934111044,
          -0.2551792232068507,
          4.889824666378356,
          0.05354332824917843,
          -0.16223884174817205,
          -0.10739932632963851,
          1.2606868707325785,
          -0.3447569937552938,
          -0.18229227587089877,
          0.3967259298627518,
          2.6706872942367093,
          -0.3994413455374843,
          -1.0505175062040315,
          0.20511804758279986,
          0.26933887091307757,
          1.0302668832731083,
          -0.053123021274523605,
          0.15432820828434812,
          -0.4025324959868545,
          -0.37639617850104556,
          -0.08958497690984304,
          1.5650948590561473,
          -0.4553628031209938,
          -0.46999473667237524,
          0.4436569746655418,
          0.6430687019304903,
          0.6995562787333246,
          -0.19557573928338157,
          1.7886279554042945,
          -0.07654286872142335,
          -0.9725675887061048,
          0.1813256143418397,
          -1.9263149976160394,
          -0.3061175734530485,
          9.30818079773912,
          -1.041157469388026,
          -0.4842102937742152,
          -0.3987542002901732,
          -0.04117175114045457,
          0.04481891017785075,
          0.03199459565802566,
          -0.4903960790295574,
          0.3718874068153003,
          -0.597907908017972,
          -0.135818019925913,
          -1.1342741415081876,
          1.9611001890169053,
          -0.25971159877619415,
          0.0012206846052199342,
          -0.5214848596119819,
          -0.9341438115970082,
          -3.5260988730266134,
          0.18497850281068343,
          -0.16891076436456595,
          0.007970818617056149,
          0.05465013150457195,
          -0.8354900206777458,
          -0.7486110481448051,
          -1.3805834418401233,
          -0.11688051113769643,
          2.5596657002908776,
          -0.7849336983810001,
          -0.2720911297570787,
          -0.25967353550815275,
          -0.14974536519503084,
          0.09454775192618749,
          0.6062210823792732,
          -3.5161308926986266,
          -0.7229839966856523,
          0.30748936881966366,
          1.5873238792412676,
          -0.2919884751245032,
          0.06116515166214064,
          -0.3979324331360924,
          -0.8655083457146375,
          -0.5342797564854009,
          -0.8370215806550596,
          -0.10709152673937737,
          -0.0747674804661217,
          0.1466104184964956
         ],
         "z": [
          0.21344559826024156,
          -0.19792184102022906,
          -0.20590367653158298,
          -0.05720423839541137,
          2.1566410733972794,
          -0.19371169572086766,
          -0.15274171152580693,
          0.38631095276945066,
          -0.2158438724649025,
          -0.29551984507853085,
          -0.23308322276348603,
          1.3736182649357536,
          0.12076656683980164,
          0.6184246647265662,
          0.48871298444113165,
          0.8536490110483441,
          -0.5183055788245158,
          -1.2614507854911858,
          1.5328297515117604,
          -1.1923826547394123,
          0.10683961602765242,
          -1.2743953655370064,
          0.21138936119342974,
          0.2794586554400008,
          4.4018045388317,
          -0.005979030335065277,
          -0.0012938337591529754,
          1.0666069358843566,
          0.20201547973128225,
          -0.5379492622949058,
          1.4756308406478913,
          -0.11966817024782142,
          -0.14017666909727716,
          -0.17408074703402449,
          0.9527857183474495,
          -0.7706138307506889,
          0.1425258397554719,
          2.1308323066704395,
          0.469879649551198,
          0.1780837740001246,
          -0.07328621434357704,
          -0.6734203702078108,
          -0.003942477163058834,
          -3.2827950299560316,
          -0.5565425642825997,
          -0.25151633461019063,
          -0.09360302998280452,
          0.35610217279779033,
          0.7319202867728821,
          -1.410563064956552,
          0.48181775730883947,
          0.448332096094262,
          -2.9558223533196313,
          -0.5926611625903263,
          -0.9531543800318771,
          1.1488060836497196,
          0.1424995394390299,
          0.31564284342130755,
          -0.14103196869018272,
          -0.5527425568598169,
          -0.358701469830317,
          -0.17370250100588353,
          0.5539928289699174,
          0.270527768681326,
          0.37288251952851953,
          -2.656717589323879,
          -0.21192130437152532,
          -0.24448063319085808,
          0.36118045828609124,
          -0.4240377550253225,
          -0.7315576542470879,
          0.2554411192592496,
          -0.17572629238592835,
          -0.08582882078357221,
          0.18713787538458804,
          1.7709923493564081,
          1.6104985459781327,
          -0.2728246954725596,
          1.939958430607625,
          0.01763704453123498,
          0.09689602455042334,
          0.18765132758828257,
          -0.18325077901637732,
          -0.8938038760186132,
          -2.145735854441873,
          -0.04392621127779156,
          -0.2848154618131262,
          0.3692088913777726,
          -0.5700080320110478
         ]
        }
       ],
       "layout": {
        "legend": {
         "title": {
          "text": "color"
         },
         "tracegroupgap": 0
        },
        "scene": {
         "domain": {
          "x": [
           0,
           1
          ],
          "y": [
           0,
           1
          ]
         },
         "xaxis": {
          "title": {
           "text": "PC 1"
          }
         },
         "yaxis": {
          "title": {
           "text": "PC 2"
          }
         },
         "zaxis": {
          "title": {
           "text": "PC 3"
          }
         }
        },
        "template": {
         "data": {
          "bar": [
           {
            "error_x": {
             "color": "#2a3f5f"
            },
            "error_y": {
             "color": "#2a3f5f"
            },
            "marker": {
             "line": {
              "color": "#E5ECF6",
              "width": 0.5
             },
             "pattern": {
              "fillmode": "overlay",
              "size": 10,
              "solidity": 0.2
             }
            },
            "type": "bar"
           }
          ],
          "barpolar": [
           {
            "marker": {
             "line": {
              "color": "#E5ECF6",
              "width": 0.5
             },
             "pattern": {
              "fillmode": "overlay",
              "size": 10,
              "solidity": 0.2
             }
            },
            "type": "barpolar"
           }
          ],
          "carpet": [
           {
            "aaxis": {
             "endlinecolor": "#2a3f5f",
             "gridcolor": "white",
             "linecolor": "white",
             "minorgridcolor": "white",
             "startlinecolor": "#2a3f5f"
            },
            "baxis": {
             "endlinecolor": "#2a3f5f",
             "gridcolor": "white",
             "linecolor": "white",
             "minorgridcolor": "white",
             "startlinecolor": "#2a3f5f"
            },
            "type": "carpet"
           }
          ],
          "choropleth": [
           {
            "colorbar": {
             "outlinewidth": 0,
             "ticks": ""
            },
            "type": "choropleth"
           }
          ],
          "contour": [
           {
            "colorbar": {
             "outlinewidth": 0,
             "ticks": ""
            },
            "colorscale": [
             [
              0,
              "#0d0887"
             ],
             [
              0.1111111111111111,
              "#46039f"
             ],
             [
              0.2222222222222222,
              "#7201a8"
             ],
             [
              0.3333333333333333,
              "#9c179e"
             ],
             [
              0.4444444444444444,
              "#bd3786"
             ],
             [
              0.5555555555555556,
              "#d8576b"
             ],
             [
              0.6666666666666666,
              "#ed7953"
             ],
             [
              0.7777777777777778,
              "#fb9f3a"
             ],
             [
              0.8888888888888888,
              "#fdca26"
             ],
             [
              1,
              "#f0f921"
             ]
            ],
            "type": "contour"
           }
          ],
          "contourcarpet": [
           {
            "colorbar": {
             "outlinewidth": 0,
             "ticks": ""
            },
            "type": "contourcarpet"
           }
          ],
          "heatmap": [
           {
            "colorbar": {
             "outlinewidth": 0,
             "ticks": ""
            },
            "colorscale": [
             [
              0,
              "#0d0887"
             ],
             [
              0.1111111111111111,
              "#46039f"
             ],
             [
              0.2222222222222222,
              "#7201a8"
             ],
             [
              0.3333333333333333,
              "#9c179e"
             ],
             [
              0.4444444444444444,
              "#bd3786"
             ],
             [
              0.5555555555555556,
              "#d8576b"
             ],
             [
              0.6666666666666666,
              "#ed7953"
             ],
             [
              0.7777777777777778,
              "#fb9f3a"
             ],
             [
              0.8888888888888888,
              "#fdca26"
             ],
             [
              1,
              "#f0f921"
             ]
            ],
            "type": "heatmap"
           }
          ],
          "heatmapgl": [
           {
            "colorbar": {
             "outlinewidth": 0,
             "ticks": ""
            },
            "colorscale": [
             [
              0,
              "#0d0887"
             ],
             [
              0.1111111111111111,
              "#46039f"
             ],
             [
              0.2222222222222222,
              "#7201a8"
             ],
             [
              0.3333333333333333,
              "#9c179e"
             ],
             [
              0.4444444444444444,
              "#bd3786"
             ],
             [
              0.5555555555555556,
              "#d8576b"
             ],
             [
              0.6666666666666666,
              "#ed7953"
             ],
             [
              0.7777777777777778,
              "#fb9f3a"
             ],
             [
              0.8888888888888888,
              "#fdca26"
             ],
             [
              1,
              "#f0f921"
             ]
            ],
            "type": "heatmapgl"
           }
          ],
          "histogram": [
           {
            "marker": {
             "pattern": {
              "fillmode": "overlay",
              "size": 10,
              "solidity": 0.2
             }
            },
            "type": "histogram"
           }
          ],
          "histogram2d": [
           {
            "colorbar": {
             "outlinewidth": 0,
             "ticks": ""
            },
            "colorscale": [
             [
              0,
              "#0d0887"
             ],
             [
              0.1111111111111111,
              "#46039f"
             ],
             [
              0.2222222222222222,
              "#7201a8"
             ],
             [
              0.3333333333333333,
              "#9c179e"
             ],
             [
              0.4444444444444444,
              "#bd3786"
             ],
             [
              0.5555555555555556,
              "#d8576b"
             ],
             [
              0.6666666666666666,
              "#ed7953"
             ],
             [
              0.7777777777777778,
              "#fb9f3a"
             ],
             [
              0.8888888888888888,
              "#fdca26"
             ],
             [
              1,
              "#f0f921"
             ]
            ],
            "type": "histogram2d"
           }
          ],
          "histogram2dcontour": [
           {
            "colorbar": {
             "outlinewidth": 0,
             "ticks": ""
            },
            "colorscale": [
             [
              0,
              "#0d0887"
             ],
             [
              0.1111111111111111,
              "#46039f"
             ],
             [
              0.2222222222222222,
              "#7201a8"
             ],
             [
              0.3333333333333333,
              "#9c179e"
             ],
             [
              0.4444444444444444,
              "#bd3786"
             ],
             [
              0.5555555555555556,
              "#d8576b"
             ],
             [
              0.6666666666666666,
              "#ed7953"
             ],
             [
              0.7777777777777778,
              "#fb9f3a"
             ],
             [
              0.8888888888888888,
              "#fdca26"
             ],
             [
              1,
              "#f0f921"
             ]
            ],
            "type": "histogram2dcontour"
           }
          ],
          "mesh3d": [
           {
            "colorbar": {
             "outlinewidth": 0,
             "ticks": ""
            },
            "type": "mesh3d"
           }
          ],
          "parcoords": [
           {
            "line": {
             "colorbar": {
              "outlinewidth": 0,
              "ticks": ""
             }
            },
            "type": "parcoords"
           }
          ],
          "pie": [
           {
            "automargin": true,
            "type": "pie"
           }
          ],
          "scatter": [
           {
            "marker": {
             "colorbar": {
              "outlinewidth": 0,
              "ticks": ""
             }
            },
            "type": "scatter"
           }
          ],
          "scatter3d": [
           {
            "line": {
             "colorbar": {
              "outlinewidth": 0,
              "ticks": ""
             }
            },
            "marker": {
             "colorbar": {
              "outlinewidth": 0,
              "ticks": ""
             }
            },
            "type": "scatter3d"
           }
          ],
          "scattercarpet": [
           {
            "marker": {
             "colorbar": {
              "outlinewidth": 0,
              "ticks": ""
             }
            },
            "type": "scattercarpet"
           }
          ],
          "scattergeo": [
           {
            "marker": {
             "colorbar": {
              "outlinewidth": 0,
              "ticks": ""
             }
            },
            "type": "scattergeo"
           }
          ],
          "scattergl": [
           {
            "marker": {
             "colorbar": {
              "outlinewidth": 0,
              "ticks": ""
             }
            },
            "type": "scattergl"
           }
          ],
          "scattermapbox": [
           {
            "marker": {
             "colorbar": {
              "outlinewidth": 0,
              "ticks": ""
             }
            },
            "type": "scattermapbox"
           }
          ],
          "scatterpolar": [
           {
            "marker": {
             "colorbar": {
              "outlinewidth": 0,
              "ticks": ""
             }
            },
            "type": "scatterpolar"
           }
          ],
          "scatterpolargl": [
           {
            "marker": {
             "colorbar": {
              "outlinewidth": 0,
              "ticks": ""
             }
            },
            "type": "scatterpolargl"
           }
          ],
          "scatterternary": [
           {
            "marker": {
             "colorbar": {
              "outlinewidth": 0,
              "ticks": ""
             }
            },
            "type": "scatterternary"
           }
          ],
          "surface": [
           {
            "colorbar": {
             "outlinewidth": 0,
             "ticks": ""
            },
            "colorscale": [
             [
              0,
              "#0d0887"
             ],
             [
              0.1111111111111111,
              "#46039f"
             ],
             [
              0.2222222222222222,
              "#7201a8"
             ],
             [
              0.3333333333333333,
              "#9c179e"
             ],
             [
              0.4444444444444444,
              "#bd3786"
             ],
             [
              0.5555555555555556,
              "#d8576b"
             ],
             [
              0.6666666666666666,
              "#ed7953"
             ],
             [
              0.7777777777777778,
              "#fb9f3a"
             ],
             [
              0.8888888888888888,
              "#fdca26"
             ],
             [
              1,
              "#f0f921"
             ]
            ],
            "type": "surface"
           }
          ],
          "table": [
           {
            "cells": {
             "fill": {
              "color": "#EBF0F8"
             },
             "line": {
              "color": "white"
             }
            },
            "header": {
             "fill": {
              "color": "#C8D4E3"
             },
             "line": {
              "color": "white"
             }
            },
            "type": "table"
           }
          ]
         },
         "layout": {
          "annotationdefaults": {
           "arrowcolor": "#2a3f5f",
           "arrowhead": 0,
           "arrowwidth": 1
          },
          "autotypenumbers": "strict",
          "coloraxis": {
           "colorbar": {
            "outlinewidth": 0,
            "ticks": ""
           }
          },
          "colorscale": {
           "diverging": [
            [
             0,
             "#8e0152"
            ],
            [
             0.1,
             "#c51b7d"
            ],
            [
             0.2,
             "#de77ae"
            ],
            [
             0.3,
             "#f1b6da"
            ],
            [
             0.4,
             "#fde0ef"
            ],
            [
             0.5,
             "#f7f7f7"
            ],
            [
             0.6,
             "#e6f5d0"
            ],
            [
             0.7,
             "#b8e186"
            ],
            [
             0.8,
             "#7fbc41"
            ],
            [
             0.9,
             "#4d9221"
            ],
            [
             1,
             "#276419"
            ]
           ],
           "sequential": [
            [
             0,
             "#0d0887"
            ],
            [
             0.1111111111111111,
             "#46039f"
            ],
            [
             0.2222222222222222,
             "#7201a8"
            ],
            [
             0.3333333333333333,
             "#9c179e"
            ],
            [
             0.4444444444444444,
             "#bd3786"
            ],
            [
             0.5555555555555556,
             "#d8576b"
            ],
            [
             0.6666666666666666,
             "#ed7953"
            ],
            [
             0.7777777777777778,
             "#fb9f3a"
            ],
            [
             0.8888888888888888,
             "#fdca26"
            ],
            [
             1,
             "#f0f921"
            ]
           ],
           "sequentialminus": [
            [
             0,
             "#0d0887"
            ],
            [
             0.1111111111111111,
             "#46039f"
            ],
            [
             0.2222222222222222,
             "#7201a8"
            ],
            [
             0.3333333333333333,
             "#9c179e"
            ],
            [
             0.4444444444444444,
             "#bd3786"
            ],
            [
             0.5555555555555556,
             "#d8576b"
            ],
            [
             0.6666666666666666,
             "#ed7953"
            ],
            [
             0.7777777777777778,
             "#fb9f3a"
            ],
            [
             0.8888888888888888,
             "#fdca26"
            ],
            [
             1,
             "#f0f921"
            ]
           ]
          },
          "colorway": [
           "#636efa",
           "#EF553B",
           "#00cc96",
           "#ab63fa",
           "#FFA15A",
           "#19d3f3",
           "#FF6692",
           "#B6E880",
           "#FF97FF",
           "#FECB52"
          ],
          "font": {
           "color": "#2a3f5f"
          },
          "geo": {
           "bgcolor": "white",
           "lakecolor": "white",
           "landcolor": "#E5ECF6",
           "showlakes": true,
           "showland": true,
           "subunitcolor": "white"
          },
          "hoverlabel": {
           "align": "left"
          },
          "hovermode": "closest",
          "mapbox": {
           "style": "light"
          },
          "paper_bgcolor": "white",
          "plot_bgcolor": "#E5ECF6",
          "polar": {
           "angularaxis": {
            "gridcolor": "white",
            "linecolor": "white",
            "ticks": ""
           },
           "bgcolor": "#E5ECF6",
           "radialaxis": {
            "gridcolor": "white",
            "linecolor": "white",
            "ticks": ""
           }
          },
          "scene": {
           "xaxis": {
            "backgroundcolor": "#E5ECF6",
            "gridcolor": "white",
            "gridwidth": 2,
            "linecolor": "white",
            "showbackground": true,
            "ticks": "",
            "zerolinecolor": "white"
           },
           "yaxis": {
            "backgroundcolor": "#E5ECF6",
            "gridcolor": "white",
            "gridwidth": 2,
            "linecolor": "white",
            "showbackground": true,
            "ticks": "",
            "zerolinecolor": "white"
           },
           "zaxis": {
            "backgroundcolor": "#E5ECF6",
            "gridcolor": "white",
            "gridwidth": 2,
            "linecolor": "white",
            "showbackground": true,
            "ticks": "",
            "zerolinecolor": "white"
           }
          },
          "shapedefaults": {
           "line": {
            "color": "#2a3f5f"
           }
          },
          "ternary": {
           "aaxis": {
            "gridcolor": "white",
            "linecolor": "white",
            "ticks": ""
           },
           "baxis": {
            "gridcolor": "white",
            "linecolor": "white",
            "ticks": ""
           },
           "bgcolor": "#E5ECF6",
           "caxis": {
            "gridcolor": "white",
            "linecolor": "white",
            "ticks": ""
           }
          },
          "title": {
           "x": 0.05
          },
          "xaxis": {
           "automargin": true,
           "gridcolor": "white",
           "linecolor": "white",
           "ticks": "",
           "title": {
            "standoff": 15
           },
           "zerolinecolor": "white",
           "zerolinewidth": 2
          },
          "yaxis": {
           "automargin": true,
           "gridcolor": "white",
           "linecolor": "white",
           "ticks": "",
           "title": {
            "standoff": 15
           },
           "zerolinecolor": "white",
           "zerolinewidth": 2
          }
         }
        },
        "title": {
         "text": "Total Explained Variance: 67.74%"
        }
       }
      }
     },
     "metadata": {},
     "output_type": "display_data"
    }
   ],
   "source": [
    "pca = PCA(n_components=3)\n",
    "components = pca.fit_transform(x)\n",
    "total_var = pca.explained_variance_ratio_.sum() * 100\n",
    "fig = px.scatter_3d(components, x=0, y=1, z=2, color=Labels, title=f'Total Explained Variance: {total_var:.2f}%', labels={'0': 'PC 1', '1': 'PC 2', '2': 'PC 3'})\n",
    "fig.update_traces(marker_size = 3)\n",
    "fig.show()"
   ]
  },
  {
   "cell_type": "code",
   "execution_count": null,
   "metadata": {},
   "outputs": [],
   "source": []
  },
  {
   "cell_type": "code",
   "execution_count": 78,
   "metadata": {},
   "outputs": [
    {
     "data": {
      "text/html": "<div>\n<style scoped>\n    .dataframe tbody tr th:only-of-type {\n        vertical-align: middle;\n    }\n\n    .dataframe tbody tr th {\n        vertical-align: top;\n    }\n\n    .dataframe thead th {\n        text-align: right;\n    }\n</style>\n<table border=\"1\" class=\"dataframe\">\n  <thead>\n    <tr style=\"text-align: right;\">\n      <th></th>\n      <th>Unnamed: 0</th>\n      <th>[D210000] Statement of financial position, current/non-current - Consolidated financial statements (Unit: KRW)</th>\n      <th>Unnamed: 2</th>\n      <th>Unnamed: 3</th>\n      <th>Unnamed: 4</th>\n      <th>Unnamed: 5</th>\n      <th>Unnamed: 6</th>\n      <th>Unnamed: 7</th>\n      <th>20201231</th>\n      <th>20191231</th>\n      <th>20181231</th>\n    </tr>\n  </thead>\n  <tbody>\n    <tr>\n      <th>0</th>\n      <td>NaN</td>\n      <td>concept_id</td>\n      <td>label_ko</td>\n      <td>label_en</td>\n      <td>class0</td>\n      <td>class1</td>\n      <td>class2</td>\n      <td>class3</td>\n      <td>('연결재무제표',)</td>\n      <td>('연결재무제표',)</td>\n      <td>('연결재무제표',)</td>\n    </tr>\n    <tr>\n      <th>1</th>\n      <td>NaN</td>\n      <td>NaN</td>\n      <td>NaN</td>\n      <td>NaN</td>\n      <td>NaN</td>\n      <td>NaN</td>\n      <td>NaN</td>\n      <td>NaN</td>\n      <td>NaN</td>\n      <td>NaN</td>\n      <td>NaN</td>\n    </tr>\n    <tr>\n      <th>2</th>\n      <td>0.0</td>\n      <td>ifrs-full_CurrentAssets</td>\n      <td>유동자산</td>\n      <td>Current assets</td>\n      <td>재무상태표 [abstract]</td>\n      <td>자산 [abstract]</td>\n      <td>유동자산</td>\n      <td>NaN</td>\n      <td>30902172993</td>\n      <td>29463001719</td>\n      <td>26879361054</td>\n    </tr>\n    <tr>\n      <th>3</th>\n      <td>1.0</td>\n      <td>ifrs-full_CashAndCashEquivalents</td>\n      <td>현금및현금성자산</td>\n      <td>Cash and cash equivalents</td>\n      <td>재무상태표 [abstract]</td>\n      <td>자산 [abstract]</td>\n      <td>유동자산</td>\n      <td>현금및현금성자산</td>\n      <td>10642254874</td>\n      <td>12751896086</td>\n      <td>11156965169</td>\n    </tr>\n    <tr>\n      <th>4</th>\n      <td>2.0</td>\n      <td>ifrs-full_TradeAndOtherCurrentReceivables</td>\n      <td>매출채권 및 기타유동채권</td>\n      <td>Trade and other current receivables</td>\n      <td>재무상태표 [abstract]</td>\n      <td>자산 [abstract]</td>\n      <td>유동자산</td>\n      <td>매출채권 및 기타유동채권</td>\n      <td>4115531900</td>\n      <td>3255674800</td>\n      <td>5226871383</td>\n    </tr>\n    <tr>\n      <th>5</th>\n      <td>3.0</td>\n      <td>ifrs-full_OtherCurrentFinancialAssets</td>\n      <td>기타유동금융자산</td>\n      <td>Other current financial assets</td>\n      <td>재무상태표 [abstract]</td>\n      <td>자산 [abstract]</td>\n      <td>유동자산</td>\n      <td>기타유동금융자산</td>\n      <td>2874607924</td>\n      <td>567310486</td>\n      <td>268934144</td>\n    </tr>\n    <tr>\n      <th>6</th>\n      <td>4.0</td>\n      <td>dart_OtherCurrentAssets</td>\n      <td>기타유동자산</td>\n      <td>Other current assets</td>\n      <td>재무상태표 [abstract]</td>\n      <td>자산 [abstract]</td>\n      <td>유동자산</td>\n      <td>기타유동자산</td>\n      <td>3155386430</td>\n      <td>2804867842</td>\n      <td>2118222413</td>\n    </tr>\n    <tr>\n      <th>7</th>\n      <td>5.0</td>\n      <td>ifrs-full_Inventories</td>\n      <td>재고자산</td>\n      <td>Inventories</td>\n      <td>재무상태표 [abstract]</td>\n      <td>자산 [abstract]</td>\n      <td>유동자산</td>\n      <td>재고자산</td>\n      <td>10114391865</td>\n      <td>10083252505</td>\n      <td>8108367945</td>\n    </tr>\n    <tr>\n      <th>8</th>\n      <td>6.0</td>\n      <td>ifrs-full_NoncurrentAssets</td>\n      <td>비유동자산</td>\n      <td>Non-current assets</td>\n      <td>재무상태표 [abstract]</td>\n      <td>자산 [abstract]</td>\n      <td>비유동자산</td>\n      <td>NaN</td>\n      <td>35980238233</td>\n      <td>39139444891</td>\n      <td>40170763837</td>\n    </tr>\n    <tr>\n      <th>9</th>\n      <td>7.0</td>\n      <td>ifrs-full_OtherNoncurrentFinancialAssets</td>\n      <td>기타비유동금융자산</td>\n      <td>Other non-current financial assets</td>\n      <td>재무상태표 [abstract]</td>\n      <td>자산 [abstract]</td>\n      <td>비유동자산</td>\n      <td>기타비유동금융자산</td>\n      <td>578195184</td>\n      <td>414333937</td>\n      <td>162712204</td>\n    </tr>\n    <tr>\n      <th>10</th>\n      <td>8.0</td>\n      <td>ifrs-full_PropertyPlantAndEquipment</td>\n      <td>유형자산</td>\n      <td>Property, plant and equipment</td>\n      <td>재무상태표 [abstract]</td>\n      <td>자산 [abstract]</td>\n      <td>비유동자산</td>\n      <td>유형자산</td>\n      <td>25344779572</td>\n      <td>29140825826</td>\n      <td>27536289384</td>\n    </tr>\n    <tr>\n      <th>11</th>\n      <td>9.0</td>\n      <td>dart_GoodwillGross</td>\n      <td>영업권</td>\n      <td>Goodwill, gross</td>\n      <td>재무상태표 [abstract]</td>\n      <td>자산 [abstract]</td>\n      <td>비유동자산</td>\n      <td>영업권</td>\n      <td>412589419</td>\n      <td>412589419</td>\n      <td>412589419</td>\n    </tr>\n    <tr>\n      <th>12</th>\n      <td>10.0</td>\n      <td>ifrs-full_IntangibleAssetsOtherThanGoodwill</td>\n      <td>영업권 이외의 무형자산</td>\n      <td>Intangible assets other than goodwill</td>\n      <td>재무상태표 [abstract]</td>\n      <td>자산 [abstract]</td>\n      <td>비유동자산</td>\n      <td>영업권 이외의 무형자산</td>\n      <td>714161775</td>\n      <td>1315278530</td>\n      <td>1593116788</td>\n    </tr>\n    <tr>\n      <th>13</th>\n      <td>11.0</td>\n      <td>dart_OtherNonCurrentAssets</td>\n      <td>기타비유동자산</td>\n      <td>Other non-current assets</td>\n      <td>재무상태표 [abstract]</td>\n      <td>자산 [abstract]</td>\n      <td>비유동자산</td>\n      <td>기타비유동자산</td>\n      <td>958263171</td>\n      <td>973010248</td>\n      <td>3494152653</td>\n    </tr>\n    <tr>\n      <th>14</th>\n      <td>12.0</td>\n      <td>ifrs-full_RightofuseAssets</td>\n      <td>사용권자산</td>\n      <td>Right-of-use assets</td>\n      <td>재무상태표 [abstract]</td>\n      <td>자산 [abstract]</td>\n      <td>비유동자산</td>\n      <td>사용권자산</td>\n      <td>139959368</td>\n      <td>109867802</td>\n      <td>0</td>\n    </tr>\n    <tr>\n      <th>15</th>\n      <td>13.0</td>\n      <td>ifrs-full_NoncurrentFinancialAssetsMeasuredAtF...</td>\n      <td>비유동 기타포괄손익-공정가치 측정 금융자산</td>\n      <td>Non-current financial assets measured at fair ...</td>\n      <td>재무상태표 [abstract]</td>\n      <td>자산 [abstract]</td>\n      <td>비유동자산</td>\n      <td>비유동 기타포괄손익-공정가치 측정 금융자산</td>\n      <td>283824740</td>\n      <td>283559060</td>\n      <td>282460700</td>\n    </tr>\n    <tr>\n      <th>16</th>\n      <td>14.0</td>\n      <td>ifrs-full_InvestmentProperty</td>\n      <td>투자부동산</td>\n      <td>Investment property</td>\n      <td>재무상태표 [abstract]</td>\n      <td>자산 [abstract]</td>\n      <td>비유동자산</td>\n      <td>투자부동산</td>\n      <td>7060031769</td>\n      <td>5996786052</td>\n      <td>6279819640</td>\n    </tr>\n    <tr>\n      <th>17</th>\n      <td>15.0</td>\n      <td>ifrs-full_DeferredTaxAssets</td>\n      <td>이연법인세자산</td>\n      <td>Deferred tax assets</td>\n      <td>재무상태표 [abstract]</td>\n      <td>자산 [abstract]</td>\n      <td>비유동자산</td>\n      <td>이연법인세자산</td>\n      <td>488433235</td>\n      <td>493194017</td>\n      <td>409623049</td>\n    </tr>\n    <tr>\n      <th>18</th>\n      <td>16.0</td>\n      <td>ifrs-full_Assets</td>\n      <td>자산총계</td>\n      <td>Total assets</td>\n      <td>재무상태표 [abstract]</td>\n      <td>자산 [abstract]</td>\n      <td>자산총계</td>\n      <td>NaN</td>\n      <td>66882411226</td>\n      <td>68602446610</td>\n      <td>67050124891</td>\n    </tr>\n    <tr>\n      <th>19</th>\n      <td>17.0</td>\n      <td>ifrs-full_CurrentLiabilities</td>\n      <td>유동부채</td>\n      <td>Current liabilities</td>\n      <td>재무상태표 [abstract]</td>\n      <td>부채 [abstract]</td>\n      <td>유동부채</td>\n      <td>NaN</td>\n      <td>28015838796</td>\n      <td>24757263714</td>\n      <td>25779107628</td>\n    </tr>\n    <tr>\n      <th>20</th>\n      <td>18.0</td>\n      <td>ifrs-full_TradeAndOtherCurrentPayables</td>\n      <td>매입채무 및 기타유동채무</td>\n      <td>Trade and other current payables</td>\n      <td>재무상태표 [abstract]</td>\n      <td>부채 [abstract]</td>\n      <td>유동부채</td>\n      <td>매입채무 및 기타유동채무</td>\n      <td>1095087344</td>\n      <td>1371320468</td>\n      <td>1586240441</td>\n    </tr>\n    <tr>\n      <th>21</th>\n      <td>19.0</td>\n      <td>ifrs-full_OtherCurrentFinancialLiabilities</td>\n      <td>기타유동금융부채</td>\n      <td>Other current financial liabilities</td>\n      <td>재무상태표 [abstract]</td>\n      <td>부채 [abstract]</td>\n      <td>유동부채</td>\n      <td>기타유동금융부채</td>\n      <td>1550251080</td>\n      <td>1284617747</td>\n      <td>1238055852</td>\n    </tr>\n    <tr>\n      <th>22</th>\n      <td>20.0</td>\n      <td>dart_OtherCurrentLiabilities</td>\n      <td>기타유동부채</td>\n      <td>Other current liabilities</td>\n      <td>재무상태표 [abstract]</td>\n      <td>부채 [abstract]</td>\n      <td>유동부채</td>\n      <td>기타유동부채</td>\n      <td>216595219</td>\n      <td>153571991</td>\n      <td>80195569</td>\n    </tr>\n    <tr>\n      <th>23</th>\n      <td>21.0</td>\n      <td>ifrs-full_CurrentTaxLiabilities</td>\n      <td>당기법인세부채</td>\n      <td>Current tax liabilities</td>\n      <td>재무상태표 [abstract]</td>\n      <td>부채 [abstract]</td>\n      <td>유동부채</td>\n      <td>당기법인세부채</td>\n      <td>28050600</td>\n      <td>225353410</td>\n      <td>399165070</td>\n    </tr>\n    <tr>\n      <th>24</th>\n      <td>22.0</td>\n      <td>ifrs-full_CurrentPortionOfLongtermBorrowings</td>\n      <td>유동성장기차입금</td>\n      <td>Current portion of long-term borrowings</td>\n      <td>재무상태표 [abstract]</td>\n      <td>부채 [abstract]</td>\n      <td>유동부채</td>\n      <td>유동성장기차입금</td>\n      <td>11860000000</td>\n      <td>11540000000</td>\n      <td>12750000000</td>\n    </tr>\n    <tr>\n      <th>25</th>\n      <td>23.0</td>\n      <td>dart_CurrentPortionOfConvertibleBonds</td>\n      <td>유동성전환사채</td>\n      <td>Current portion of convertible bonds</td>\n      <td>재무상태표 [abstract]</td>\n      <td>부채 [abstract]</td>\n      <td>유동부채</td>\n      <td>유동성전환사채</td>\n      <td>2000000000</td>\n      <td>0</td>\n      <td>2000000000</td>\n    </tr>\n    <tr>\n      <th>26</th>\n      <td>24.0</td>\n      <td>ifrs-full_CurrentLeaseLiabilities</td>\n      <td>유동리스부채</td>\n      <td>Current lease liabilities</td>\n      <td>재무상태표 [abstract]</td>\n      <td>부채 [abstract]</td>\n      <td>유동부채</td>\n      <td>유동리스부채</td>\n      <td>72408418</td>\n      <td>57324845</td>\n      <td>0</td>\n    </tr>\n    <tr>\n      <th>27</th>\n      <td>25.0</td>\n      <td>ifrs-full_ShorttermBorrowings</td>\n      <td>단기차입금</td>\n      <td>Short-term borrowings</td>\n      <td>재무상태표 [abstract]</td>\n      <td>부채 [abstract]</td>\n      <td>유동부채</td>\n      <td>단기차입금</td>\n      <td>11193446135</td>\n      <td>10125075253</td>\n      <td>7725450696</td>\n    </tr>\n    <tr>\n      <th>28</th>\n      <td>26.0</td>\n      <td>ifrs-full_NoncurrentLiabilities</td>\n      <td>비유동부채</td>\n      <td>Non-current liabilities</td>\n      <td>재무상태표 [abstract]</td>\n      <td>부채 [abstract]</td>\n      <td>비유동부채</td>\n      <td>NaN</td>\n      <td>2135220629</td>\n      <td>4987718394</td>\n      <td>2250884165</td>\n    </tr>\n    <tr>\n      <th>29</th>\n      <td>27.0</td>\n      <td>dart_LongTermBorrowingsGross</td>\n      <td>장기차입금</td>\n      <td>Long-term borrowings, gross</td>\n      <td>재무상태표 [abstract]</td>\n      <td>부채 [abstract]</td>\n      <td>비유동부채</td>\n      <td>장기차입금</td>\n      <td>1972812538</td>\n      <td>2917825000</td>\n      <td>2159104500</td>\n    </tr>\n    <tr>\n      <th>30</th>\n      <td>28.0</td>\n      <td>ifrs-full_NoncurrentLeaseLiabilities</td>\n      <td>비유동리스부채</td>\n      <td>Non-current lease liabilities</td>\n      <td>재무상태표 [abstract]</td>\n      <td>부채 [abstract]</td>\n      <td>비유동부채</td>\n      <td>비유동리스부채</td>\n      <td>71019529</td>\n      <td>54508478</td>\n      <td>0</td>\n    </tr>\n    <tr>\n      <th>31</th>\n      <td>29.0</td>\n      <td>dart_ConvertibleBonds</td>\n      <td>전환사채</td>\n      <td>Convertible bonds</td>\n      <td>재무상태표 [abstract]</td>\n      <td>부채 [abstract]</td>\n      <td>비유동부채</td>\n      <td>전환사채</td>\n      <td>0</td>\n      <td>2000000000</td>\n      <td>0</td>\n    </tr>\n    <tr>\n      <th>32</th>\n      <td>30.0</td>\n      <td>ifrs-full_OtherNoncurrentFinancialLiabilities</td>\n      <td>기타비유동금융부채</td>\n      <td>Other non-current financial liabilities</td>\n      <td>재무상태표 [abstract]</td>\n      <td>부채 [abstract]</td>\n      <td>비유동부채</td>\n      <td>기타비유동금융부채</td>\n      <td>91388562</td>\n      <td>15384916</td>\n      <td>91779665</td>\n    </tr>\n    <tr>\n      <th>33</th>\n      <td>31.0</td>\n      <td>ifrs-full_Liabilities</td>\n      <td>부채총계</td>\n      <td>Total liabilities</td>\n      <td>재무상태표 [abstract]</td>\n      <td>부채 [abstract]</td>\n      <td>부채총계</td>\n      <td>NaN</td>\n      <td>30151059425</td>\n      <td>29744982108</td>\n      <td>28029991793</td>\n    </tr>\n    <tr>\n      <th>34</th>\n      <td>32.0</td>\n      <td>ifrs-full_EquityAttributableToOwnersOfParent</td>\n      <td>지배기업의 소유주에게 귀속되는 자본</td>\n      <td>Equity attributable to owners of parent</td>\n      <td>재무상태표 [abstract]</td>\n      <td>자본 [abstract]</td>\n      <td>지배기업의 소유주에게 귀속되는 자본</td>\n      <td>NaN</td>\n      <td>36731351801</td>\n      <td>38857464502</td>\n      <td>39020133098</td>\n    </tr>\n    <tr>\n      <th>35</th>\n      <td>33.0</td>\n      <td>ifrs-full_IssuedCapital</td>\n      <td>자본금</td>\n      <td>Issued capital</td>\n      <td>재무상태표 [abstract]</td>\n      <td>자본 [abstract]</td>\n      <td>지배기업의 소유주에게 귀속되는 자본</td>\n      <td>자본금</td>\n      <td>6849238000</td>\n      <td>6849238000</td>\n      <td>6849238000</td>\n    </tr>\n    <tr>\n      <th>36</th>\n      <td>34.0</td>\n      <td>dart_CapitalSurplus</td>\n      <td>자본잉여금</td>\n      <td>Capital surplus</td>\n      <td>재무상태표 [abstract]</td>\n      <td>자본 [abstract]</td>\n      <td>지배기업의 소유주에게 귀속되는 자본</td>\n      <td>자본잉여금</td>\n      <td>12786804312</td>\n      <td>12786804312</td>\n      <td>12786804312</td>\n    </tr>\n    <tr>\n      <th>37</th>\n      <td>35.0</td>\n      <td>dart_ElementsOfOtherStockholdersEquity</td>\n      <td>기타자본구성요소</td>\n      <td>Elements of other stockholder's equity</td>\n      <td>재무상태표 [abstract]</td>\n      <td>자본 [abstract]</td>\n      <td>지배기업의 소유주에게 귀속되는 자본</td>\n      <td>기타자본구성요소</td>\n      <td>135834408</td>\n      <td>135834408</td>\n      <td>120061283</td>\n    </tr>\n    <tr>\n      <th>38</th>\n      <td>36.0</td>\n      <td>dart_OtherComprehensiveIncomeLossAccumulatedAm...</td>\n      <td>기타포괄손익누계액</td>\n      <td>Other Comprehensive income/loss accumulated am...</td>\n      <td>재무상태표 [abstract]</td>\n      <td>자본 [abstract]</td>\n      <td>지배기업의 소유주에게 귀속되는 자본</td>\n      <td>기타포괄손익누계액</td>\n      <td>-1540627884</td>\n      <td>-248627183</td>\n      <td>-296048450</td>\n    </tr>\n    <tr>\n      <th>39</th>\n      <td>37.0</td>\n      <td>ifrs-full_RetainedEarnings</td>\n      <td>이익잉여금(결손금)</td>\n      <td>Retained earnings</td>\n      <td>재무상태표 [abstract]</td>\n      <td>자본 [abstract]</td>\n      <td>지배기업의 소유주에게 귀속되는 자본</td>\n      <td>이익잉여금(결손금)</td>\n      <td>18500102965</td>\n      <td>19334214965</td>\n      <td>19560077953</td>\n    </tr>\n    <tr>\n      <th>40</th>\n      <td>38.0</td>\n      <td>ifrs-full_NoncontrollingInterests</td>\n      <td>비지배지분</td>\n      <td>Non-controlling interests</td>\n      <td>재무상태표 [abstract]</td>\n      <td>자본 [abstract]</td>\n      <td>비지배지분</td>\n      <td>NaN</td>\n      <td>0</td>\n      <td>0</td>\n      <td>0</td>\n    </tr>\n    <tr>\n      <th>41</th>\n      <td>39.0</td>\n      <td>ifrs-full_Equity</td>\n      <td>자본총계</td>\n      <td>Total equity</td>\n      <td>재무상태표 [abstract]</td>\n      <td>자본 [abstract]</td>\n      <td>자본총계</td>\n      <td>NaN</td>\n      <td>36731351801</td>\n      <td>38857464502</td>\n      <td>39020133098</td>\n    </tr>\n    <tr>\n      <th>42</th>\n      <td>40.0</td>\n      <td>ifrs-full_EquityAndLiabilities</td>\n      <td>자본과부채총계</td>\n      <td>Total equity and liabilities</td>\n      <td>재무상태표 [abstract]</td>\n      <td>자본과부채총계</td>\n      <td>NaN</td>\n      <td>NaN</td>\n      <td>66882411226</td>\n      <td>68602446610</td>\n      <td>67050124891</td>\n    </tr>\n  </tbody>\n</table>\n</div>",
      "text/plain": "    Unnamed: 0  \\\n0          NaN   \n1          NaN   \n2          0.0   \n3          1.0   \n4          2.0   \n5          3.0   \n6          4.0   \n7          5.0   \n8          6.0   \n9          7.0   \n10         8.0   \n11         9.0   \n12        10.0   \n13        11.0   \n14        12.0   \n15        13.0   \n16        14.0   \n17        15.0   \n18        16.0   \n19        17.0   \n20        18.0   \n21        19.0   \n22        20.0   \n23        21.0   \n24        22.0   \n25        23.0   \n26        24.0   \n27        25.0   \n28        26.0   \n29        27.0   \n30        28.0   \n31        29.0   \n32        30.0   \n33        31.0   \n34        32.0   \n35        33.0   \n36        34.0   \n37        35.0   \n38        36.0   \n39        37.0   \n40        38.0   \n41        39.0   \n42        40.0   \n\n   [D210000] Statement of financial position, current/non-current - Consolidated financial statements (Unit: KRW)  \\\n0                                          concept_id                                                               \n1                                                 NaN                                                               \n2                             ifrs-full_CurrentAssets                                                               \n3                    ifrs-full_CashAndCashEquivalents                                                               \n4           ifrs-full_TradeAndOtherCurrentReceivables                                                               \n5               ifrs-full_OtherCurrentFinancialAssets                                                               \n6                             dart_OtherCurrentAssets                                                               \n7                               ifrs-full_Inventories                                                               \n8                          ifrs-full_NoncurrentAssets                                                               \n9            ifrs-full_OtherNoncurrentFinancialAssets                                                               \n10                ifrs-full_PropertyPlantAndEquipment                                                               \n11                                 dart_GoodwillGross                                                               \n12        ifrs-full_IntangibleAssetsOtherThanGoodwill                                                               \n13                         dart_OtherNonCurrentAssets                                                               \n14                         ifrs-full_RightofuseAssets                                                               \n15  ifrs-full_NoncurrentFinancialAssetsMeasuredAtF...                                                               \n16                       ifrs-full_InvestmentProperty                                                               \n17                        ifrs-full_DeferredTaxAssets                                                               \n18                                   ifrs-full_Assets                                                               \n19                       ifrs-full_CurrentLiabilities                                                               \n20             ifrs-full_TradeAndOtherCurrentPayables                                                               \n21         ifrs-full_OtherCurrentFinancialLiabilities                                                               \n22                       dart_OtherCurrentLiabilities                                                               \n23                    ifrs-full_CurrentTaxLiabilities                                                               \n24       ifrs-full_CurrentPortionOfLongtermBorrowings                                                               \n25              dart_CurrentPortionOfConvertibleBonds                                                               \n26                  ifrs-full_CurrentLeaseLiabilities                                                               \n27                      ifrs-full_ShorttermBorrowings                                                               \n28                    ifrs-full_NoncurrentLiabilities                                                               \n29                       dart_LongTermBorrowingsGross                                                               \n30               ifrs-full_NoncurrentLeaseLiabilities                                                               \n31                              dart_ConvertibleBonds                                                               \n32      ifrs-full_OtherNoncurrentFinancialLiabilities                                                               \n33                              ifrs-full_Liabilities                                                               \n34       ifrs-full_EquityAttributableToOwnersOfParent                                                               \n35                            ifrs-full_IssuedCapital                                                               \n36                                dart_CapitalSurplus                                                               \n37             dart_ElementsOfOtherStockholdersEquity                                                               \n38  dart_OtherComprehensiveIncomeLossAccumulatedAm...                                                               \n39                         ifrs-full_RetainedEarnings                                                               \n40                  ifrs-full_NoncontrollingInterests                                                               \n41                                   ifrs-full_Equity                                                               \n42                     ifrs-full_EquityAndLiabilities                                                               \n\n                 Unnamed: 2  \\\n0                  label_ko   \n1                       NaN   \n2                      유동자산   \n3                  현금및현금성자산   \n4             매출채권 및 기타유동채권   \n5                  기타유동금융자산   \n6                    기타유동자산   \n7                      재고자산   \n8                     비유동자산   \n9                 기타비유동금융자산   \n10                     유형자산   \n11                      영업권   \n12             영업권 이외의 무형자산   \n13                  기타비유동자산   \n14                    사용권자산   \n15  비유동 기타포괄손익-공정가치 측정 금융자산   \n16                    투자부동산   \n17                  이연법인세자산   \n18                     자산총계   \n19                     유동부채   \n20            매입채무 및 기타유동채무   \n21                 기타유동금융부채   \n22                   기타유동부채   \n23                  당기법인세부채   \n24                 유동성장기차입금   \n25                  유동성전환사채   \n26                   유동리스부채   \n27                    단기차입금   \n28                    비유동부채   \n29                    장기차입금   \n30                  비유동리스부채   \n31                     전환사채   \n32                기타비유동금융부채   \n33                     부채총계   \n34      지배기업의 소유주에게 귀속되는 자본   \n35                      자본금   \n36                    자본잉여금   \n37                 기타자본구성요소   \n38                기타포괄손익누계액   \n39               이익잉여금(결손금)   \n40                    비지배지분   \n41                     자본총계   \n42                  자본과부채총계   \n\n                                           Unnamed: 3        Unnamed: 4  \\\n0                                            label_en            class0   \n1                                                 NaN               NaN   \n2                                      Current assets  재무상태표 [abstract]   \n3                           Cash and cash equivalents  재무상태표 [abstract]   \n4                 Trade and other current receivables  재무상태표 [abstract]   \n5                      Other current financial assets  재무상태표 [abstract]   \n6                                Other current assets  재무상태표 [abstract]   \n7                                         Inventories  재무상태표 [abstract]   \n8                                  Non-current assets  재무상태표 [abstract]   \n9                  Other non-current financial assets  재무상태표 [abstract]   \n10                      Property, plant and equipment  재무상태표 [abstract]   \n11                                    Goodwill, gross  재무상태표 [abstract]   \n12              Intangible assets other than goodwill  재무상태표 [abstract]   \n13                           Other non-current assets  재무상태표 [abstract]   \n14                                Right-of-use assets  재무상태표 [abstract]   \n15  Non-current financial assets measured at fair ...  재무상태표 [abstract]   \n16                                Investment property  재무상태표 [abstract]   \n17                                Deferred tax assets  재무상태표 [abstract]   \n18                                       Total assets  재무상태표 [abstract]   \n19                                Current liabilities  재무상태표 [abstract]   \n20                   Trade and other current payables  재무상태표 [abstract]   \n21                Other current financial liabilities  재무상태표 [abstract]   \n22                          Other current liabilities  재무상태표 [abstract]   \n23                            Current tax liabilities  재무상태표 [abstract]   \n24            Current portion of long-term borrowings  재무상태표 [abstract]   \n25               Current portion of convertible bonds  재무상태표 [abstract]   \n26                          Current lease liabilities  재무상태표 [abstract]   \n27                              Short-term borrowings  재무상태표 [abstract]   \n28                            Non-current liabilities  재무상태표 [abstract]   \n29                        Long-term borrowings, gross  재무상태표 [abstract]   \n30                      Non-current lease liabilities  재무상태표 [abstract]   \n31                                  Convertible bonds  재무상태표 [abstract]   \n32            Other non-current financial liabilities  재무상태표 [abstract]   \n33                                  Total liabilities  재무상태표 [abstract]   \n34            Equity attributable to owners of parent  재무상태표 [abstract]   \n35                                     Issued capital  재무상태표 [abstract]   \n36                                    Capital surplus  재무상태표 [abstract]   \n37             Elements of other stockholder's equity  재무상태표 [abstract]   \n38  Other Comprehensive income/loss accumulated am...  재무상태표 [abstract]   \n39                                  Retained earnings  재무상태표 [abstract]   \n40                          Non-controlling interests  재무상태표 [abstract]   \n41                                       Total equity  재무상태표 [abstract]   \n42                       Total equity and liabilities  재무상태표 [abstract]   \n\n       Unnamed: 5           Unnamed: 6               Unnamed: 7     20201231  \\\n0          class1               class2                   class3  ('연결재무제표',)   \n1             NaN                  NaN                      NaN          NaN   \n2   자산 [abstract]                 유동자산                      NaN  30902172993   \n3   자산 [abstract]                 유동자산                 현금및현금성자산  10642254874   \n4   자산 [abstract]                 유동자산            매출채권 및 기타유동채권   4115531900   \n5   자산 [abstract]                 유동자산                 기타유동금융자산   2874607924   \n6   자산 [abstract]                 유동자산                   기타유동자산   3155386430   \n7   자산 [abstract]                 유동자산                     재고자산  10114391865   \n8   자산 [abstract]                비유동자산                      NaN  35980238233   \n9   자산 [abstract]                비유동자산                기타비유동금융자산    578195184   \n10  자산 [abstract]                비유동자산                     유형자산  25344779572   \n11  자산 [abstract]                비유동자산                      영업권    412589419   \n12  자산 [abstract]                비유동자산             영업권 이외의 무형자산    714161775   \n13  자산 [abstract]                비유동자산                  기타비유동자산    958263171   \n14  자산 [abstract]                비유동자산                    사용권자산    139959368   \n15  자산 [abstract]                비유동자산  비유동 기타포괄손익-공정가치 측정 금융자산    283824740   \n16  자산 [abstract]                비유동자산                    투자부동산   7060031769   \n17  자산 [abstract]                비유동자산                  이연법인세자산    488433235   \n18  자산 [abstract]                 자산총계                      NaN  66882411226   \n19  부채 [abstract]                 유동부채                      NaN  28015838796   \n20  부채 [abstract]                 유동부채            매입채무 및 기타유동채무   1095087344   \n21  부채 [abstract]                 유동부채                 기타유동금융부채   1550251080   \n22  부채 [abstract]                 유동부채                   기타유동부채    216595219   \n23  부채 [abstract]                 유동부채                  당기법인세부채     28050600   \n24  부채 [abstract]                 유동부채                 유동성장기차입금  11860000000   \n25  부채 [abstract]                 유동부채                  유동성전환사채   2000000000   \n26  부채 [abstract]                 유동부채                   유동리스부채     72408418   \n27  부채 [abstract]                 유동부채                    단기차입금  11193446135   \n28  부채 [abstract]                비유동부채                      NaN   2135220629   \n29  부채 [abstract]                비유동부채                    장기차입금   1972812538   \n30  부채 [abstract]                비유동부채                  비유동리스부채     71019529   \n31  부채 [abstract]                비유동부채                     전환사채            0   \n32  부채 [abstract]                비유동부채                기타비유동금융부채     91388562   \n33  부채 [abstract]                 부채총계                      NaN  30151059425   \n34  자본 [abstract]  지배기업의 소유주에게 귀속되는 자본                      NaN  36731351801   \n35  자본 [abstract]  지배기업의 소유주에게 귀속되는 자본                      자본금   6849238000   \n36  자본 [abstract]  지배기업의 소유주에게 귀속되는 자본                    자본잉여금  12786804312   \n37  자본 [abstract]  지배기업의 소유주에게 귀속되는 자본                 기타자본구성요소    135834408   \n38  자본 [abstract]  지배기업의 소유주에게 귀속되는 자본                기타포괄손익누계액  -1540627884   \n39  자본 [abstract]  지배기업의 소유주에게 귀속되는 자본               이익잉여금(결손금)  18500102965   \n40  자본 [abstract]                비지배지분                      NaN            0   \n41  자본 [abstract]                 자본총계                      NaN  36731351801   \n42        자본과부채총계                  NaN                      NaN  66882411226   \n\n       20191231     20181231  \n0   ('연결재무제표',)  ('연결재무제표',)  \n1           NaN          NaN  \n2   29463001719  26879361054  \n3   12751896086  11156965169  \n4    3255674800   5226871383  \n5     567310486    268934144  \n6    2804867842   2118222413  \n7   10083252505   8108367945  \n8   39139444891  40170763837  \n9     414333937    162712204  \n10  29140825826  27536289384  \n11    412589419    412589419  \n12   1315278530   1593116788  \n13    973010248   3494152653  \n14    109867802            0  \n15    283559060    282460700  \n16   5996786052   6279819640  \n17    493194017    409623049  \n18  68602446610  67050124891  \n19  24757263714  25779107628  \n20   1371320468   1586240441  \n21   1284617747   1238055852  \n22    153571991     80195569  \n23    225353410    399165070  \n24  11540000000  12750000000  \n25            0   2000000000  \n26     57324845            0  \n27  10125075253   7725450696  \n28   4987718394   2250884165  \n29   2917825000   2159104500  \n30     54508478            0  \n31   2000000000            0  \n32     15384916     91779665  \n33  29744982108  28029991793  \n34  38857464502  39020133098  \n35   6849238000   6849238000  \n36  12786804312  12786804312  \n37    135834408    120061283  \n38   -248627183   -296048450  \n39  19334214965  19560077953  \n40            0            0  \n41  38857464502  39020133098  \n42  68602446610  67050124891  "
     },
     "execution_count": 78,
     "metadata": {},
     "output_type": "execute_result"
    }
   ],
   "source": [
    "pd.read_excel(\"fsdata/00864338_annual.xlsx\")"
   ]
  },
  {
   "cell_type": "code",
   "execution_count": null,
   "metadata": {},
   "outputs": [],
   "source": []
  }
 ],
 "metadata": {
  "kernelspec": {
   "display_name": "Python 3.7.11 64-bit ('pps_contest': conda)",
   "name": "python3711jvsc74a57bd051e87079055386d7599d73cd90bf6afde8aeca8c87966e85f49f3974d610e6d0"
  },
  "language_info": {
   "codemirror_mode": {
    "name": "ipython",
    "version": 3
   },
   "file_extension": ".py",
   "mimetype": "text/x-python",
   "name": "python",
   "nbconvert_exporter": "python",
   "pygments_lexer": "ipython3",
   "version": "3.7.12"
  },
  "orig_nbformat": 2
 },
 "nbformat": 4,
 "nbformat_minor": 2
}